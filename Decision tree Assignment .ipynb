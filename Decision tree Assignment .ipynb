{
 "cells": [
  {
   "cell_type": "markdown",
   "metadata": {},
   "source": [
    "# Applying Decision tree algorithm on amazon fine food Reviews dataset"
   ]
  },
  {
   "cell_type": "markdown",
   "metadata": {},
   "source": [
    "The Amazon Fine Food Reviews dataset consists of reviews of fine foods from Amazon.\n",
    "\n",
    "Number of reviews: 568,454\n",
    "Number of users: 256,059\n",
    "Number of products: 74,258\n",
    "Timespan: Oct 1999 - Oct 2012\n",
    "Number of Attributes/Columns in data: 10\n",
    "\n",
    "Attribute Information:\n",
    "\n",
    "Id\n",
    "* ProductId - unique identifier for the product\n",
    "* UserId - unqiue identifier for the user\n",
    "* ProfileName\n",
    "* HelpfulnessNumerator - number of users who found the review helpful\n",
    "* HelpfulnessDenominator - number of users who indicated whether they found the review helpful or not\n",
    "* Score - rating between 1 and 5\n",
    "* Time - timestamp for the review\n",
    "* Summary - brief summary of the review\n",
    "* Text - text of the review"
   ]
  },
  {
   "cell_type": "markdown",
   "metadata": {},
   "source": [
    "<b>Disclaimer :</b>\n",
    "* I have trained all the brute force models with 40K Data points, But since I have only 4GB RAM I have trained kd_tree models with 3K points and tfidf W2V model with 10K points"
   ]
  },
  {
   "cell_type": "markdown",
   "metadata": {},
   "source": [
    "# Data Preprocessing"
   ]
  },
  {
   "cell_type": "code",
   "execution_count": 1,
   "metadata": {},
   "outputs": [
    {
     "name": "stderr",
     "output_type": "stream",
     "text": [
      "/home/gateway/home/gateway/anaconda/lib/python3.6/site-packages/sklearn/cross_validation.py:41: DeprecationWarning: This module was deprecated in version 0.18 in favor of the model_selection module into which all the refactored classes and functions are moved. Also note that the interface of the new CV iterators are different from that of this module. This module will be removed in 0.20.\n",
      "  \"This module will be removed in 0.20.\", DeprecationWarning)\n"
     ]
    }
   ],
   "source": [
    "%matplotlib inline\n",
    "\n",
    "import numpy as np\n",
    "import pandas as pd\n",
    "import matplotlib.pyplot as plt\n",
    "from sklearn.cross_validation import train_test_split\n",
    "from sklearn.model_selection import GridSearchCV\n",
    "from sklearn.metrics import accuracy_score\n",
    "from sklearn.cross_validation import cross_val_score\n",
    "from collections import Counter\n",
    "from sklearn.metrics import accuracy_score\n",
    "from sklearn import cross_validation\n",
    "from sklearn.preprocessing import Imputer\n",
    "import sqlite3\n",
    "import pandas as pd\n",
    "import numpy as np\n",
    "import nltk\n",
    "import string\n",
    "import matplotlib.pyplot as plt\n",
    "import seaborn as sns\n",
    "from sklearn.tree import DecisionTreeClassifier\n",
    "from sklearn.feature_extraction.text import TfidfTransformer\n",
    "from sklearn.feature_extraction.text import TfidfVectorizer\n",
    "from sklearn.feature_extraction.text import CountVectorizer\n",
    "from sklearn.metrics import confusion_matrix\n",
    "from sklearn import metrics\n",
    "from sklearn.metrics import roc_curve, auc\n",
    "from nltk.stem.porter import PorterStemmer\n",
    "\n",
    "con = sqlite3.connect('./amazon-fine-food-reviews/database.sqlite') \n",
    "\n",
    "filtered_data = pd.read_sql_query(\"\"\"\n",
    "SELECT *\n",
    "FROM Reviews\n",
    "WHERE Score != 3\n",
    "\"\"\", con) \n",
    "\n",
    "\n",
    "def partition(x):\n",
    "    if x < 3:\n",
    "        return 'negative'\n",
    "    return 'positive'\n",
    "\n",
    "actualScore = filtered_data['Score']\n",
    "positiveNegative = actualScore.map(partition) \n",
    "filtered_data['Score'] = positiveNegative"
   ]
  },
  {
   "cell_type": "code",
   "execution_count": 2,
   "metadata": {},
   "outputs": [
    {
     "data": {
      "text/html": [
       "<div>\n",
       "<style scoped>\n",
       "    .dataframe tbody tr th:only-of-type {\n",
       "        vertical-align: middle;\n",
       "    }\n",
       "\n",
       "    .dataframe tbody tr th {\n",
       "        vertical-align: top;\n",
       "    }\n",
       "\n",
       "    .dataframe thead th {\n",
       "        text-align: right;\n",
       "    }\n",
       "</style>\n",
       "<table border=\"1\" class=\"dataframe\">\n",
       "  <thead>\n",
       "    <tr style=\"text-align: right;\">\n",
       "      <th></th>\n",
       "      <th>Id</th>\n",
       "      <th>ProductId</th>\n",
       "      <th>UserId</th>\n",
       "      <th>ProfileName</th>\n",
       "      <th>HelpfulnessNumerator</th>\n",
       "      <th>HelpfulnessDenominator</th>\n",
       "      <th>Score</th>\n",
       "      <th>Time</th>\n",
       "      <th>Summary</th>\n",
       "      <th>Text</th>\n",
       "    </tr>\n",
       "  </thead>\n",
       "  <tbody>\n",
       "    <tr>\n",
       "      <th>0</th>\n",
       "      <td>1</td>\n",
       "      <td>B001E4KFG0</td>\n",
       "      <td>A3SGXH7AUHU8GW</td>\n",
       "      <td>delmartian</td>\n",
       "      <td>1</td>\n",
       "      <td>1</td>\n",
       "      <td>positive</td>\n",
       "      <td>1303862400</td>\n",
       "      <td>Good Quality Dog Food</td>\n",
       "      <td>I have bought several of the Vitality canned d...</td>\n",
       "    </tr>\n",
       "    <tr>\n",
       "      <th>1</th>\n",
       "      <td>2</td>\n",
       "      <td>B00813GRG4</td>\n",
       "      <td>A1D87F6ZCVE5NK</td>\n",
       "      <td>dll pa</td>\n",
       "      <td>0</td>\n",
       "      <td>0</td>\n",
       "      <td>negative</td>\n",
       "      <td>1346976000</td>\n",
       "      <td>Not as Advertised</td>\n",
       "      <td>Product arrived labeled as Jumbo Salted Peanut...</td>\n",
       "    </tr>\n",
       "    <tr>\n",
       "      <th>2</th>\n",
       "      <td>3</td>\n",
       "      <td>B000LQOCH0</td>\n",
       "      <td>ABXLMWJIXXAIN</td>\n",
       "      <td>Natalia Corres \"Natalia Corres\"</td>\n",
       "      <td>1</td>\n",
       "      <td>1</td>\n",
       "      <td>positive</td>\n",
       "      <td>1219017600</td>\n",
       "      <td>\"Delight\" says it all</td>\n",
       "      <td>This is a confection that has been around a fe...</td>\n",
       "    </tr>\n",
       "    <tr>\n",
       "      <th>3</th>\n",
       "      <td>4</td>\n",
       "      <td>B000UA0QIQ</td>\n",
       "      <td>A395BORC6FGVXV</td>\n",
       "      <td>Karl</td>\n",
       "      <td>3</td>\n",
       "      <td>3</td>\n",
       "      <td>negative</td>\n",
       "      <td>1307923200</td>\n",
       "      <td>Cough Medicine</td>\n",
       "      <td>If you are looking for the secret ingredient i...</td>\n",
       "    </tr>\n",
       "    <tr>\n",
       "      <th>4</th>\n",
       "      <td>5</td>\n",
       "      <td>B006K2ZZ7K</td>\n",
       "      <td>A1UQRSCLF8GW1T</td>\n",
       "      <td>Michael D. Bigham \"M. Wassir\"</td>\n",
       "      <td>0</td>\n",
       "      <td>0</td>\n",
       "      <td>positive</td>\n",
       "      <td>1350777600</td>\n",
       "      <td>Great taffy</td>\n",
       "      <td>Great taffy at a great price.  There was a wid...</td>\n",
       "    </tr>\n",
       "    <tr>\n",
       "      <th>5</th>\n",
       "      <td>6</td>\n",
       "      <td>B006K2ZZ7K</td>\n",
       "      <td>ADT0SRK1MGOEU</td>\n",
       "      <td>Twoapennything</td>\n",
       "      <td>0</td>\n",
       "      <td>0</td>\n",
       "      <td>positive</td>\n",
       "      <td>1342051200</td>\n",
       "      <td>Nice Taffy</td>\n",
       "      <td>I got a wild hair for taffy and ordered this f...</td>\n",
       "    </tr>\n",
       "    <tr>\n",
       "      <th>6</th>\n",
       "      <td>7</td>\n",
       "      <td>B006K2ZZ7K</td>\n",
       "      <td>A1SP2KVKFXXRU1</td>\n",
       "      <td>David C. Sullivan</td>\n",
       "      <td>0</td>\n",
       "      <td>0</td>\n",
       "      <td>positive</td>\n",
       "      <td>1340150400</td>\n",
       "      <td>Great!  Just as good as the expensive brands!</td>\n",
       "      <td>This saltwater taffy had great flavors and was...</td>\n",
       "    </tr>\n",
       "    <tr>\n",
       "      <th>7</th>\n",
       "      <td>8</td>\n",
       "      <td>B006K2ZZ7K</td>\n",
       "      <td>A3JRGQVEQN31IQ</td>\n",
       "      <td>Pamela G. Williams</td>\n",
       "      <td>0</td>\n",
       "      <td>0</td>\n",
       "      <td>positive</td>\n",
       "      <td>1336003200</td>\n",
       "      <td>Wonderful, tasty taffy</td>\n",
       "      <td>This taffy is so good.  It is very soft and ch...</td>\n",
       "    </tr>\n",
       "    <tr>\n",
       "      <th>8</th>\n",
       "      <td>9</td>\n",
       "      <td>B000E7L2R4</td>\n",
       "      <td>A1MZYO9TZK0BBI</td>\n",
       "      <td>R. James</td>\n",
       "      <td>1</td>\n",
       "      <td>1</td>\n",
       "      <td>positive</td>\n",
       "      <td>1322006400</td>\n",
       "      <td>Yay Barley</td>\n",
       "      <td>Right now I'm mostly just sprouting this so my...</td>\n",
       "    </tr>\n",
       "    <tr>\n",
       "      <th>9</th>\n",
       "      <td>10</td>\n",
       "      <td>B00171APVA</td>\n",
       "      <td>A21BT40VZCCYT4</td>\n",
       "      <td>Carol A. Reed</td>\n",
       "      <td>0</td>\n",
       "      <td>0</td>\n",
       "      <td>positive</td>\n",
       "      <td>1351209600</td>\n",
       "      <td>Healthy Dog Food</td>\n",
       "      <td>This is a very healthy dog food. Good for thei...</td>\n",
       "    </tr>\n",
       "  </tbody>\n",
       "</table>\n",
       "</div>"
      ],
      "text/plain": [
       "   Id   ProductId          UserId                      ProfileName  \\\n",
       "0   1  B001E4KFG0  A3SGXH7AUHU8GW                       delmartian   \n",
       "1   2  B00813GRG4  A1D87F6ZCVE5NK                           dll pa   \n",
       "2   3  B000LQOCH0   ABXLMWJIXXAIN  Natalia Corres \"Natalia Corres\"   \n",
       "3   4  B000UA0QIQ  A395BORC6FGVXV                             Karl   \n",
       "4   5  B006K2ZZ7K  A1UQRSCLF8GW1T    Michael D. Bigham \"M. Wassir\"   \n",
       "5   6  B006K2ZZ7K   ADT0SRK1MGOEU                   Twoapennything   \n",
       "6   7  B006K2ZZ7K  A1SP2KVKFXXRU1                David C. Sullivan   \n",
       "7   8  B006K2ZZ7K  A3JRGQVEQN31IQ               Pamela G. Williams   \n",
       "8   9  B000E7L2R4  A1MZYO9TZK0BBI                         R. James   \n",
       "9  10  B00171APVA  A21BT40VZCCYT4                    Carol A. Reed   \n",
       "\n",
       "   HelpfulnessNumerator  HelpfulnessDenominator     Score        Time  \\\n",
       "0                     1                       1  positive  1303862400   \n",
       "1                     0                       0  negative  1346976000   \n",
       "2                     1                       1  positive  1219017600   \n",
       "3                     3                       3  negative  1307923200   \n",
       "4                     0                       0  positive  1350777600   \n",
       "5                     0                       0  positive  1342051200   \n",
       "6                     0                       0  positive  1340150400   \n",
       "7                     0                       0  positive  1336003200   \n",
       "8                     1                       1  positive  1322006400   \n",
       "9                     0                       0  positive  1351209600   \n",
       "\n",
       "                                         Summary  \\\n",
       "0                          Good Quality Dog Food   \n",
       "1                              Not as Advertised   \n",
       "2                          \"Delight\" says it all   \n",
       "3                                 Cough Medicine   \n",
       "4                                    Great taffy   \n",
       "5                                     Nice Taffy   \n",
       "6  Great!  Just as good as the expensive brands!   \n",
       "7                         Wonderful, tasty taffy   \n",
       "8                                     Yay Barley   \n",
       "9                               Healthy Dog Food   \n",
       "\n",
       "                                                Text  \n",
       "0  I have bought several of the Vitality canned d...  \n",
       "1  Product arrived labeled as Jumbo Salted Peanut...  \n",
       "2  This is a confection that has been around a fe...  \n",
       "3  If you are looking for the secret ingredient i...  \n",
       "4  Great taffy at a great price.  There was a wid...  \n",
       "5  I got a wild hair for taffy and ordered this f...  \n",
       "6  This saltwater taffy had great flavors and was...  \n",
       "7  This taffy is so good.  It is very soft and ch...  \n",
       "8  Right now I'm mostly just sprouting this so my...  \n",
       "9  This is a very healthy dog food. Good for thei...  "
      ]
     },
     "execution_count": 2,
     "metadata": {},
     "output_type": "execute_result"
    }
   ],
   "source": [
    "filtered_data.shape\n",
    "filtered_data.head(10)"
   ]
  },
  {
   "cell_type": "code",
   "execution_count": 3,
   "metadata": {},
   "outputs": [
    {
     "data": {
      "text/html": [
       "<div>\n",
       "<style scoped>\n",
       "    .dataframe tbody tr th:only-of-type {\n",
       "        vertical-align: middle;\n",
       "    }\n",
       "\n",
       "    .dataframe tbody tr th {\n",
       "        vertical-align: top;\n",
       "    }\n",
       "\n",
       "    .dataframe thead th {\n",
       "        text-align: right;\n",
       "    }\n",
       "</style>\n",
       "<table border=\"1\" class=\"dataframe\">\n",
       "  <thead>\n",
       "    <tr style=\"text-align: right;\">\n",
       "      <th></th>\n",
       "      <th>Id</th>\n",
       "      <th>ProductId</th>\n",
       "      <th>UserId</th>\n",
       "      <th>ProfileName</th>\n",
       "      <th>HelpfulnessNumerator</th>\n",
       "      <th>HelpfulnessDenominator</th>\n",
       "      <th>Score</th>\n",
       "      <th>Time</th>\n",
       "      <th>Summary</th>\n",
       "      <th>Text</th>\n",
       "    </tr>\n",
       "  </thead>\n",
       "  <tbody>\n",
       "    <tr>\n",
       "      <th>0</th>\n",
       "      <td>78445</td>\n",
       "      <td>B000HDL1RQ</td>\n",
       "      <td>AR5J8UI46CURR</td>\n",
       "      <td>Geetha Krishnan</td>\n",
       "      <td>2</td>\n",
       "      <td>2</td>\n",
       "      <td>5</td>\n",
       "      <td>1199577600</td>\n",
       "      <td>LOACKER QUADRATINI VANILLA WAFERS</td>\n",
       "      <td>DELICIOUS WAFERS. I FIND THAT EUROPEAN WAFERS ...</td>\n",
       "    </tr>\n",
       "    <tr>\n",
       "      <th>1</th>\n",
       "      <td>138317</td>\n",
       "      <td>B000HDOPYC</td>\n",
       "      <td>AR5J8UI46CURR</td>\n",
       "      <td>Geetha Krishnan</td>\n",
       "      <td>2</td>\n",
       "      <td>2</td>\n",
       "      <td>5</td>\n",
       "      <td>1199577600</td>\n",
       "      <td>LOACKER QUADRATINI VANILLA WAFERS</td>\n",
       "      <td>DELICIOUS WAFERS. I FIND THAT EUROPEAN WAFERS ...</td>\n",
       "    </tr>\n",
       "    <tr>\n",
       "      <th>2</th>\n",
       "      <td>138277</td>\n",
       "      <td>B000HDOPYM</td>\n",
       "      <td>AR5J8UI46CURR</td>\n",
       "      <td>Geetha Krishnan</td>\n",
       "      <td>2</td>\n",
       "      <td>2</td>\n",
       "      <td>5</td>\n",
       "      <td>1199577600</td>\n",
       "      <td>LOACKER QUADRATINI VANILLA WAFERS</td>\n",
       "      <td>DELICIOUS WAFERS. I FIND THAT EUROPEAN WAFERS ...</td>\n",
       "    </tr>\n",
       "    <tr>\n",
       "      <th>3</th>\n",
       "      <td>73791</td>\n",
       "      <td>B000HDOPZG</td>\n",
       "      <td>AR5J8UI46CURR</td>\n",
       "      <td>Geetha Krishnan</td>\n",
       "      <td>2</td>\n",
       "      <td>2</td>\n",
       "      <td>5</td>\n",
       "      <td>1199577600</td>\n",
       "      <td>LOACKER QUADRATINI VANILLA WAFERS</td>\n",
       "      <td>DELICIOUS WAFERS. I FIND THAT EUROPEAN WAFERS ...</td>\n",
       "    </tr>\n",
       "    <tr>\n",
       "      <th>4</th>\n",
       "      <td>155049</td>\n",
       "      <td>B000PAQ75C</td>\n",
       "      <td>AR5J8UI46CURR</td>\n",
       "      <td>Geetha Krishnan</td>\n",
       "      <td>2</td>\n",
       "      <td>2</td>\n",
       "      <td>5</td>\n",
       "      <td>1199577600</td>\n",
       "      <td>LOACKER QUADRATINI VANILLA WAFERS</td>\n",
       "      <td>DELICIOUS WAFERS. I FIND THAT EUROPEAN WAFERS ...</td>\n",
       "    </tr>\n",
       "  </tbody>\n",
       "</table>\n",
       "</div>"
      ],
      "text/plain": [
       "       Id   ProductId         UserId      ProfileName  HelpfulnessNumerator  \\\n",
       "0   78445  B000HDL1RQ  AR5J8UI46CURR  Geetha Krishnan                     2   \n",
       "1  138317  B000HDOPYC  AR5J8UI46CURR  Geetha Krishnan                     2   \n",
       "2  138277  B000HDOPYM  AR5J8UI46CURR  Geetha Krishnan                     2   \n",
       "3   73791  B000HDOPZG  AR5J8UI46CURR  Geetha Krishnan                     2   \n",
       "4  155049  B000PAQ75C  AR5J8UI46CURR  Geetha Krishnan                     2   \n",
       "\n",
       "   HelpfulnessDenominator  Score        Time  \\\n",
       "0                       2      5  1199577600   \n",
       "1                       2      5  1199577600   \n",
       "2                       2      5  1199577600   \n",
       "3                       2      5  1199577600   \n",
       "4                       2      5  1199577600   \n",
       "\n",
       "                             Summary  \\\n",
       "0  LOACKER QUADRATINI VANILLA WAFERS   \n",
       "1  LOACKER QUADRATINI VANILLA WAFERS   \n",
       "2  LOACKER QUADRATINI VANILLA WAFERS   \n",
       "3  LOACKER QUADRATINI VANILLA WAFERS   \n",
       "4  LOACKER QUADRATINI VANILLA WAFERS   \n",
       "\n",
       "                                                Text  \n",
       "0  DELICIOUS WAFERS. I FIND THAT EUROPEAN WAFERS ...  \n",
       "1  DELICIOUS WAFERS. I FIND THAT EUROPEAN WAFERS ...  \n",
       "2  DELICIOUS WAFERS. I FIND THAT EUROPEAN WAFERS ...  \n",
       "3  DELICIOUS WAFERS. I FIND THAT EUROPEAN WAFERS ...  \n",
       "4  DELICIOUS WAFERS. I FIND THAT EUROPEAN WAFERS ...  "
      ]
     },
     "execution_count": 3,
     "metadata": {},
     "output_type": "execute_result"
    }
   ],
   "source": [
    "display= pd.read_sql_query(\"\"\"\n",
    "SELECT *\n",
    "FROM Reviews\n",
    "WHERE Score != 3 AND UserId=\"AR5J8UI46CURR\"\n",
    "ORDER BY ProductID\n",
    "\"\"\", con)\n",
    "display"
   ]
  },
  {
   "cell_type": "code",
   "execution_count": 4,
   "metadata": {},
   "outputs": [],
   "source": [
    "sorted_data=filtered_data.sort_values('ProductId', axis=0, ascending=True, inplace=False, kind='quicksort', na_position='last')"
   ]
  },
  {
   "cell_type": "code",
   "execution_count": 5,
   "metadata": {},
   "outputs": [
    {
     "data": {
      "text/plain": [
       "(364173, 10)"
      ]
     },
     "execution_count": 5,
     "metadata": {},
     "output_type": "execute_result"
    }
   ],
   "source": [
    "final=sorted_data.drop_duplicates(subset={\"UserId\",\"ProfileName\",\"Time\",\"Text\"}, keep='first', inplace=False)\n",
    "final.shape"
   ]
  },
  {
   "cell_type": "code",
   "execution_count": 6,
   "metadata": {},
   "outputs": [
    {
     "data": {
      "text/plain": [
       "69.25890143662969"
      ]
     },
     "execution_count": 6,
     "metadata": {},
     "output_type": "execute_result"
    }
   ],
   "source": [
    "(final['Id'].size*1.0)/(filtered_data['Id'].size*1.0)*100"
   ]
  },
  {
   "cell_type": "code",
   "execution_count": 7,
   "metadata": {},
   "outputs": [
    {
     "data": {
      "text/html": [
       "<div>\n",
       "<style scoped>\n",
       "    .dataframe tbody tr th:only-of-type {\n",
       "        vertical-align: middle;\n",
       "    }\n",
       "\n",
       "    .dataframe tbody tr th {\n",
       "        vertical-align: top;\n",
       "    }\n",
       "\n",
       "    .dataframe thead th {\n",
       "        text-align: right;\n",
       "    }\n",
       "</style>\n",
       "<table border=\"1\" class=\"dataframe\">\n",
       "  <thead>\n",
       "    <tr style=\"text-align: right;\">\n",
       "      <th></th>\n",
       "      <th>Id</th>\n",
       "      <th>ProductId</th>\n",
       "      <th>UserId</th>\n",
       "      <th>ProfileName</th>\n",
       "      <th>HelpfulnessNumerator</th>\n",
       "      <th>HelpfulnessDenominator</th>\n",
       "      <th>Score</th>\n",
       "      <th>Time</th>\n",
       "      <th>Summary</th>\n",
       "      <th>Text</th>\n",
       "    </tr>\n",
       "  </thead>\n",
       "  <tbody>\n",
       "    <tr>\n",
       "      <th>0</th>\n",
       "      <td>64422</td>\n",
       "      <td>B000MIDROQ</td>\n",
       "      <td>A161DK06JJMCYF</td>\n",
       "      <td>J. E. Stephens \"Jeanne\"</td>\n",
       "      <td>3</td>\n",
       "      <td>1</td>\n",
       "      <td>5</td>\n",
       "      <td>1224892800</td>\n",
       "      <td>Bought This for My Son at College</td>\n",
       "      <td>My son loves spaghetti so I didn't hesitate or...</td>\n",
       "    </tr>\n",
       "    <tr>\n",
       "      <th>1</th>\n",
       "      <td>44737</td>\n",
       "      <td>B001EQ55RW</td>\n",
       "      <td>A2V0I904FH7ABY</td>\n",
       "      <td>Ram</td>\n",
       "      <td>3</td>\n",
       "      <td>2</td>\n",
       "      <td>4</td>\n",
       "      <td>1212883200</td>\n",
       "      <td>Pure cocoa taste with crunchy almonds inside</td>\n",
       "      <td>It was almost a 'love at first bite' - the per...</td>\n",
       "    </tr>\n",
       "  </tbody>\n",
       "</table>\n",
       "</div>"
      ],
      "text/plain": [
       "      Id   ProductId          UserId              ProfileName  \\\n",
       "0  64422  B000MIDROQ  A161DK06JJMCYF  J. E. Stephens \"Jeanne\"   \n",
       "1  44737  B001EQ55RW  A2V0I904FH7ABY                      Ram   \n",
       "\n",
       "   HelpfulnessNumerator  HelpfulnessDenominator  Score        Time  \\\n",
       "0                     3                       1      5  1224892800   \n",
       "1                     3                       2      4  1212883200   \n",
       "\n",
       "                                        Summary  \\\n",
       "0             Bought This for My Son at College   \n",
       "1  Pure cocoa taste with crunchy almonds inside   \n",
       "\n",
       "                                                Text  \n",
       "0  My son loves spaghetti so I didn't hesitate or...  \n",
       "1  It was almost a 'love at first bite' - the per...  "
      ]
     },
     "execution_count": 7,
     "metadata": {},
     "output_type": "execute_result"
    }
   ],
   "source": [
    "display= pd.read_sql_query(\"\"\"\n",
    "SELECT *\n",
    "FROM Reviews\n",
    "WHERE Score != 3 AND Id=44737 OR Id=64422\n",
    "ORDER BY ProductID\n",
    "\"\"\", con)\n",
    "display\n"
   ]
  },
  {
   "cell_type": "code",
   "execution_count": 8,
   "metadata": {},
   "outputs": [],
   "source": [
    "final=final[final.HelpfulnessNumerator<=final.HelpfulnessDenominator]\n"
   ]
  },
  {
   "cell_type": "code",
   "execution_count": 9,
   "metadata": {},
   "outputs": [
    {
     "name": "stdout",
     "output_type": "stream",
     "text": [
      "(364171, 10)\n"
     ]
    },
    {
     "data": {
      "text/plain": [
       "positive    307061\n",
       "negative     57110\n",
       "Name: Score, dtype: int64"
      ]
     },
     "execution_count": 9,
     "metadata": {},
     "output_type": "execute_result"
    }
   ],
   "source": [
    "print(final.shape)\n",
    "final['Score'].value_counts()"
   ]
  },
  {
   "cell_type": "code",
   "execution_count": 10,
   "metadata": {},
   "outputs": [],
   "source": [
    "final=final.sort_values(by='Time')"
   ]
  },
  {
   "cell_type": "code",
   "execution_count": 11,
   "metadata": {
    "scrolled": false
   },
   "outputs": [
    {
     "data": {
      "text/html": [
       "<div>\n",
       "<style scoped>\n",
       "    .dataframe tbody tr th:only-of-type {\n",
       "        vertical-align: middle;\n",
       "    }\n",
       "\n",
       "    .dataframe tbody tr th {\n",
       "        vertical-align: top;\n",
       "    }\n",
       "\n",
       "    .dataframe thead th {\n",
       "        text-align: right;\n",
       "    }\n",
       "</style>\n",
       "<table border=\"1\" class=\"dataframe\">\n",
       "  <thead>\n",
       "    <tr style=\"text-align: right;\">\n",
       "      <th></th>\n",
       "      <th>Id</th>\n",
       "      <th>ProductId</th>\n",
       "      <th>UserId</th>\n",
       "      <th>ProfileName</th>\n",
       "      <th>HelpfulnessNumerator</th>\n",
       "      <th>HelpfulnessDenominator</th>\n",
       "      <th>Time</th>\n",
       "      <th>Summary</th>\n",
       "      <th>Text</th>\n",
       "    </tr>\n",
       "  </thead>\n",
       "  <tbody>\n",
       "    <tr>\n",
       "      <th>138706</th>\n",
       "      <td>150524</td>\n",
       "      <td>0006641040</td>\n",
       "      <td>ACITT7DI6IDDL</td>\n",
       "      <td>shari zychinski</td>\n",
       "      <td>0</td>\n",
       "      <td>0</td>\n",
       "      <td>939340800</td>\n",
       "      <td>EVERY book is educational</td>\n",
       "      <td>this witty little book makes my son laugh at l...</td>\n",
       "    </tr>\n",
       "    <tr>\n",
       "      <th>138683</th>\n",
       "      <td>150501</td>\n",
       "      <td>0006641040</td>\n",
       "      <td>AJ46FKXOVC7NR</td>\n",
       "      <td>Nicholas A Mesiano</td>\n",
       "      <td>2</td>\n",
       "      <td>2</td>\n",
       "      <td>940809600</td>\n",
       "      <td>This whole series is great way to spend time w...</td>\n",
       "      <td>I can remember seeing the show when it aired o...</td>\n",
       "    </tr>\n",
       "    <tr>\n",
       "      <th>417839</th>\n",
       "      <td>451856</td>\n",
       "      <td>B00004CXX9</td>\n",
       "      <td>AIUWLEQ1ADEG5</td>\n",
       "      <td>Elizabeth Medina</td>\n",
       "      <td>0</td>\n",
       "      <td>0</td>\n",
       "      <td>944092800</td>\n",
       "      <td>Entertainingl Funny!</td>\n",
       "      <td>Beetlejuice is a well written movie ..... ever...</td>\n",
       "    </tr>\n",
       "    <tr>\n",
       "      <th>346055</th>\n",
       "      <td>374359</td>\n",
       "      <td>B00004CI84</td>\n",
       "      <td>A344SMIA5JECGM</td>\n",
       "      <td>Vincent P. Ross</td>\n",
       "      <td>1</td>\n",
       "      <td>2</td>\n",
       "      <td>944438400</td>\n",
       "      <td>A modern day fairy tale</td>\n",
       "      <td>A twist of rumplestiskin captured on film, sta...</td>\n",
       "    </tr>\n",
       "  </tbody>\n",
       "</table>\n",
       "</div>"
      ],
      "text/plain": [
       "            Id   ProductId          UserId         ProfileName  \\\n",
       "138706  150524  0006641040   ACITT7DI6IDDL     shari zychinski   \n",
       "138683  150501  0006641040   AJ46FKXOVC7NR  Nicholas A Mesiano   \n",
       "417839  451856  B00004CXX9   AIUWLEQ1ADEG5    Elizabeth Medina   \n",
       "346055  374359  B00004CI84  A344SMIA5JECGM     Vincent P. Ross   \n",
       "\n",
       "        HelpfulnessNumerator  HelpfulnessDenominator       Time  \\\n",
       "138706                     0                       0  939340800   \n",
       "138683                     2                       2  940809600   \n",
       "417839                     0                       0  944092800   \n",
       "346055                     1                       2  944438400   \n",
       "\n",
       "                                                  Summary  \\\n",
       "138706                          EVERY book is educational   \n",
       "138683  This whole series is great way to spend time w...   \n",
       "417839                               Entertainingl Funny!   \n",
       "346055                            A modern day fairy tale   \n",
       "\n",
       "                                                     Text  \n",
       "138706  this witty little book makes my son laugh at l...  \n",
       "138683  I can remember seeing the show when it aired o...  \n",
       "417839  Beetlejuice is a well written movie ..... ever...  \n",
       "346055  A twist of rumplestiskin captured on film, sta...  "
      ]
     },
     "execution_count": 11,
     "metadata": {},
     "output_type": "execute_result"
    }
   ],
   "source": [
    "labels=final[\"Score\"]\n",
    "final=final.drop(\"Score\",axis=1)\n",
    "final.head(4)"
   ]
  },
  {
   "cell_type": "code",
   "execution_count": 12,
   "metadata": {},
   "outputs": [],
   "source": [
    "final=final[0:100000]\n",
    "labels=labels[0:100000]"
   ]
  },
  {
   "cell_type": "code",
   "execution_count": 13,
   "metadata": {},
   "outputs": [],
   "source": [
    "for i in range(0,labels.size):\n",
    "    if labels.iloc[i]=='positive':\n",
    "        labels.iloc[i]=1\n",
    "    else:\n",
    "        labels.iloc[i]=0"
   ]
  },
  {
   "cell_type": "code",
   "execution_count": 14,
   "metadata": {},
   "outputs": [],
   "source": [
    "import re\n",
    "import string\n",
    "from nltk.corpus import stopwords\n",
    "from nltk.stem import PorterStemmer\n",
    "from nltk.stem.wordnet import WordNetLemmatizer\n",
    "\n",
    "stop = set(stopwords.words('english'))\n",
    "sno = nltk.stem.SnowballStemmer('english') \n",
    "def cleanhtml(sentence): \n",
    "    cleanr = re.compile('<.*?>')\n",
    "    cleantext = re.sub(cleanr, ' ', sentence)\n",
    "    return cleantext\n",
    "def cleanpunc(sentence): \n",
    "    cleaned = re.sub(r'[?|!|\\'|\"|#]',r'',sentence)\n",
    "    cleaned = re.sub(r'[.|,|)|(|\\|/]',r' ',cleaned)\n",
    "    return  cleaned"
   ]
  },
  {
   "cell_type": "code",
   "execution_count": 15,
   "metadata": {},
   "outputs": [],
   "source": [
    "i=0\n",
    "str1=' '\n",
    "final_string=[]\n",
    "s=''\n",
    "for sent in final['Text'].values:\n",
    "    filtered_sentence=[]\n",
    "    sent=cleanhtml(sent) \n",
    "    for w in sent.split():\n",
    "        for cleaned_words in cleanpunc(w).split():\n",
    "            if((cleaned_words.isalpha()) & (len(cleaned_words)>2)):    \n",
    "                if(cleaned_words.lower() not in stop):\n",
    "                    s=(sno.stem(cleaned_words.lower())).encode('utf8')\n",
    "                    filtered_sentence.append(s)\n",
    "                else:\n",
    "                    continue\n",
    "            else:\n",
    "                continue \n",
    "    str1 = b\" \".join(filtered_sentence) \n",
    "    \n",
    "    final_string.append(str1)\n",
    "    i+=1"
   ]
  },
  {
   "cell_type": "code",
   "execution_count": 16,
   "metadata": {},
   "outputs": [],
   "source": [
    "final['CleanedText']=final_string \n",
    "final['CleanedText']=final['CleanedText'].str.decode(\"utf-8\")"
   ]
  },
  {
   "cell_type": "code",
   "execution_count": 17,
   "metadata": {},
   "outputs": [
    {
     "data": {
      "text/plain": [
       "\"this witty little book makes my son laugh at loud. i recite it in the car as we're driving along and he always can sing the refrain. he's learned about whales, India, drooping roses:  i love all the new words this book  introduces and the silliness of it all.  this is a classic book i am  willing to bet my son will STILL be able to recite from memory when he is  in college\""
      ]
     },
     "execution_count": 17,
     "metadata": {},
     "output_type": "execute_result"
    }
   ],
   "source": [
    "final.loc[138706]['Text']"
   ]
  },
  {
   "cell_type": "code",
   "execution_count": 18,
   "metadata": {},
   "outputs": [
    {
     "data": {
      "text/plain": [
       "'witti littl book make son laugh loud recit car drive along alway sing refrain hes learn whale india droop love new word book introduc silli classic book will bet son still abl recit memori colleg'"
      ]
     },
     "execution_count": 18,
     "metadata": {},
     "output_type": "execute_result"
    }
   ],
   "source": [
    "final.loc[138706]['CleanedText']"
   ]
  },
  {
   "cell_type": "code",
   "execution_count": 19,
   "metadata": {},
   "outputs": [
    {
     "data": {
      "text/html": [
       "<div>\n",
       "<style scoped>\n",
       "    .dataframe tbody tr th:only-of-type {\n",
       "        vertical-align: middle;\n",
       "    }\n",
       "\n",
       "    .dataframe tbody tr th {\n",
       "        vertical-align: top;\n",
       "    }\n",
       "\n",
       "    .dataframe thead th {\n",
       "        text-align: right;\n",
       "    }\n",
       "</style>\n",
       "<table border=\"1\" class=\"dataframe\">\n",
       "  <thead>\n",
       "    <tr style=\"text-align: right;\">\n",
       "      <th></th>\n",
       "      <th>Id</th>\n",
       "      <th>ProductId</th>\n",
       "      <th>UserId</th>\n",
       "      <th>ProfileName</th>\n",
       "      <th>HelpfulnessNumerator</th>\n",
       "      <th>HelpfulnessDenominator</th>\n",
       "      <th>Time</th>\n",
       "      <th>Summary</th>\n",
       "      <th>Text</th>\n",
       "      <th>CleanedText</th>\n",
       "    </tr>\n",
       "  </thead>\n",
       "  <tbody>\n",
       "    <tr>\n",
       "      <th>138706</th>\n",
       "      <td>150524</td>\n",
       "      <td>0006641040</td>\n",
       "      <td>ACITT7DI6IDDL</td>\n",
       "      <td>shari zychinski</td>\n",
       "      <td>0</td>\n",
       "      <td>0</td>\n",
       "      <td>939340800</td>\n",
       "      <td>EVERY book is educational</td>\n",
       "      <td>this witty little book makes my son laugh at l...</td>\n",
       "      <td>witti littl book make son laugh loud recit car...</td>\n",
       "    </tr>\n",
       "    <tr>\n",
       "      <th>138683</th>\n",
       "      <td>150501</td>\n",
       "      <td>0006641040</td>\n",
       "      <td>AJ46FKXOVC7NR</td>\n",
       "      <td>Nicholas A Mesiano</td>\n",
       "      <td>2</td>\n",
       "      <td>2</td>\n",
       "      <td>940809600</td>\n",
       "      <td>This whole series is great way to spend time w...</td>\n",
       "      <td>I can remember seeing the show when it aired o...</td>\n",
       "      <td>rememb see show air televis year ago child sis...</td>\n",
       "    </tr>\n",
       "    <tr>\n",
       "      <th>417839</th>\n",
       "      <td>451856</td>\n",
       "      <td>B00004CXX9</td>\n",
       "      <td>AIUWLEQ1ADEG5</td>\n",
       "      <td>Elizabeth Medina</td>\n",
       "      <td>0</td>\n",
       "      <td>0</td>\n",
       "      <td>944092800</td>\n",
       "      <td>Entertainingl Funny!</td>\n",
       "      <td>Beetlejuice is a well written movie ..... ever...</td>\n",
       "      <td>beetlejuic well written movi everyth excel act...</td>\n",
       "    </tr>\n",
       "    <tr>\n",
       "      <th>346055</th>\n",
       "      <td>374359</td>\n",
       "      <td>B00004CI84</td>\n",
       "      <td>A344SMIA5JECGM</td>\n",
       "      <td>Vincent P. Ross</td>\n",
       "      <td>1</td>\n",
       "      <td>2</td>\n",
       "      <td>944438400</td>\n",
       "      <td>A modern day fairy tale</td>\n",
       "      <td>A twist of rumplestiskin captured on film, sta...</td>\n",
       "      <td>twist rumplestiskin captur film star michael k...</td>\n",
       "    </tr>\n",
       "  </tbody>\n",
       "</table>\n",
       "</div>"
      ],
      "text/plain": [
       "            Id   ProductId          UserId         ProfileName  \\\n",
       "138706  150524  0006641040   ACITT7DI6IDDL     shari zychinski   \n",
       "138683  150501  0006641040   AJ46FKXOVC7NR  Nicholas A Mesiano   \n",
       "417839  451856  B00004CXX9   AIUWLEQ1ADEG5    Elizabeth Medina   \n",
       "346055  374359  B00004CI84  A344SMIA5JECGM     Vincent P. Ross   \n",
       "\n",
       "        HelpfulnessNumerator  HelpfulnessDenominator       Time  \\\n",
       "138706                     0                       0  939340800   \n",
       "138683                     2                       2  940809600   \n",
       "417839                     0                       0  944092800   \n",
       "346055                     1                       2  944438400   \n",
       "\n",
       "                                                  Summary  \\\n",
       "138706                          EVERY book is educational   \n",
       "138683  This whole series is great way to spend time w...   \n",
       "417839                               Entertainingl Funny!   \n",
       "346055                            A modern day fairy tale   \n",
       "\n",
       "                                                     Text  \\\n",
       "138706  this witty little book makes my son laugh at l...   \n",
       "138683  I can remember seeing the show when it aired o...   \n",
       "417839  Beetlejuice is a well written movie ..... ever...   \n",
       "346055  A twist of rumplestiskin captured on film, sta...   \n",
       "\n",
       "                                              CleanedText  \n",
       "138706  witti littl book make son laugh loud recit car...  \n",
       "138683  rememb see show air televis year ago child sis...  \n",
       "417839  beetlejuic well written movi everyth excel act...  \n",
       "346055  twist rumplestiskin captur film star michael k...  "
      ]
     },
     "execution_count": 19,
     "metadata": {},
     "output_type": "execute_result"
    }
   ],
   "source": [
    "final.head(4)"
   ]
  },
  {
   "cell_type": "code",
   "execution_count": 20,
   "metadata": {},
   "outputs": [],
   "source": [
    "tr_indx=int(70/100*final['CleanedText'].shape[0])\n",
    "final['CleanedText']\n",
    "X_tr=final.iloc[:tr_indx]['CleanedText']\n",
    "y_tr=labels[:tr_indx]\n",
    "X_test=final.iloc[tr_indx+1:]['CleanedText']\n",
    "y_test=labels[tr_indx+1:]"
   ]
  },
  {
   "cell_type": "code",
   "execution_count": 21,
   "metadata": {},
   "outputs": [
    {
     "name": "stdout",
     "output_type": "stream",
     "text": [
      "(70000,)\n",
      "(29999,)\n"
     ]
    }
   ],
   "source": [
    "print(X_tr.shape)\n",
    "print(X_test.shape)"
   ]
  },
  {
   "cell_type": "markdown",
   "metadata": {},
   "source": [
    "# Bag of words"
   ]
  },
  {
   "cell_type": "markdown",
   "metadata": {},
   "source": [
    " * ### Decision tree using Gridsearchcv "
   ]
  },
  {
   "cell_type": "code",
   "execution_count": 22,
   "metadata": {},
   "outputs": [],
   "source": [
    "count_vect = CountVectorizer()\n",
    "final_counts = count_vect.fit_transform(X_tr)\n",
    "final_test = count_vect.transform(X_test)"
   ]
  },
  {
   "cell_type": "code",
   "execution_count": 23,
   "metadata": {},
   "outputs": [
    {
     "name": "stdout",
     "output_type": "stream",
     "text": [
      "\n",
      "The optimal number of depth is 10.\n"
     ]
    },
    {
     "data": {
      "image/png": "[encoded data removed]",
      "text/plain": [
       "<Figure size 432x288 with 1 Axes>"
      ]
     },
     "metadata": {},
     "output_type": "display_data"
    },
    {
     "name": "stdout",
     "output_type": "stream",
     "text": [
      "the misclassification error for each depth value is :  [0.059 0.058 0.058 0.059 0.06 ]\n"
     ]
    }
   ],
   "source": [
    "depths=[5,10,15,20,25]\n",
    "tuned_parameters={'max_depth':depths}\n",
    "dtree = DecisionTreeClassifier()\n",
    "model = GridSearchCV(dtree, tuned_parameters, scoring = 'f1', cv=5,return_train_score=True)\n",
    "model.fit(final_counts, y_tr)\n",
    "result=pd.DataFrame(model.cv_results_) \n",
    "MSE_test=[1-i for i in result['mean_test_score']]\n",
    "MSE_train=[1-i for i in result['mean_train_score']]\n",
    "optimal_depth = depths[MSE_test.index(min(MSE_test))]\n",
    "print('\\nThe optimal number of depth is %d.' % optimal_depth)\n",
    "vals = [str(x) for x in depths]\n",
    "plt.plot(vals, MSE_test,label=\"test error\")\n",
    "plt.plot(vals, MSE_train,label=\"train error\")\n",
    "for xy in zip(vals, np.round(MSE_test,2)):\n",
    "    plt.annotate('(%s, %s)' % xy, xy=xy, textcoords='data')\n",
    "for xy in zip(vals, np.round(MSE_train,2)):\n",
    "    plt.annotate('(%s, %s)' % xy, xy=xy, textcoords='data')\n",
    "plt.legend()\n",
    "plt.xlabel('Value of depth')\n",
    "plt.ylabel('Misclassification Error')\n",
    "plt.show()\n",
    "print(\"the misclassification error for each depth value is : \", np.round(MSE_test,3))"
   ]
  },
  {
   "cell_type": "code",
   "execution_count": 24,
   "metadata": {},
   "outputs": [
    {
     "name": "stdout",
     "output_type": "stream",
     "text": [
      "\n",
      "The accuracy of optimal decision tree classifier for depth = 10 is 87.962932%\n"
     ]
    }
   ],
   "source": [
    "optimal_dtree= DecisionTreeClassifier(max_depth = optimal_depth)\n",
    "optimal_dtree.fit(final_counts, y_tr)\n",
    "pred = optimal_dtree.predict(final_test)\n",
    "acc = accuracy_score(y_test, pred) * 100\n",
    "print('\\nThe accuracy of optimal decision tree classifier for depth = %d is %f%%' % (optimal_depth, acc))"
   ]
  },
  {
   "cell_type": "markdown",
   "metadata": {},
   "source": [
    "#### decision tree visualization"
   ]
  },
  {
   "cell_type": "code",
   "execution_count": 25,
   "metadata": {},
   "outputs": [
    {
     "data": {
      "image/svg+xml": [
       "<?xml version=\"1.0\" encoding=\"UTF-8\" standalone=\"no\"?>\n",
       "<!DOCTYPE svg PUBLIC \"-//W3C//DTD SVG 1.1//EN\"\n",
       " \"http://www.w3.org/Graphics/SVG/1.1/DTD/svg11.dtd\">\n",
       "<!-- Generated by graphviz version 2.40.1 (20161225.0304)\n",
       " -->\n",
       "<!-- Title: Tree Pages: 1 -->\n",
       "<svg width=\"625pt\" height=\"401pt\"\n",
       " viewBox=\"0.00 0.00 625.00 401.00\" xmlns=\"http://www.w3.org/2000/svg\" xmlns:xlink=\"http://www.w3.org/1999/xlink\">\n",
       "<g id=\"graph0\" class=\"graph\" transform=\"scale(1 1) rotate(0) translate(4 397)\">\n",
       "<title>Tree</title>\n",
       "<polygon fill=\"#ffffff\" stroke=\"transparent\" points=\"-4,4 -4,-397 621,-397 621,4 -4,4\"/>\n",
       "<!-- 0 -->\n",
       "<g id=\"node1\" class=\"node\">\n",
       "<title>0</title>\n",
       "<path fill=\"#399de5\" fill-opacity=\"0.866667\" stroke=\"#000000\" d=\"M375.5,-393C375.5,-393 252.5,-393 252.5,-393 246.5,-393 240.5,-387 240.5,-381 240.5,-381 240.5,-322 240.5,-322 240.5,-316 246.5,-310 252.5,-310 252.5,-310 375.5,-310 375.5,-310 381.5,-310 387.5,-316 387.5,-322 387.5,-322 387.5,-381 387.5,-381 387.5,-387 381.5,-393 375.5,-393\"/>\n",
       "<text text-anchor=\"start\" x=\"265.5\" y=\"-377.8\" font-family=\"Helvetica,sans-Serif\" font-size=\"14.00\" fill=\"#000000\">disappoint ≤ 0.5</text>\n",
       "<text text-anchor=\"start\" x=\"278.5\" y=\"-362.8\" font-family=\"Helvetica,sans-Serif\" font-size=\"14.00\" fill=\"#000000\">gini = 0.206</text>\n",
       "<text text-anchor=\"start\" x=\"261.5\" y=\"-347.8\" font-family=\"Helvetica,sans-Serif\" font-size=\"14.00\" fill=\"#000000\">samples = 70000</text>\n",
       "<text text-anchor=\"start\" x=\"248.5\" y=\"-332.8\" font-family=\"Helvetica,sans-Serif\" font-size=\"14.00\" fill=\"#000000\">value = [8168, 61832]</text>\n",
       "<text text-anchor=\"start\" x=\"267.5\" y=\"-317.8\" font-family=\"Helvetica,sans-Serif\" font-size=\"14.00\" fill=\"#000000\">class = positive</text>\n",
       "</g>\n",
       "<!-- 1 -->\n",
       "<g id=\"node2\" class=\"node\">\n",
       "<title>1</title>\n",
       "<path fill=\"#399de5\" fill-opacity=\"0.878431\" stroke=\"#000000\" d=\"M296.5,-274C296.5,-274 173.5,-274 173.5,-274 167.5,-274 161.5,-268 161.5,-262 161.5,-262 161.5,-203 161.5,-203 161.5,-197 167.5,-191 173.5,-191 173.5,-191 296.5,-191 296.5,-191 302.5,-191 308.5,-197 308.5,-203 308.5,-203 308.5,-262 308.5,-262 308.5,-268 302.5,-274 296.5,-274\"/>\n",
       "<text text-anchor=\"start\" x=\"201.5\" y=\"-258.8\" font-family=\"Helvetica,sans-Serif\" font-size=\"14.00\" fill=\"#000000\">worst ≤ 0.5</text>\n",
       "<text text-anchor=\"start\" x=\"199.5\" y=\"-243.8\" font-family=\"Helvetica,sans-Serif\" font-size=\"14.00\" fill=\"#000000\">gini = 0.191</text>\n",
       "<text text-anchor=\"start\" x=\"182.5\" y=\"-228.8\" font-family=\"Helvetica,sans-Serif\" font-size=\"14.00\" fill=\"#000000\">samples = 67971</text>\n",
       "<text text-anchor=\"start\" x=\"169.5\" y=\"-213.8\" font-family=\"Helvetica,sans-Serif\" font-size=\"14.00\" fill=\"#000000\">value = [7276, 60695]</text>\n",
       "<text text-anchor=\"start\" x=\"188.5\" y=\"-198.8\" font-family=\"Helvetica,sans-Serif\" font-size=\"14.00\" fill=\"#000000\">class = positive</text>\n",
       "</g>\n",
       "<!-- 0&#45;&gt;1 -->\n",
       "<g id=\"edge1\" class=\"edge\">\n",
       "<title>0&#45;&gt;1</title>\n",
       "<path fill=\"none\" stroke=\"#000000\" d=\"M286.3696,-309.8796C280.57,-301.1434 274.3941,-291.8404 268.4092,-282.8253\"/>\n",
       "<polygon fill=\"#000000\" stroke=\"#000000\" points=\"271.1951,-280.6935 262.7483,-274.2981 265.3632,-284.5652 271.1951,-280.6935\"/>\n",
       "<text text-anchor=\"middle\" x=\"257.7978\" y=\"-295.103\" font-family=\"Helvetica,sans-Serif\" font-size=\"14.00\" fill=\"#000000\">True</text>\n",
       "</g>\n",
       "<!-- 254 -->\n",
       "<g id=\"node9\" class=\"node\">\n",
       "<title>254</title>\n",
       "<path fill=\"#399de5\" fill-opacity=\"0.215686\" stroke=\"#000000\" d=\"M447,-274C447,-274 339,-274 339,-274 333,-274 327,-268 327,-262 327,-262 327,-203 327,-203 327,-197 333,-191 339,-191 339,-191 447,-191 447,-191 453,-191 459,-197 459,-203 459,-203 459,-262 459,-262 459,-268 453,-274 447,-274\"/>\n",
       "<text text-anchor=\"start\" x=\"361\" y=\"-258.8\" font-family=\"Helvetica,sans-Serif\" font-size=\"14.00\" fill=\"#000000\">wont ≤ 0.5</text>\n",
       "<text text-anchor=\"start\" x=\"357.5\" y=\"-243.8\" font-family=\"Helvetica,sans-Serif\" font-size=\"14.00\" fill=\"#000000\">gini = 0.493</text>\n",
       "<text text-anchor=\"start\" x=\"344.5\" y=\"-228.8\" font-family=\"Helvetica,sans-Serif\" font-size=\"14.00\" fill=\"#000000\">samples = 2029</text>\n",
       "<text text-anchor=\"start\" x=\"335\" y=\"-213.8\" font-family=\"Helvetica,sans-Serif\" font-size=\"14.00\" fill=\"#000000\">value = [892, 1137]</text>\n",
       "<text text-anchor=\"start\" x=\"346.5\" y=\"-198.8\" font-family=\"Helvetica,sans-Serif\" font-size=\"14.00\" fill=\"#000000\">class = positive</text>\n",
       "</g>\n",
       "<!-- 0&#45;&gt;254 -->\n",
       "<g id=\"edge8\" class=\"edge\">\n",
       "<title>0&#45;&gt;254</title>\n",
       "<path fill=\"none\" stroke=\"#000000\" d=\"M341.6304,-309.8796C347.43,-301.1434 353.6059,-291.8404 359.5908,-282.8253\"/>\n",
       "<polygon fill=\"#000000\" stroke=\"#000000\" points=\"362.6368,-284.5652 365.2517,-274.2981 356.8049,-280.6935 362.6368,-284.5652\"/>\n",
       "<text text-anchor=\"middle\" x=\"370.2022\" y=\"-295.103\" font-family=\"Helvetica,sans-Serif\" font-size=\"14.00\" fill=\"#000000\">False</text>\n",
       "</g>\n",
       "<!-- 2 -->\n",
       "<g id=\"node3\" class=\"node\">\n",
       "<title>2</title>\n",
       "<path fill=\"#399de5\" fill-opacity=\"0.882353\" stroke=\"#000000\" d=\"M151.5,-155C151.5,-155 28.5,-155 28.5,-155 22.5,-155 16.5,-149 16.5,-143 16.5,-143 16.5,-84 16.5,-84 16.5,-78 22.5,-72 28.5,-72 28.5,-72 151.5,-72 151.5,-72 157.5,-72 163.5,-78 163.5,-84 163.5,-84 163.5,-143 163.5,-143 163.5,-149 157.5,-155 151.5,-155\"/>\n",
       "<text text-anchor=\"start\" x=\"57\" y=\"-139.8\" font-family=\"Helvetica,sans-Serif\" font-size=\"14.00\" fill=\"#000000\">great ≤ 0.5</text>\n",
       "<text text-anchor=\"start\" x=\"54.5\" y=\"-124.8\" font-family=\"Helvetica,sans-Serif\" font-size=\"14.00\" fill=\"#000000\">gini = 0.187</text>\n",
       "<text text-anchor=\"start\" x=\"37.5\" y=\"-109.8\" font-family=\"Helvetica,sans-Serif\" font-size=\"14.00\" fill=\"#000000\">samples = 67663</text>\n",
       "<text text-anchor=\"start\" x=\"24.5\" y=\"-94.8\" font-family=\"Helvetica,sans-Serif\" font-size=\"14.00\" fill=\"#000000\">value = [7053, 60610]</text>\n",
       "<text text-anchor=\"start\" x=\"43.5\" y=\"-79.8\" font-family=\"Helvetica,sans-Serif\" font-size=\"14.00\" fill=\"#000000\">class = positive</text>\n",
       "</g>\n",
       "<!-- 1&#45;&gt;2 -->\n",
       "<g id=\"edge2\" class=\"edge\">\n",
       "<title>1&#45;&gt;2</title>\n",
       "<path fill=\"none\" stroke=\"#000000\" d=\"M184.286,-190.8796C172.873,-181.513 160.6659,-171.4948 148.9485,-161.8784\"/>\n",
       "<polygon fill=\"#000000\" stroke=\"#000000\" points=\"150.8809,-158.9366 140.9304,-155.2981 146.4401,-164.3476 150.8809,-158.9366\"/>\n",
       "</g>\n",
       "<!-- 209 -->\n",
       "<g id=\"node6\" class=\"node\">\n",
       "<title>209</title>\n",
       "<path fill=\"#e58139\" fill-opacity=\"0.619608\" stroke=\"#000000\" d=\"M286.5,-155C286.5,-155 193.5,-155 193.5,-155 187.5,-155 181.5,-149 181.5,-143 181.5,-143 181.5,-84 181.5,-84 181.5,-78 187.5,-72 193.5,-72 193.5,-72 286.5,-72 286.5,-72 292.5,-72 298.5,-78 298.5,-84 298.5,-84 298.5,-143 298.5,-143 298.5,-149 292.5,-155 286.5,-155\"/>\n",
       "<text text-anchor=\"start\" x=\"207\" y=\"-139.8\" font-family=\"Helvetica,sans-Serif\" font-size=\"14.00\" fill=\"#000000\">great ≤ 0.5</text>\n",
       "<text text-anchor=\"start\" x=\"212\" y=\"-124.8\" font-family=\"Helvetica,sans-Serif\" font-size=\"14.00\" fill=\"#000000\">gini = 0.4</text>\n",
       "<text text-anchor=\"start\" x=\"195\" y=\"-109.8\" font-family=\"Helvetica,sans-Serif\" font-size=\"14.00\" fill=\"#000000\">samples = 308</text>\n",
       "<text text-anchor=\"start\" x=\"189.5\" y=\"-94.8\" font-family=\"Helvetica,sans-Serif\" font-size=\"14.00\" fill=\"#000000\">value = [223, 85]</text>\n",
       "<text text-anchor=\"start\" x=\"191\" y=\"-79.8\" font-family=\"Helvetica,sans-Serif\" font-size=\"14.00\" fill=\"#000000\">class = negative</text>\n",
       "</g>\n",
       "<!-- 1&#45;&gt;209 -->\n",
       "<g id=\"edge5\" class=\"edge\">\n",
       "<title>1&#45;&gt;209</title>\n",
       "<path fill=\"none\" stroke=\"#000000\" d=\"M236.7488,-190.8796C237.0931,-182.6838 237.4584,-173.9891 237.8151,-165.5013\"/>\n",
       "<polygon fill=\"#000000\" stroke=\"#000000\" points=\"241.3208,-165.4362 238.2438,-155.2981 234.327,-165.1423 241.3208,-165.4362\"/>\n",
       "</g>\n",
       "<!-- 3 -->\n",
       "<g id=\"node4\" class=\"node\">\n",
       "<title>3</title>\n",
       "<path fill=\"#c0c0c0\" stroke=\"#000000\" d=\"M42,-36C42,-36 12,-36 12,-36 6,-36 0,-30 0,-24 0,-24 0,-12 0,-12 0,-6 6,0 12,0 12,0 42,0 42,0 48,0 54,-6 54,-12 54,-12 54,-24 54,-24 54,-30 48,-36 42,-36\"/>\n",
       "<text text-anchor=\"middle\" x=\"27\" y=\"-14.3\" font-family=\"Helvetica,sans-Serif\" font-size=\"14.00\" fill=\"#000000\">(...)</text>\n",
       "</g>\n",
       "<!-- 2&#45;&gt;3 -->\n",
       "<g id=\"edge3\" class=\"edge\">\n",
       "<title>2&#45;&gt;3</title>\n",
       "<path fill=\"none\" stroke=\"#000000\" d=\"M62.5506,-71.8901C56.4473,-62.6384 50.1378,-53.0739 44.559,-44.6173\"/>\n",
       "<polygon fill=\"#000000\" stroke=\"#000000\" points=\"47.4774,-42.6851 39.0492,-36.2651 41.6343,-46.5397 47.4774,-42.6851\"/>\n",
       "</g>\n",
       "<!-- 132 -->\n",
       "<g id=\"node5\" class=\"node\">\n",
       "<title>132</title>\n",
       "<path fill=\"#c0c0c0\" stroke=\"#000000\" d=\"M114,-36C114,-36 84,-36 84,-36 78,-36 72,-30 72,-24 72,-24 72,-12 72,-12 72,-6 78,0 84,0 84,0 114,0 114,0 120,0 126,-6 126,-12 126,-12 126,-24 126,-24 126,-30 120,-36 114,-36\"/>\n",
       "<text text-anchor=\"middle\" x=\"99\" y=\"-14.3\" font-family=\"Helvetica,sans-Serif\" font-size=\"14.00\" fill=\"#000000\">(...)</text>\n",
       "</g>\n",
       "<!-- 2&#45;&gt;132 -->\n",
       "<g id=\"edge4\" class=\"edge\">\n",
       "<title>2&#45;&gt;132</title>\n",
       "<path fill=\"none\" stroke=\"#000000\" d=\"M93.9213,-71.8901C94.7382,-63.2227 95.5809,-54.2808 96.3393,-46.2325\"/>\n",
       "<polygon fill=\"#000000\" stroke=\"#000000\" points=\"99.8249,-46.5494 97.2787,-36.2651 92.8558,-45.8926 99.8249,-46.5494\"/>\n",
       "</g>\n",
       "<!-- 210 -->\n",
       "<g id=\"node7\" class=\"node\">\n",
       "<title>210</title>\n",
       "<path fill=\"#c0c0c0\" stroke=\"#000000\" d=\"M220,-36C220,-36 190,-36 190,-36 184,-36 178,-30 178,-24 178,-24 178,-12 178,-12 178,-6 184,0 190,0 190,0 220,0 220,0 226,0 232,-6 232,-12 232,-12 232,-24 232,-24 232,-30 226,-36 220,-36\"/>\n",
       "<text text-anchor=\"middle\" x=\"205\" y=\"-14.3\" font-family=\"Helvetica,sans-Serif\" font-size=\"14.00\" fill=\"#000000\">(...)</text>\n",
       "</g>\n",
       "<!-- 209&#45;&gt;210 -->\n",
       "<g id=\"edge6\" class=\"edge\">\n",
       "<title>209&#45;&gt;210</title>\n",
       "<path fill=\"none\" stroke=\"#000000\" d=\"M224.7503,-71.8901C221.5024,-63.0279 218.1493,-53.8788 215.1486,-45.6913\"/>\n",
       "<polygon fill=\"#000000\" stroke=\"#000000\" points=\"218.4214,-44.45 211.694,-36.2651 211.8489,-46.8588 218.4214,-44.45\"/>\n",
       "</g>\n",
       "<!-- 239 -->\n",
       "<g id=\"node8\" class=\"node\">\n",
       "<title>239</title>\n",
       "<path fill=\"#c0c0c0\" stroke=\"#000000\" d=\"M292,-36C292,-36 262,-36 262,-36 256,-36 250,-30 250,-24 250,-24 250,-12 250,-12 250,-6 256,0 262,0 262,0 292,0 292,0 298,0 304,-6 304,-12 304,-12 304,-24 304,-24 304,-30 298,-36 292,-36\"/>\n",
       "<text text-anchor=\"middle\" x=\"277\" y=\"-14.3\" font-family=\"Helvetica,sans-Serif\" font-size=\"14.00\" fill=\"#000000\">(...)</text>\n",
       "</g>\n",
       "<!-- 209&#45;&gt;239 -->\n",
       "<g id=\"edge7\" class=\"edge\">\n",
       "<title>209&#45;&gt;239</title>\n",
       "<path fill=\"none\" stroke=\"#000000\" d=\"M256.1211,-71.8901C259.5546,-63.0279 263.0993,-53.8788 266.2715,-45.6913\"/>\n",
       "<polygon fill=\"#000000\" stroke=\"#000000\" points=\"269.5743,-46.8542 269.9235,-36.2651 263.0471,-44.3253 269.5743,-46.8542\"/>\n",
       "</g>\n",
       "<!-- 255 -->\n",
       "<g id=\"node10\" class=\"node\">\n",
       "<title>255</title>\n",
       "<path fill=\"#399de5\" fill-opacity=\"0.054902\" stroke=\"#000000\" d=\"M438.5,-155C438.5,-155 337.5,-155 337.5,-155 331.5,-155 325.5,-149 325.5,-143 325.5,-143 325.5,-84 325.5,-84 325.5,-78 331.5,-72 337.5,-72 337.5,-72 438.5,-72 438.5,-72 444.5,-72 450.5,-78 450.5,-84 450.5,-84 450.5,-143 450.5,-143 450.5,-149 444.5,-155 438.5,-155\"/>\n",
       "<text text-anchor=\"start\" x=\"357.5\" y=\"-139.8\" font-family=\"Helvetica,sans-Serif\" font-size=\"14.00\" fill=\"#000000\">best ≤ 0.5</text>\n",
       "<text text-anchor=\"start\" x=\"360\" y=\"-124.8\" font-family=\"Helvetica,sans-Serif\" font-size=\"14.00\" fill=\"#000000\">gini = 0.5</text>\n",
       "<text text-anchor=\"start\" x=\"339.5\" y=\"-109.8\" font-family=\"Helvetica,sans-Serif\" font-size=\"14.00\" fill=\"#000000\">samples = 1742</text>\n",
       "<text text-anchor=\"start\" x=\"333.5\" y=\"-94.8\" font-family=\"Helvetica,sans-Serif\" font-size=\"14.00\" fill=\"#000000\">value = [846, 896]</text>\n",
       "<text text-anchor=\"start\" x=\"341.5\" y=\"-79.8\" font-family=\"Helvetica,sans-Serif\" font-size=\"14.00\" fill=\"#000000\">class = positive</text>\n",
       "</g>\n",
       "<!-- 254&#45;&gt;255 -->\n",
       "<g id=\"edge9\" class=\"edge\">\n",
       "<title>254&#45;&gt;255</title>\n",
       "<path fill=\"none\" stroke=\"#000000\" d=\"M391.2512,-190.8796C390.9069,-182.6838 390.5416,-173.9891 390.1849,-165.5013\"/>\n",
       "<polygon fill=\"#000000\" stroke=\"#000000\" points=\"393.673,-165.1423 389.7562,-155.2981 386.6792,-165.4362 393.673,-165.1423\"/>\n",
       "</g>\n",
       "<!-- 364 -->\n",
       "<g id=\"node13\" class=\"node\">\n",
       "<title>364</title>\n",
       "<path fill=\"#399de5\" fill-opacity=\"0.807843\" stroke=\"#000000\" d=\"M573.5,-155C573.5,-155 480.5,-155 480.5,-155 474.5,-155 468.5,-149 468.5,-143 468.5,-143 468.5,-84 468.5,-84 468.5,-78 474.5,-72 480.5,-72 480.5,-72 573.5,-72 573.5,-72 579.5,-72 585.5,-78 585.5,-84 585.5,-84 585.5,-143 585.5,-143 585.5,-149 579.5,-155 573.5,-155\"/>\n",
       "<text text-anchor=\"start\" x=\"491\" y=\"-139.8\" font-family=\"Helvetica,sans-Serif\" font-size=\"14.00\" fill=\"#000000\">chang ≤ 1.5</text>\n",
       "<text text-anchor=\"start\" x=\"491.5\" y=\"-124.8\" font-family=\"Helvetica,sans-Serif\" font-size=\"14.00\" fill=\"#000000\">gini = 0.269</text>\n",
       "<text text-anchor=\"start\" x=\"482\" y=\"-109.8\" font-family=\"Helvetica,sans-Serif\" font-size=\"14.00\" fill=\"#000000\">samples = 287</text>\n",
       "<text text-anchor=\"start\" x=\"476.5\" y=\"-94.8\" font-family=\"Helvetica,sans-Serif\" font-size=\"14.00\" fill=\"#000000\">value = [46, 241]</text>\n",
       "<text text-anchor=\"start\" x=\"480.5\" y=\"-79.8\" font-family=\"Helvetica,sans-Serif\" font-size=\"14.00\" fill=\"#000000\">class = positive</text>\n",
       "</g>\n",
       "<!-- 254&#45;&gt;364 -->\n",
       "<g id=\"edge12\" class=\"edge\">\n",
       "<title>254&#45;&gt;364</title>\n",
       "<path fill=\"none\" stroke=\"#000000\" d=\"M439.8667,-190.8796C450.3125,-181.6031 461.4781,-171.6874 472.211,-162.1559\"/>\n",
       "<polygon fill=\"#000000\" stroke=\"#000000\" points=\"474.7801,-164.5553 479.9333,-155.2981 470.132,-159.3213 474.7801,-164.5553\"/>\n",
       "</g>\n",
       "<!-- 256 -->\n",
       "<g id=\"node11\" class=\"node\">\n",
       "<title>256</title>\n",
       "<path fill=\"#c0c0c0\" stroke=\"#000000\" d=\"M381,-36C381,-36 351,-36 351,-36 345,-36 339,-30 339,-24 339,-24 339,-12 339,-12 339,-6 345,0 351,0 351,0 381,0 381,0 387,0 393,-6 393,-12 393,-12 393,-24 393,-24 393,-30 387,-36 381,-36\"/>\n",
       "<text text-anchor=\"middle\" x=\"366\" y=\"-14.3\" font-family=\"Helvetica,sans-Serif\" font-size=\"14.00\" fill=\"#000000\">(...)</text>\n",
       "</g>\n",
       "<!-- 255&#45;&gt;256 -->\n",
       "<g id=\"edge10\" class=\"edge\">\n",
       "<title>255&#45;&gt;256</title>\n",
       "<path fill=\"none\" stroke=\"#000000\" d=\"M378.4145,-71.8901C376.4178,-63.2227 374.3579,-54.2808 372.5038,-46.2325\"/>\n",
       "<polygon fill=\"#000000\" stroke=\"#000000\" points=\"375.8633,-45.2241 370.2077,-36.2651 369.0419,-46.7956 375.8633,-45.2241\"/>\n",
       "</g>\n",
       "<!-- 339 -->\n",
       "<g id=\"node12\" class=\"node\">\n",
       "<title>339</title>\n",
       "<path fill=\"#c0c0c0\" stroke=\"#000000\" d=\"M453,-36C453,-36 423,-36 423,-36 417,-36 411,-30 411,-24 411,-24 411,-12 411,-12 411,-6 417,0 423,0 423,0 453,0 453,0 459,0 465,-6 465,-12 465,-12 465,-24 465,-24 465,-30 459,-36 453,-36\"/>\n",
       "<text text-anchor=\"middle\" x=\"438\" y=\"-14.3\" font-family=\"Helvetica,sans-Serif\" font-size=\"14.00\" fill=\"#000000\">(...)</text>\n",
       "</g>\n",
       "<!-- 255&#45;&gt;339 -->\n",
       "<g id=\"edge11\" class=\"edge\">\n",
       "<title>255&#45;&gt;339</title>\n",
       "<path fill=\"none\" stroke=\"#000000\" d=\"M409.7853,-71.8901C414.5272,-62.8331 419.4259,-53.4765 423.7839,-45.1528\"/>\n",
       "<polygon fill=\"#000000\" stroke=\"#000000\" points=\"426.8995,-46.7478 428.4371,-36.2651 420.698,-43.5009 426.8995,-46.7478\"/>\n",
       "</g>\n",
       "<!-- 365 -->\n",
       "<g id=\"node14\" class=\"node\">\n",
       "<title>365</title>\n",
       "<path fill=\"#c0c0c0\" stroke=\"#000000\" d=\"M533,-36C533,-36 503,-36 503,-36 497,-36 491,-30 491,-24 491,-24 491,-12 491,-12 491,-6 497,0 503,0 503,0 533,0 533,0 539,0 545,-6 545,-12 545,-12 545,-24 545,-24 545,-30 539,-36 533,-36\"/>\n",
       "<text text-anchor=\"middle\" x=\"518\" y=\"-14.3\" font-family=\"Helvetica,sans-Serif\" font-size=\"14.00\" fill=\"#000000\">(...)</text>\n",
       "</g>\n",
       "<!-- 364&#45;&gt;365 -->\n",
       "<g id=\"edge13\" class=\"edge\">\n",
       "<title>364&#45;&gt;365</title>\n",
       "<path fill=\"none\" stroke=\"#000000\" d=\"M523.0787,-71.8901C522.2618,-63.2227 521.4191,-54.2808 520.6607,-46.2325\"/>\n",
       "<polygon fill=\"#000000\" stroke=\"#000000\" points=\"524.1442,-45.8926 519.7213,-36.2651 517.1751,-46.5494 524.1442,-45.8926\"/>\n",
       "</g>\n",
       "<!-- 400 -->\n",
       "<g id=\"node15\" class=\"node\">\n",
       "<title>400</title>\n",
       "<path fill=\"#c0c0c0\" stroke=\"#000000\" d=\"M605,-36C605,-36 575,-36 575,-36 569,-36 563,-30 563,-24 563,-24 563,-12 563,-12 563,-6 569,0 575,0 575,0 605,0 605,0 611,0 617,-6 617,-12 617,-12 617,-24 617,-24 617,-30 611,-36 605,-36\"/>\n",
       "<text text-anchor=\"middle\" x=\"590\" y=\"-14.3\" font-family=\"Helvetica,sans-Serif\" font-size=\"14.00\" fill=\"#000000\">(...)</text>\n",
       "</g>\n",
       "<!-- 364&#45;&gt;400 -->\n",
       "<g id=\"edge14\" class=\"edge\">\n",
       "<title>364&#45;&gt;400</title>\n",
       "<path fill=\"none\" stroke=\"#000000\" d=\"M554.4494,-71.8901C560.5527,-62.6384 566.8622,-53.0739 572.441,-44.6173\"/>\n",
       "<polygon fill=\"#000000\" stroke=\"#000000\" points=\"575.3657,-46.5397 577.9508,-36.2651 569.5226,-42.6851 575.3657,-46.5397\"/>\n",
       "</g>\n",
       "</g>\n",
       "</svg>\n"
      ],
      "text/plain": [
       "<graphviz.files.Source at 0x7f711ab458d0>"
      ]
     },
     "execution_count": 25,
     "metadata": {},
     "output_type": "execute_result"
    }
   ],
   "source": [
    "import graphviz\n",
    "from sklearn.externals.six import StringIO\n",
    "from sklearn import tree\n",
    "dot_data = StringIO()\n",
    "tree.export_graphviz(optimal_dtree, out_file=dot_data)\n",
    "dot_data = tree.export_graphviz(optimal_dtree, out_file=None, max_depth=2, feature_names=count_vect.get_feature_names(),  class_names=['negative','positive'],  \n",
    "filled=True, rounded=True,  special_characters=True)\n",
    "graph = graphviz.Source(dot_data)\n",
    "graph"
   ]
  },
  {
   "cell_type": "markdown",
   "metadata": {},
   "source": [
    "#### Confusion matrix on test dataset"
   ]
  },
  {
   "cell_type": "code",
   "execution_count": 26,
   "metadata": {},
   "outputs": [
    {
     "data": {
      "text/plain": [
       "<matplotlib.axes._subplots.AxesSubplot at 0x7f711750fa90>"
      ]
     },
     "execution_count": 26,
     "metadata": {},
     "output_type": "execute_result"
    },
    {
     "data": {
      "image/png": "[encoded data removed]",
      "text/plain": [
       "<Figure size 432x288 with 2 Axes>"
      ]
     },
     "metadata": {},
     "output_type": "display_data"
    }
   ],
   "source": [
    "from sklearn.metrics import confusion_matrix\n",
    "import seaborn as sn\n",
    "import pandas as pd\n",
    "import matplotlib.pyplot as plt\n",
    "cf_matrix=confusion_matrix(y_test, pred)\n",
    "df_cm = pd.DataFrame(cf_matrix,range(0,2),range(0,2))\n",
    "sn.heatmap(df_cm, annot=True)"
   ]
  },
  {
   "cell_type": "markdown",
   "metadata": {},
   "source": [
    "#### feature importance"
   ]
  },
  {
   "cell_type": "code",
   "execution_count": 28,
   "metadata": {},
   "outputs": [
    {
     "name": "stdout",
     "output_type": "stream",
     "text": [
      "Top features to classify class labels are:\n",
      "\n",
      "['disappoint' 'great' 'worst' 'best' 'money' 'terribl' 'love' 'horribl'\n",
      " 'return' 'bad' 'wast' 'wont' 'delici' 'refund' 'threw' 'unfortun' 'aw'\n",
      " 'good' 'ive' 'flavor'] \n",
      "\n"
     ]
    }
   ],
   "source": [
    "print(\"Top features to classify class labels are:\\n\")\n",
    "imp_fec = optimal_dtree.feature_importances_.argsort()[::-1]\n",
    "print(np.take(count_vect.get_feature_names(), imp_fec[:20]),\"\\n\")"
   ]
  },
  {
   "cell_type": "markdown",
   "metadata": {},
   "source": [
    "#### precision recall and f1-score values"
   ]
  },
  {
   "cell_type": "code",
   "execution_count": 29,
   "metadata": {},
   "outputs": [
    {
     "name": "stdout",
     "output_type": "stream",
     "text": [
      "precision of decion tree classifier for bag of words is 0.8613884547406581\n",
      "recall of decion tree classifier for bag of words is 0.8796293209773659\n",
      "fscore of decion tree classifier for bag of words is 0.8508560642186157\n"
     ]
    }
   ],
   "source": [
    "from sklearn.metrics import precision_recall_fscore_support\n",
    "scr=precision_recall_fscore_support(y_test, pred, average='weighted')\n",
    "print(\"precision of decion tree classifier for bag of words is\",scr[0])\n",
    "print(\"recall of decion tree classifier for bag of words is\",scr[1])\n",
    "print(\"fscore of decion tree classifier for bag of words is\",scr[2])"
   ]
  },
  {
   "cell_type": "markdown",
   "metadata": {},
   "source": [
    "#### Confusion matrix on train dataset"
   ]
  },
  {
   "cell_type": "code",
   "execution_count": 30,
   "metadata": {},
   "outputs": [
    {
     "name": "stdout",
     "output_type": "stream",
     "text": [
      "\n",
      "The accuracy of optimal decision tree classifier for depth = 10 is 90.238571%\n"
     ]
    }
   ],
   "source": [
    "optimal_dtree.fit(final_counts, y_tr)\n",
    "pred = optimal_dtree.predict(final_counts)\n",
    "acc = accuracy_score(y_tr, pred) * 100\n",
    "print('\\nThe accuracy of optimal decision tree classifier for depth = %d is %f%%' % (optimal_depth, acc))"
   ]
  },
  {
   "cell_type": "code",
   "execution_count": 31,
   "metadata": {},
   "outputs": [
    {
     "data": {
      "text/plain": [
       "<matplotlib.axes._subplots.AxesSubplot at 0x7f71181bb4e0>"
      ]
     },
     "execution_count": 31,
     "metadata": {},
     "output_type": "execute_result"
    },
    {
     "data": {
      "image/png": "[encoded data removed]",
      "text/plain": [
       "<Figure size 432x288 with 2 Axes>"
      ]
     },
     "metadata": {},
     "output_type": "display_data"
    }
   ],
   "source": [
    "from sklearn.metrics import confusion_matrix\n",
    "import seaborn as sn\n",
    "import pandas as pd\n",
    "import matplotlib.pyplot as plt\n",
    "cf_matrix=confusion_matrix(y_tr, pred)\n",
    "df_cm = pd.DataFrame(cf_matrix,range(0,2),range(0,2))\n",
    "sn.heatmap(df_cm, annot=True)"
   ]
  },
  {
   "cell_type": "markdown",
   "metadata": {},
   "source": [
    "#### BOW using RandonSearchCV"
   ]
  },
  {
   "cell_type": "code",
   "execution_count": 32,
   "metadata": {},
   "outputs": [
    {
     "name": "stdout",
     "output_type": "stream",
     "text": [
      "DecisionTreeClassifier(class_weight=None, criterion='gini', max_depth=10,\n",
      "            max_features=None, max_leaf_nodes=None,\n",
      "            min_impurity_decrease=0.0, min_impurity_split=None,\n",
      "            min_samples_leaf=1, min_samples_split=2,\n",
      "            min_weight_fraction_leaf=0.0, presort=False, random_state=None,\n",
      "            splitter='best')\n",
      "\n",
      "The accuracy of optimal decision tree classifier for optimal model is 87.982933\n"
     ]
    }
   ],
   "source": [
    "from sklearn.model_selection import RandomizedSearchCV\n",
    "depths=[5,10,15,20,25,30,35,40,45,50]\n",
    "tuned_parameters={'max_depth': depths}\n",
    "dtree = DecisionTreeClassifier()\n",
    "model = RandomizedSearchCV(dtree, tuned_parameters, scoring = 'f1', cv=5,return_train_score=True)\n",
    "model.fit(final_counts, y_tr)\n",
    "print(model.best_estimator_)\n",
    "pred = model.best_estimator_.predict(final_test)\n",
    "acc = accuracy_score(y_test, pred) * 100\n",
    "print('\\nThe accuracy of optimal decision tree classifier for optimal model is %f' % (acc))"
   ]
  },
  {
   "cell_type": "markdown",
   "metadata": {},
   "source": [
    "# Tfidf"
   ]
  },
  {
   "cell_type": "code",
   "execution_count": 33,
   "metadata": {},
   "outputs": [],
   "source": [
    "tf_idf_vect = TfidfVectorizer()\n",
    "final_tf_idf = tf_idf_vect.fit_transform(X_tr)\n",
    "final_test = tf_idf_vect.transform(X_test)"
   ]
  },
  {
   "cell_type": "code",
   "execution_count": 34,
   "metadata": {},
   "outputs": [
    {
     "name": "stdout",
     "output_type": "stream",
     "text": [
      "(29999, 31373)\n",
      "<class 'scipy.sparse.csr.csr_matrix'>\n"
     ]
    }
   ],
   "source": [
    "print(final_test.get_shape())\n",
    "print(type(final_test))"
   ]
  },
  {
   "cell_type": "code",
   "execution_count": 35,
   "metadata": {},
   "outputs": [
    {
     "data": {
      "text/plain": [
       "31373"
      ]
     },
     "execution_count": 35,
     "metadata": {},
     "output_type": "execute_result"
    }
   ],
   "source": [
    "features = tf_idf_vect.get_feature_names()\n",
    "len(features)"
   ]
  },
  {
   "cell_type": "code",
   "execution_count": 36,
   "metadata": {},
   "outputs": [
    {
     "data": {
      "text/plain": [
       "['adminst',\n",
       " 'admir',\n",
       " 'admiss',\n",
       " 'admit',\n",
       " 'admitt',\n",
       " 'admmit',\n",
       " 'admonish',\n",
       " 'adn',\n",
       " 'ado',\n",
       " 'adob']"
      ]
     },
     "execution_count": 36,
     "metadata": {},
     "output_type": "execute_result"
    }
   ],
   "source": [
    "features[300:310]"
   ]
  },
  {
   "cell_type": "code",
   "execution_count": 37,
   "metadata": {},
   "outputs": [
    {
     "name": "stdout",
     "output_type": "stream",
     "text": [
      "[0. 0. 0. ... 0. 0. 0.]\n"
     ]
    }
   ],
   "source": [
    "print(final_tf_idf[3,:].toarray()[0])"
   ]
  },
  {
   "cell_type": "code",
   "execution_count": 38,
   "metadata": {},
   "outputs": [
    {
     "name": "stdout",
     "output_type": "stream",
     "text": [
      "[23572 23565   101 16792 11081  4131  6922 14780  3709 17251  8311 27860\n",
      "  9955 19791 28619 21542 17712 21014 26005 30707 10421 10422 10458 10457\n",
      " 10456]\n"
     ]
    },
    {
     "data": {
      "text/plain": [
       "(1, 31373)"
      ]
     },
     "execution_count": 38,
     "metadata": {},
     "output_type": "execute_result"
    }
   ],
   "source": [
    "def top_tfidf_feats(row, features, top_n=25):\n",
    "    ''' Get top n tfidf values in row and return them with their corresponding feature names.'''\n",
    "\n",
    "    topn_ids = np.argsort(row)[::-1][:top_n]\n",
    "    top_feats = [(features[i], row[i]) for i in topn_ids]\n",
    "    df = pd.DataFrame(top_feats)\n",
    "    df.columns = ['feature', 'tfidf']\n",
    "    return df\n",
    "\n",
    "top_tfidf = top_tfidf_feats(final_tf_idf[3,:].toarray()[0],features)\n",
    "print(np.argsort(final_tf_idf[3,:].toarray()[0])[::-1][:25])\n",
    "\n",
    "final_tf_idf[3,:].get_shape()"
   ]
  },
  {
   "cell_type": "code",
   "execution_count": 39,
   "metadata": {},
   "outputs": [
    {
     "name": "stdout",
     "output_type": "stream",
     "text": [
      "\n",
      "The optimal number of depth is 10.\n"
     ]
    },
    {
     "data": {
      "image/png": "[encoded data removed]",
      "text/plain": [
       "<Figure size 432x288 with 1 Axes>"
      ]
     },
     "metadata": {},
     "output_type": "display_data"
    },
    {
     "name": "stdout",
     "output_type": "stream",
     "text": [
      "the misclassification error for each depth value is :  [0.06  0.058 0.058 0.059 0.059]\n"
     ]
    }
   ],
   "source": [
    "depths=[5,10,15,20,25]\n",
    "tuned_parameters={'max_depth':depths}\n",
    "dtree = DecisionTreeClassifier()\n",
    "model = GridSearchCV(dtree, tuned_parameters, scoring = 'f1', cv=5,return_train_score=True)\n",
    "model.fit(final_tf_idf, y_tr)\n",
    "result=pd.DataFrame(model.cv_results_) \n",
    "MSE_test=[1-i for i in result['mean_test_score']]\n",
    "MSE_train=[1-i for i in result['mean_train_score']]\n",
    "optimal_depth = depths[MSE_test.index(min(MSE_test))]\n",
    "print('\\nThe optimal number of depth is %d.' % optimal_depth)\n",
    "vals = [str(x) for x in depths]\n",
    "plt.plot(vals, MSE_test,label=\"test error\")\n",
    "plt.plot(vals, MSE_train,label=\"train error\")\n",
    "for xy in zip(vals, np.round(MSE_test,2)):\n",
    "    plt.annotate('(%s, %s)' % xy, xy=xy, textcoords='data')\n",
    "for xy in zip(vals, np.round(MSE_train,2)):\n",
    "    plt.annotate('(%s, %s)' % xy, xy=xy, textcoords='data')\n",
    "plt.legend()\n",
    "plt.xlabel('Value of depth')\n",
    "plt.ylabel('Misclassification Error')\n",
    "plt.show()\n",
    "print(\"the misclassification error for each depth value is : \", np.round(MSE_test,3))"
   ]
  },
  {
   "cell_type": "code",
   "execution_count": 40,
   "metadata": {},
   "outputs": [
    {
     "name": "stdout",
     "output_type": "stream",
     "text": [
      "\n",
      "The accuracy of optimal decision tree classifier for depth = 10 is 87.872929%\n"
     ]
    }
   ],
   "source": [
    "optimal_dtree= DecisionTreeClassifier(max_depth = optimal_depth)\n",
    "optimal_dtree.fit(final_tf_idf, y_tr)\n",
    "pred = optimal_dtree.predict(final_test)\n",
    "acc = accuracy_score(y_test, pred) * 100\n",
    "print('\\nThe accuracy of optimal decision tree classifier for depth = %d is %f%%' % (optimal_depth, acc))"
   ]
  },
  {
   "cell_type": "markdown",
   "metadata": {},
   "source": [
    "#### decision tree visualization"
   ]
  },
  {
   "cell_type": "code",
   "execution_count": 41,
   "metadata": {},
   "outputs": [
    {
     "data": {
      "image/svg+xml": [
       "<?xml version=\"1.0\" encoding=\"UTF-8\" standalone=\"no\"?>\n",
       "<!DOCTYPE svg PUBLIC \"-//W3C//DTD SVG 1.1//EN\"\n",
       " \"http://www.w3.org/Graphics/SVG/1.1/DTD/svg11.dtd\">\n",
       "<!-- Generated by graphviz version 2.40.1 (20161225.0304)\n",
       " -->\n",
       "<!-- Title: Tree Pages: 1 -->\n",
       "<svg width=\"625pt\" height=\"401pt\"\n",
       " viewBox=\"0.00 0.00 625.00 401.00\" xmlns=\"http://www.w3.org/2000/svg\" xmlns:xlink=\"http://www.w3.org/1999/xlink\">\n",
       "<g id=\"graph0\" class=\"graph\" transform=\"scale(1 1) rotate(0) translate(4 397)\">\n",
       "<title>Tree</title>\n",
       "<polygon fill=\"#ffffff\" stroke=\"transparent\" points=\"-4,4 -4,-397 621,-397 621,4 -4,4\"/>\n",
       "<!-- 0 -->\n",
       "<g id=\"node1\" class=\"node\">\n",
       "<title>0</title>\n",
       "<path fill=\"#399de5\" fill-opacity=\"0.866667\" stroke=\"#000000\" d=\"M375.5,-393C375.5,-393 252.5,-393 252.5,-393 246.5,-393 240.5,-387 240.5,-381 240.5,-381 240.5,-322 240.5,-322 240.5,-316 246.5,-310 252.5,-310 252.5,-310 375.5,-310 375.5,-310 381.5,-310 387.5,-316 387.5,-322 387.5,-322 387.5,-381 387.5,-381 387.5,-387 381.5,-393 375.5,-393\"/>\n",
       "<text text-anchor=\"start\" x=\"258\" y=\"-377.8\" font-family=\"Helvetica,sans-Serif\" font-size=\"14.00\" fill=\"#000000\">disappoint ≤ 0.047</text>\n",
       "<text text-anchor=\"start\" x=\"278.5\" y=\"-362.8\" font-family=\"Helvetica,sans-Serif\" font-size=\"14.00\" fill=\"#000000\">gini = 0.206</text>\n",
       "<text text-anchor=\"start\" x=\"261.5\" y=\"-347.8\" font-family=\"Helvetica,sans-Serif\" font-size=\"14.00\" fill=\"#000000\">samples = 70000</text>\n",
       "<text text-anchor=\"start\" x=\"248.5\" y=\"-332.8\" font-family=\"Helvetica,sans-Serif\" font-size=\"14.00\" fill=\"#000000\">value = [8168, 61832]</text>\n",
       "<text text-anchor=\"start\" x=\"267.5\" y=\"-317.8\" font-family=\"Helvetica,sans-Serif\" font-size=\"14.00\" fill=\"#000000\">class = positive</text>\n",
       "</g>\n",
       "<!-- 1 -->\n",
       "<g id=\"node2\" class=\"node\">\n",
       "<title>1</title>\n",
       "<path fill=\"#399de5\" fill-opacity=\"0.878431\" stroke=\"#000000\" d=\"M296.5,-274C296.5,-274 173.5,-274 173.5,-274 167.5,-274 161.5,-268 161.5,-262 161.5,-262 161.5,-203 161.5,-203 161.5,-197 167.5,-191 173.5,-191 173.5,-191 296.5,-191 296.5,-191 302.5,-191 308.5,-197 308.5,-203 308.5,-203 308.5,-262 308.5,-262 308.5,-268 302.5,-274 296.5,-274\"/>\n",
       "<text text-anchor=\"start\" x=\"194\" y=\"-258.8\" font-family=\"Helvetica,sans-Serif\" font-size=\"14.00\" fill=\"#000000\">worst ≤ 0.043</text>\n",
       "<text text-anchor=\"start\" x=\"199.5\" y=\"-243.8\" font-family=\"Helvetica,sans-Serif\" font-size=\"14.00\" fill=\"#000000\">gini = 0.191</text>\n",
       "<text text-anchor=\"start\" x=\"182.5\" y=\"-228.8\" font-family=\"Helvetica,sans-Serif\" font-size=\"14.00\" fill=\"#000000\">samples = 68033</text>\n",
       "<text text-anchor=\"start\" x=\"169.5\" y=\"-213.8\" font-family=\"Helvetica,sans-Serif\" font-size=\"14.00\" fill=\"#000000\">value = [7289, 60744]</text>\n",
       "<text text-anchor=\"start\" x=\"188.5\" y=\"-198.8\" font-family=\"Helvetica,sans-Serif\" font-size=\"14.00\" fill=\"#000000\">class = positive</text>\n",
       "</g>\n",
       "<!-- 0&#45;&gt;1 -->\n",
       "<g id=\"edge1\" class=\"edge\">\n",
       "<title>0&#45;&gt;1</title>\n",
       "<path fill=\"none\" stroke=\"#000000\" d=\"M286.3696,-309.8796C280.57,-301.1434 274.3941,-291.8404 268.4092,-282.8253\"/>\n",
       "<polygon fill=\"#000000\" stroke=\"#000000\" points=\"271.1951,-280.6935 262.7483,-274.2981 265.3632,-284.5652 271.1951,-280.6935\"/>\n",
       "<text text-anchor=\"middle\" x=\"257.7978\" y=\"-295.103\" font-family=\"Helvetica,sans-Serif\" font-size=\"14.00\" fill=\"#000000\">True</text>\n",
       "</g>\n",
       "<!-- 236 -->\n",
       "<g id=\"node9\" class=\"node\">\n",
       "<title>236</title>\n",
       "<path fill=\"#399de5\" fill-opacity=\"0.192157\" stroke=\"#000000\" d=\"M447,-274C447,-274 339,-274 339,-274 333,-274 327,-268 327,-262 327,-262 327,-203 327,-203 327,-197 333,-191 339,-191 339,-191 447,-191 447,-191 453,-191 459,-197 459,-203 459,-203 459,-262 459,-262 459,-268 453,-274 447,-274\"/>\n",
       "<text text-anchor=\"start\" x=\"353.5\" y=\"-258.8\" font-family=\"Helvetica,sans-Serif\" font-size=\"14.00\" fill=\"#000000\">wont ≤ 0.018</text>\n",
       "<text text-anchor=\"start\" x=\"357.5\" y=\"-243.8\" font-family=\"Helvetica,sans-Serif\" font-size=\"14.00\" fill=\"#000000\">gini = 0.494</text>\n",
       "<text text-anchor=\"start\" x=\"344.5\" y=\"-228.8\" font-family=\"Helvetica,sans-Serif\" font-size=\"14.00\" fill=\"#000000\">samples = 1967</text>\n",
       "<text text-anchor=\"start\" x=\"335\" y=\"-213.8\" font-family=\"Helvetica,sans-Serif\" font-size=\"14.00\" fill=\"#000000\">value = [879, 1088]</text>\n",
       "<text text-anchor=\"start\" x=\"346.5\" y=\"-198.8\" font-family=\"Helvetica,sans-Serif\" font-size=\"14.00\" fill=\"#000000\">class = positive</text>\n",
       "</g>\n",
       "<!-- 0&#45;&gt;236 -->\n",
       "<g id=\"edge8\" class=\"edge\">\n",
       "<title>0&#45;&gt;236</title>\n",
       "<path fill=\"none\" stroke=\"#000000\" d=\"M341.6304,-309.8796C347.43,-301.1434 353.6059,-291.8404 359.5908,-282.8253\"/>\n",
       "<polygon fill=\"#000000\" stroke=\"#000000\" points=\"362.6368,-284.5652 365.2517,-274.2981 356.8049,-280.6935 362.6368,-284.5652\"/>\n",
       "<text text-anchor=\"middle\" x=\"370.2022\" y=\"-295.103\" font-family=\"Helvetica,sans-Serif\" font-size=\"14.00\" fill=\"#000000\">False</text>\n",
       "</g>\n",
       "<!-- 2 -->\n",
       "<g id=\"node3\" class=\"node\">\n",
       "<title>2</title>\n",
       "<path fill=\"#399de5\" fill-opacity=\"0.882353\" stroke=\"#000000\" d=\"M151.5,-155C151.5,-155 28.5,-155 28.5,-155 22.5,-155 16.5,-149 16.5,-143 16.5,-143 16.5,-84 16.5,-84 16.5,-78 22.5,-72 28.5,-72 28.5,-72 151.5,-72 151.5,-72 157.5,-72 163.5,-78 163.5,-84 163.5,-84 163.5,-143 163.5,-143 163.5,-149 157.5,-155 151.5,-155\"/>\n",
       "<text text-anchor=\"start\" x=\"49.5\" y=\"-139.8\" font-family=\"Helvetica,sans-Serif\" font-size=\"14.00\" fill=\"#000000\">great ≤ 0.018</text>\n",
       "<text text-anchor=\"start\" x=\"54.5\" y=\"-124.8\" font-family=\"Helvetica,sans-Serif\" font-size=\"14.00\" fill=\"#000000\">gini = 0.187</text>\n",
       "<text text-anchor=\"start\" x=\"37.5\" y=\"-109.8\" font-family=\"Helvetica,sans-Serif\" font-size=\"14.00\" fill=\"#000000\">samples = 67735</text>\n",
       "<text text-anchor=\"start\" x=\"24.5\" y=\"-94.8\" font-family=\"Helvetica,sans-Serif\" font-size=\"14.00\" fill=\"#000000\">value = [7067, 60668]</text>\n",
       "<text text-anchor=\"start\" x=\"43.5\" y=\"-79.8\" font-family=\"Helvetica,sans-Serif\" font-size=\"14.00\" fill=\"#000000\">class = positive</text>\n",
       "</g>\n",
       "<!-- 1&#45;&gt;2 -->\n",
       "<g id=\"edge2\" class=\"edge\">\n",
       "<title>1&#45;&gt;2</title>\n",
       "<path fill=\"none\" stroke=\"#000000\" d=\"M184.286,-190.8796C172.873,-181.513 160.6659,-171.4948 148.9485,-161.8784\"/>\n",
       "<polygon fill=\"#000000\" stroke=\"#000000\" points=\"150.8809,-158.9366 140.9304,-155.2981 146.4401,-164.3476 150.8809,-158.9366\"/>\n",
       "</g>\n",
       "<!-- 185 -->\n",
       "<g id=\"node6\" class=\"node\">\n",
       "<title>185</title>\n",
       "<path fill=\"#e58139\" fill-opacity=\"0.658824\" stroke=\"#000000\" d=\"M286.5,-155C286.5,-155 193.5,-155 193.5,-155 187.5,-155 181.5,-149 181.5,-143 181.5,-143 181.5,-84 181.5,-84 181.5,-78 187.5,-72 193.5,-72 193.5,-72 286.5,-72 286.5,-72 292.5,-72 298.5,-78 298.5,-84 298.5,-84 298.5,-143 298.5,-143 298.5,-149 292.5,-155 286.5,-155\"/>\n",
       "<text text-anchor=\"start\" x=\"199\" y=\"-139.8\" font-family=\"Helvetica,sans-Serif\" font-size=\"14.00\" fill=\"#000000\">worst ≤ 0.154</text>\n",
       "<text text-anchor=\"start\" x=\"208\" y=\"-124.8\" font-family=\"Helvetica,sans-Serif\" font-size=\"14.00\" fill=\"#000000\">gini = 0.38</text>\n",
       "<text text-anchor=\"start\" x=\"195\" y=\"-109.8\" font-family=\"Helvetica,sans-Serif\" font-size=\"14.00\" fill=\"#000000\">samples = 298</text>\n",
       "<text text-anchor=\"start\" x=\"189.5\" y=\"-94.8\" font-family=\"Helvetica,sans-Serif\" font-size=\"14.00\" fill=\"#000000\">value = [222, 76]</text>\n",
       "<text text-anchor=\"start\" x=\"191\" y=\"-79.8\" font-family=\"Helvetica,sans-Serif\" font-size=\"14.00\" fill=\"#000000\">class = negative</text>\n",
       "</g>\n",
       "<!-- 1&#45;&gt;185 -->\n",
       "<g id=\"edge5\" class=\"edge\">\n",
       "<title>1&#45;&gt;185</title>\n",
       "<path fill=\"none\" stroke=\"#000000\" d=\"M236.7488,-190.8796C237.0931,-182.6838 237.4584,-173.9891 237.8151,-165.5013\"/>\n",
       "<polygon fill=\"#000000\" stroke=\"#000000\" points=\"241.3208,-165.4362 238.2438,-155.2981 234.327,-165.1423 241.3208,-165.4362\"/>\n",
       "</g>\n",
       "<!-- 3 -->\n",
       "<g id=\"node4\" class=\"node\">\n",
       "<title>3</title>\n",
       "<path fill=\"#c0c0c0\" stroke=\"#000000\" d=\"M42,-36C42,-36 12,-36 12,-36 6,-36 0,-30 0,-24 0,-24 0,-12 0,-12 0,-6 6,0 12,0 12,0 42,0 42,0 48,0 54,-6 54,-12 54,-12 54,-24 54,-24 54,-30 48,-36 42,-36\"/>\n",
       "<text text-anchor=\"middle\" x=\"27\" y=\"-14.3\" font-family=\"Helvetica,sans-Serif\" font-size=\"14.00\" fill=\"#000000\">(...)</text>\n",
       "</g>\n",
       "<!-- 2&#45;&gt;3 -->\n",
       "<g id=\"edge3\" class=\"edge\">\n",
       "<title>2&#45;&gt;3</title>\n",
       "<path fill=\"none\" stroke=\"#000000\" d=\"M62.5506,-71.8901C56.4473,-62.6384 50.1378,-53.0739 44.559,-44.6173\"/>\n",
       "<polygon fill=\"#000000\" stroke=\"#000000\" points=\"47.4774,-42.6851 39.0492,-36.2651 41.6343,-46.5397 47.4774,-42.6851\"/>\n",
       "</g>\n",
       "<!-- 122 -->\n",
       "<g id=\"node5\" class=\"node\">\n",
       "<title>122</title>\n",
       "<path fill=\"#c0c0c0\" stroke=\"#000000\" d=\"M114,-36C114,-36 84,-36 84,-36 78,-36 72,-30 72,-24 72,-24 72,-12 72,-12 72,-6 78,0 84,0 84,0 114,0 114,0 120,0 126,-6 126,-12 126,-12 126,-24 126,-24 126,-30 120,-36 114,-36\"/>\n",
       "<text text-anchor=\"middle\" x=\"99\" y=\"-14.3\" font-family=\"Helvetica,sans-Serif\" font-size=\"14.00\" fill=\"#000000\">(...)</text>\n",
       "</g>\n",
       "<!-- 2&#45;&gt;122 -->\n",
       "<g id=\"edge4\" class=\"edge\">\n",
       "<title>2&#45;&gt;122</title>\n",
       "<path fill=\"none\" stroke=\"#000000\" d=\"M93.9213,-71.8901C94.7382,-63.2227 95.5809,-54.2808 96.3393,-46.2325\"/>\n",
       "<polygon fill=\"#000000\" stroke=\"#000000\" points=\"99.8249,-46.5494 97.2787,-36.2651 92.8558,-45.8926 99.8249,-46.5494\"/>\n",
       "</g>\n",
       "<!-- 186 -->\n",
       "<g id=\"node7\" class=\"node\">\n",
       "<title>186</title>\n",
       "<path fill=\"#c0c0c0\" stroke=\"#000000\" d=\"M220,-36C220,-36 190,-36 190,-36 184,-36 178,-30 178,-24 178,-24 178,-12 178,-12 178,-6 184,0 190,0 190,0 220,0 220,0 226,0 232,-6 232,-12 232,-12 232,-24 232,-24 232,-30 226,-36 220,-36\"/>\n",
       "<text text-anchor=\"middle\" x=\"205\" y=\"-14.3\" font-family=\"Helvetica,sans-Serif\" font-size=\"14.00\" fill=\"#000000\">(...)</text>\n",
       "</g>\n",
       "<!-- 185&#45;&gt;186 -->\n",
       "<g id=\"edge6\" class=\"edge\">\n",
       "<title>185&#45;&gt;186</title>\n",
       "<path fill=\"none\" stroke=\"#000000\" d=\"M224.7503,-71.8901C221.5024,-63.0279 218.1493,-53.8788 215.1486,-45.6913\"/>\n",
       "<polygon fill=\"#000000\" stroke=\"#000000\" points=\"218.4214,-44.45 211.694,-36.2651 211.8489,-46.8588 218.4214,-44.45\"/>\n",
       "</g>\n",
       "<!-- 217 -->\n",
       "<g id=\"node8\" class=\"node\">\n",
       "<title>217</title>\n",
       "<path fill=\"#c0c0c0\" stroke=\"#000000\" d=\"M292,-36C292,-36 262,-36 262,-36 256,-36 250,-30 250,-24 250,-24 250,-12 250,-12 250,-6 256,0 262,0 262,0 292,0 292,0 298,0 304,-6 304,-12 304,-12 304,-24 304,-24 304,-30 298,-36 292,-36\"/>\n",
       "<text text-anchor=\"middle\" x=\"277\" y=\"-14.3\" font-family=\"Helvetica,sans-Serif\" font-size=\"14.00\" fill=\"#000000\">(...)</text>\n",
       "</g>\n",
       "<!-- 185&#45;&gt;217 -->\n",
       "<g id=\"edge7\" class=\"edge\">\n",
       "<title>185&#45;&gt;217</title>\n",
       "<path fill=\"none\" stroke=\"#000000\" d=\"M256.1211,-71.8901C259.5546,-63.0279 263.0993,-53.8788 266.2715,-45.6913\"/>\n",
       "<polygon fill=\"#000000\" stroke=\"#000000\" points=\"269.5743,-46.8542 269.9235,-36.2651 263.0471,-44.3253 269.5743,-46.8542\"/>\n",
       "</g>\n",
       "<!-- 237 -->\n",
       "<g id=\"node10\" class=\"node\">\n",
       "<title>237</title>\n",
       "<path fill=\"#399de5\" fill-opacity=\"0.035294\" stroke=\"#000000\" d=\"M438.5,-155C438.5,-155 337.5,-155 337.5,-155 331.5,-155 325.5,-149 325.5,-143 325.5,-143 325.5,-84 325.5,-84 325.5,-78 331.5,-72 337.5,-72 337.5,-72 438.5,-72 438.5,-72 444.5,-72 450.5,-78 450.5,-84 450.5,-84 450.5,-143 450.5,-143 450.5,-149 444.5,-155 438.5,-155\"/>\n",
       "<text text-anchor=\"start\" x=\"350\" y=\"-139.8\" font-family=\"Helvetica,sans-Serif\" font-size=\"14.00\" fill=\"#000000\">best ≤ 0.031</text>\n",
       "<text text-anchor=\"start\" x=\"360\" y=\"-124.8\" font-family=\"Helvetica,sans-Serif\" font-size=\"14.00\" fill=\"#000000\">gini = 0.5</text>\n",
       "<text text-anchor=\"start\" x=\"339.5\" y=\"-109.8\" font-family=\"Helvetica,sans-Serif\" font-size=\"14.00\" fill=\"#000000\">samples = 1695</text>\n",
       "<text text-anchor=\"start\" x=\"333.5\" y=\"-94.8\" font-family=\"Helvetica,sans-Serif\" font-size=\"14.00\" fill=\"#000000\">value = [833, 862]</text>\n",
       "<text text-anchor=\"start\" x=\"341.5\" y=\"-79.8\" font-family=\"Helvetica,sans-Serif\" font-size=\"14.00\" fill=\"#000000\">class = positive</text>\n",
       "</g>\n",
       "<!-- 236&#45;&gt;237 -->\n",
       "<g id=\"edge9\" class=\"edge\">\n",
       "<title>236&#45;&gt;237</title>\n",
       "<path fill=\"none\" stroke=\"#000000\" d=\"M391.2512,-190.8796C390.9069,-182.6838 390.5416,-173.9891 390.1849,-165.5013\"/>\n",
       "<polygon fill=\"#000000\" stroke=\"#000000\" points=\"393.673,-165.1423 389.7562,-155.2981 386.6792,-165.4362 393.673,-165.1423\"/>\n",
       "</g>\n",
       "<!-- 338 -->\n",
       "<g id=\"node13\" class=\"node\">\n",
       "<title>338</title>\n",
       "<path fill=\"#399de5\" fill-opacity=\"0.796078\" stroke=\"#000000\" d=\"M573.5,-155C573.5,-155 480.5,-155 480.5,-155 474.5,-155 468.5,-149 468.5,-143 468.5,-143 468.5,-84 468.5,-84 468.5,-78 474.5,-72 480.5,-72 480.5,-72 573.5,-72 573.5,-72 579.5,-72 585.5,-78 585.5,-84 585.5,-84 585.5,-143 585.5,-143 585.5,-149 579.5,-155 573.5,-155\"/>\n",
       "<text text-anchor=\"start\" x=\"490.5\" y=\"-139.8\" font-family=\"Helvetica,sans-Serif\" font-size=\"14.00\" fill=\"#000000\">dog ≤ 0.064</text>\n",
       "<text text-anchor=\"start\" x=\"491.5\" y=\"-124.8\" font-family=\"Helvetica,sans-Serif\" font-size=\"14.00\" fill=\"#000000\">gini = 0.281</text>\n",
       "<text text-anchor=\"start\" x=\"482\" y=\"-109.8\" font-family=\"Helvetica,sans-Serif\" font-size=\"14.00\" fill=\"#000000\">samples = 272</text>\n",
       "<text text-anchor=\"start\" x=\"476.5\" y=\"-94.8\" font-family=\"Helvetica,sans-Serif\" font-size=\"14.00\" fill=\"#000000\">value = [46, 226]</text>\n",
       "<text text-anchor=\"start\" x=\"480.5\" y=\"-79.8\" font-family=\"Helvetica,sans-Serif\" font-size=\"14.00\" fill=\"#000000\">class = positive</text>\n",
       "</g>\n",
       "<!-- 236&#45;&gt;338 -->\n",
       "<g id=\"edge12\" class=\"edge\">\n",
       "<title>236&#45;&gt;338</title>\n",
       "<path fill=\"none\" stroke=\"#000000\" d=\"M439.8667,-190.8796C450.3125,-181.6031 461.4781,-171.6874 472.211,-162.1559\"/>\n",
       "<polygon fill=\"#000000\" stroke=\"#000000\" points=\"474.7801,-164.5553 479.9333,-155.2981 470.132,-159.3213 474.7801,-164.5553\"/>\n",
       "</g>\n",
       "<!-- 238 -->\n",
       "<g id=\"node11\" class=\"node\">\n",
       "<title>238</title>\n",
       "<path fill=\"#c0c0c0\" stroke=\"#000000\" d=\"M381,-36C381,-36 351,-36 351,-36 345,-36 339,-30 339,-24 339,-24 339,-12 339,-12 339,-6 345,0 351,0 351,0 381,0 381,0 387,0 393,-6 393,-12 393,-12 393,-24 393,-24 393,-30 387,-36 381,-36\"/>\n",
       "<text text-anchor=\"middle\" x=\"366\" y=\"-14.3\" font-family=\"Helvetica,sans-Serif\" font-size=\"14.00\" fill=\"#000000\">(...)</text>\n",
       "</g>\n",
       "<!-- 237&#45;&gt;238 -->\n",
       "<g id=\"edge10\" class=\"edge\">\n",
       "<title>237&#45;&gt;238</title>\n",
       "<path fill=\"none\" stroke=\"#000000\" d=\"M378.4145,-71.8901C376.4178,-63.2227 374.3579,-54.2808 372.5038,-46.2325\"/>\n",
       "<polygon fill=\"#000000\" stroke=\"#000000\" points=\"375.8633,-45.2241 370.2077,-36.2651 369.0419,-46.7956 375.8633,-45.2241\"/>\n",
       "</g>\n",
       "<!-- 315 -->\n",
       "<g id=\"node12\" class=\"node\">\n",
       "<title>315</title>\n",
       "<path fill=\"#c0c0c0\" stroke=\"#000000\" d=\"M453,-36C453,-36 423,-36 423,-36 417,-36 411,-30 411,-24 411,-24 411,-12 411,-12 411,-6 417,0 423,0 423,0 453,0 453,0 459,0 465,-6 465,-12 465,-12 465,-24 465,-24 465,-30 459,-36 453,-36\"/>\n",
       "<text text-anchor=\"middle\" x=\"438\" y=\"-14.3\" font-family=\"Helvetica,sans-Serif\" font-size=\"14.00\" fill=\"#000000\">(...)</text>\n",
       "</g>\n",
       "<!-- 237&#45;&gt;315 -->\n",
       "<g id=\"edge11\" class=\"edge\">\n",
       "<title>237&#45;&gt;315</title>\n",
       "<path fill=\"none\" stroke=\"#000000\" d=\"M409.7853,-71.8901C414.5272,-62.8331 419.4259,-53.4765 423.7839,-45.1528\"/>\n",
       "<polygon fill=\"#000000\" stroke=\"#000000\" points=\"426.8995,-46.7478 428.4371,-36.2651 420.698,-43.5009 426.8995,-46.7478\"/>\n",
       "</g>\n",
       "<!-- 339 -->\n",
       "<g id=\"node14\" class=\"node\">\n",
       "<title>339</title>\n",
       "<path fill=\"#c0c0c0\" stroke=\"#000000\" d=\"M533,-36C533,-36 503,-36 503,-36 497,-36 491,-30 491,-24 491,-24 491,-12 491,-12 491,-6 497,0 503,0 503,0 533,0 533,0 539,0 545,-6 545,-12 545,-12 545,-24 545,-24 545,-30 539,-36 533,-36\"/>\n",
       "<text text-anchor=\"middle\" x=\"518\" y=\"-14.3\" font-family=\"Helvetica,sans-Serif\" font-size=\"14.00\" fill=\"#000000\">(...)</text>\n",
       "</g>\n",
       "<!-- 338&#45;&gt;339 -->\n",
       "<g id=\"edge13\" class=\"edge\">\n",
       "<title>338&#45;&gt;339</title>\n",
       "<path fill=\"none\" stroke=\"#000000\" d=\"M523.0787,-71.8901C522.2618,-63.2227 521.4191,-54.2808 520.6607,-46.2325\"/>\n",
       "<polygon fill=\"#000000\" stroke=\"#000000\" points=\"524.1442,-45.8926 519.7213,-36.2651 517.1751,-46.5494 524.1442,-45.8926\"/>\n",
       "</g>\n",
       "<!-- 368 -->\n",
       "<g id=\"node15\" class=\"node\">\n",
       "<title>368</title>\n",
       "<path fill=\"#c0c0c0\" stroke=\"#000000\" d=\"M605,-36C605,-36 575,-36 575,-36 569,-36 563,-30 563,-24 563,-24 563,-12 563,-12 563,-6 569,0 575,0 575,0 605,0 605,0 611,0 617,-6 617,-12 617,-12 617,-24 617,-24 617,-30 611,-36 605,-36\"/>\n",
       "<text text-anchor=\"middle\" x=\"590\" y=\"-14.3\" font-family=\"Helvetica,sans-Serif\" font-size=\"14.00\" fill=\"#000000\">(...)</text>\n",
       "</g>\n",
       "<!-- 338&#45;&gt;368 -->\n",
       "<g id=\"edge14\" class=\"edge\">\n",
       "<title>338&#45;&gt;368</title>\n",
       "<path fill=\"none\" stroke=\"#000000\" d=\"M554.4494,-71.8901C560.5527,-62.6384 566.8622,-53.0739 572.441,-44.6173\"/>\n",
       "<polygon fill=\"#000000\" stroke=\"#000000\" points=\"575.3657,-46.5397 577.9508,-36.2651 569.5226,-42.6851 575.3657,-46.5397\"/>\n",
       "</g>\n",
       "</g>\n",
       "</svg>\n"
      ],
      "text/plain": [
       "<graphviz.files.Source at 0x7f7127c1f358>"
      ]
     },
     "execution_count": 41,
     "metadata": {},
     "output_type": "execute_result"
    }
   ],
   "source": [
    "import graphviz\n",
    "from sklearn.externals.six import StringIO\n",
    "from sklearn import tree\n",
    "dot_data = StringIO()\n",
    "tree.export_graphviz(optimal_dtree, out_file=dot_data)\n",
    "dot_data = tree.export_graphviz(optimal_dtree, out_file=None,max_depth=2, feature_names=tf_idf_vect.get_feature_names(),  class_names=['negative','positive'],  \n",
    "filled=True, rounded=True,  special_characters=True)\n",
    "graph = graphviz.Source(dot_data)\n",
    "graph"
   ]
  },
  {
   "cell_type": "markdown",
   "metadata": {},
   "source": [
    "#### Confusion matrix on test dataset"
   ]
  },
  {
   "cell_type": "code",
   "execution_count": 42,
   "metadata": {},
   "outputs": [
    {
     "data": {
      "text/plain": [
       "<matplotlib.axes._subplots.AxesSubplot at 0x7f712822e0b8>"
      ]
     },
     "execution_count": 42,
     "metadata": {},
     "output_type": "execute_result"
    },
    {
     "data": {
      "image/png": "[encoded data removed]",
      "text/plain": [
       "<Figure size 432x288 with 2 Axes>"
      ]
     },
     "metadata": {},
     "output_type": "display_data"
    }
   ],
   "source": [
    "from sklearn.metrics import confusion_matrix\n",
    "import seaborn as sn\n",
    "import pandas as pd\n",
    "import matplotlib.pyplot as plt\n",
    "cf_matrix=confusion_matrix(y_test, pred)\n",
    "df_cm = pd.DataFrame(cf_matrix,range(0,2),range(0,2))\n",
    "sn.heatmap(df_cm, annot=True)"
   ]
  },
  {
   "cell_type": "markdown",
   "metadata": {},
   "source": [
    "#### feature importance"
   ]
  },
  {
   "cell_type": "code",
   "execution_count": 44,
   "metadata": {},
   "outputs": [
    {
     "name": "stdout",
     "output_type": "stream",
     "text": [
      "Top features to classify class labels are:\n",
      "\n",
      "['disappoint' 'worst' 'great' 'wast' 'terribl' 'horribl' 'best' 'return'\n",
      " 'love' 'bad' 'money' 'tast' 'delici' 'wont' 'threw' 'flavor' 'mayb'\n",
      " 'product' 'thought' 'ive'] \n",
      "\n"
     ]
    }
   ],
   "source": [
    "print(\"Top features to classify class labels are:\\n\")\n",
    "imp_fec = optimal_dtree.feature_importances_.argsort()[::-1]\n",
    "print(np.take(count_vect.get_feature_names(), imp_fec[:20]),\"\\n\")"
   ]
  },
  {
   "cell_type": "markdown",
   "metadata": {},
   "source": [
    "#### precision recall and f1-score values"
   ]
  },
  {
   "cell_type": "code",
   "execution_count": 45,
   "metadata": {},
   "outputs": [
    {
     "name": "stdout",
     "output_type": "stream",
     "text": [
      "precision of the decion tree classifier bag of words is 0.8606445018604867\n",
      "recall of the decion tree classifier bag of words is 0.8787292909763659\n",
      "fscore of the decion tree classifier bag of words is 0.8479305379952633\n"
     ]
    }
   ],
   "source": [
    "from sklearn.metrics import precision_recall_fscore_support\n",
    "scr=precision_recall_fscore_support(y_test, pred, average='weighted')\n",
    "print(\"precision of the decion tree classifier bag of words is\",scr[0])\n",
    "print(\"recall of the decion tree classifier bag of words is\",scr[1])\n",
    "print(\"fscore of the decion tree classifier bag of words is\",scr[2])"
   ]
  },
  {
   "cell_type": "markdown",
   "metadata": {},
   "source": [
    "#### Confusion matrix on train dataset"
   ]
  },
  {
   "cell_type": "code",
   "execution_count": 46,
   "metadata": {},
   "outputs": [
    {
     "name": "stdout",
     "output_type": "stream",
     "text": [
      "\n",
      "The accuracy of optimal decision tree classifier for depth = 10 is 90.371429%\n"
     ]
    }
   ],
   "source": [
    "optimal_dtree.fit(final_tf_idf, y_tr)\n",
    "pred = optimal_dtree.predict(final_tf_idf)\n",
    "acc = accuracy_score(y_tr, pred) * 100\n",
    "print('\\nThe accuracy of optimal decision tree classifier for depth = %d is %f%%' % (optimal_depth, acc))"
   ]
  },
  {
   "cell_type": "code",
   "execution_count": 47,
   "metadata": {},
   "outputs": [
    {
     "data": {
      "text/plain": [
       "<matplotlib.axes._subplots.AxesSubplot at 0x7f7127c7d358>"
      ]
     },
     "execution_count": 47,
     "metadata": {},
     "output_type": "execute_result"
    },
    {
     "data": {
      "image/png": "[encoded data removed]",
      "text/plain": [
       "<Figure size 432x288 with 2 Axes>"
      ]
     },
     "metadata": {},
     "output_type": "display_data"
    }
   ],
   "source": [
    "from sklearn.metrics import confusion_matrix\n",
    "import seaborn as sn\n",
    "import pandas as pd\n",
    "import matplotlib.pyplot as plt\n",
    "cf_matrix=confusion_matrix(y_tr, pred)\n",
    "df_cm = pd.DataFrame(cf_matrix,range(0,2),range(0,2))\n",
    "sn.heatmap(df_cm, annot=True)"
   ]
  },
  {
   "cell_type": "markdown",
   "metadata": {},
   "source": [
    "#### Tf-Idf using RandonSearchCV"
   ]
  },
  {
   "cell_type": "code",
   "execution_count": 48,
   "metadata": {},
   "outputs": [
    {
     "name": "stdout",
     "output_type": "stream",
     "text": [
      "DecisionTreeClassifier(class_weight=None, criterion='gini', max_depth=10,\n",
      "            max_features=None, max_leaf_nodes=None,\n",
      "            min_impurity_decrease=0.0, min_impurity_split=None,\n",
      "            min_samples_leaf=1, min_samples_split=2,\n",
      "            min_weight_fraction_leaf=0.0, presort=False, random_state=None,\n",
      "            splitter='best')\n",
      "\n",
      "The accuracy of optimal decision tree classifier for optimal model is 87.852928\n"
     ]
    }
   ],
   "source": [
    "from sklearn.model_selection import RandomizedSearchCV\n",
    "depths=[5,10,15,20,25,30,35,40,45,50]\n",
    "tuned_parameters={'max_depth': depths}\n",
    "dtree = DecisionTreeClassifier()\n",
    "model = RandomizedSearchCV(dtree, tuned_parameters, scoring = 'f1', cv=5,return_train_score=True)\n",
    "model.fit(final_tf_idf, y_tr)\n",
    "print(model.best_estimator_)\n",
    "pred = model.best_estimator_.predict(final_test)\n",
    "acc = accuracy_score(y_test, pred) * 100\n",
    "print('\\nThe accuracy of optimal decision tree classifier for optimal model is %f' % (acc))"
   ]
  },
  {
   "cell_type": "markdown",
   "metadata": {},
   "source": [
    "# Word to Vec"
   ]
  },
  {
   "cell_type": "code",
   "execution_count": 49,
   "metadata": {},
   "outputs": [],
   "source": [
    "list_of_sent=[]\n",
    "for sent in X_tr:\n",
    "    list_of_sent.append(sent.split())"
   ]
  },
  {
   "cell_type": "code",
   "execution_count": 50,
   "metadata": {},
   "outputs": [],
   "source": [
    "list_of_test=[]\n",
    "for sent in X_test:\n",
    "    list_of_test.append(sent.split())"
   ]
  },
  {
   "cell_type": "code",
   "execution_count": 51,
   "metadata": {},
   "outputs": [
    {
     "name": "stdout",
     "output_type": "stream",
     "text": [
      "witti littl book make son laugh loud recit car drive along alway sing refrain hes learn whale india droop love new word book introduc silli classic book will bet son still abl recit memori colleg\n",
      "*****************************************************************\n",
      "['witti', 'littl', 'book', 'make', 'son', 'laugh', 'loud', 'recit', 'car', 'drive', 'along', 'alway', 'sing', 'refrain', 'hes', 'learn', 'whale', 'india', 'droop', 'love', 'new', 'word', 'book', 'introduc', 'silli', 'classic', 'book', 'will', 'bet', 'son', 'still', 'abl', 'recit', 'memori', 'colleg']\n"
     ]
    }
   ],
   "source": [
    "print(X_tr.iloc[0])\n",
    "print(\"*****************************************************************\")\n",
    "print(list_of_sent[0])"
   ]
  },
  {
   "cell_type": "code",
   "execution_count": 53,
   "metadata": {},
   "outputs": [
    {
     "name": "stdout",
     "output_type": "stream",
     "text": [
      "great price wonder creami resin flavor toast skillet microwav add salad cooki anyth freez well keep frige hand eat one highest nut protein\n",
      "*****************************************************************\n",
      "['great', 'price', 'wonder', 'creami', 'resin', 'flavor', 'toast', 'skillet', 'microwav', 'add', 'salad', 'cooki', 'anyth', 'freez', 'well', 'keep', 'frige', 'hand', 'eat', 'one', 'highest', 'nut', 'protein']\n"
     ]
    }
   ],
   "source": [
    "print(X_test.iloc[0])\n",
    "print(\"*****************************************************************\")\n",
    "print(list_of_test[0])"
   ]
  },
  {
   "cell_type": "code",
   "execution_count": 54,
   "metadata": {},
   "outputs": [],
   "source": [
    "import gensim\n",
    "w2v_model=gensim.models.Word2Vec(list_of_sent,min_count=5,size=50, workers=4)\n",
    "w2v_words = list(w2v_model.wv.vocab)"
   ]
  },
  {
   "cell_type": "code",
   "execution_count": 55,
   "metadata": {},
   "outputs": [
    {
     "name": "stdout",
     "output_type": "stream",
     "text": [
      "number of words that occured minimum 5 times\n",
      "  10700\n",
      "sample words  ['witti', 'littl', 'book', 'make', 'son', 'laugh', 'loud', 'car', 'drive', 'along', 'alway', 'sing', 'refrain', 'hes', 'learn', 'whale', 'india', 'droop', 'love', 'new', 'word', 'introduc', 'silli', 'classic', 'will', 'bet', 'still', 'abl', 'memori', 'colleg', 'rememb', 'see', 'show', 'air', 'televis', 'year', 'ago', 'child', 'sister', 'later', 'bought', 'day', 'thirti', 'someth', 'use', 'seri', 'song', 'student', 'teach', 'preschool']\n"
     ]
    }
   ],
   "source": [
    "print(\"number of words that occured minimum 5 times\\n \",len(w2v_words))\n",
    "print(\"sample words \", w2v_words[0:50])"
   ]
  },
  {
   "cell_type": "code",
   "execution_count": 56,
   "metadata": {},
   "outputs": [
    {
     "name": "stderr",
     "output_type": "stream",
     "text": [
      "/home/gateway/home/gateway/anaconda/lib/python3.6/site-packages/gensim/matutils.py:737: FutureWarning: Conversion of the second argument of issubdtype from `int` to `np.signedinteger` is deprecated. In future, it will be treated as `np.int64 == np.dtype(int).type`.\n",
      "  if np.issubdtype(vec.dtype, np.int):\n"
     ]
    },
    {
     "data": {
      "text/plain": [
       "[('articl', 0.792966902256012),\n",
       " ('author', 0.7925324440002441),\n",
       " ('blog', 0.7891132235527039),\n",
       " ('magazin', 0.7718403339385986),\n",
       " ('video', 0.7457699775695801),\n",
       " ('copi', 0.7457298636436462),\n",
       " ('page', 0.7412633299827576),\n",
       " ('inform', 0.72115159034729),\n",
       " ('info', 0.7178357243537903),\n",
       " ('group', 0.7070796489715576)]"
      ]
     },
     "execution_count": 56,
     "metadata": {},
     "output_type": "execute_result"
    }
   ],
   "source": [
    "w2v_model.wv.most_similar('book')"
   ]
  },
  {
   "cell_type": "code",
   "execution_count": 57,
   "metadata": {},
   "outputs": [
    {
     "name": "stderr",
     "output_type": "stream",
     "text": [
      "/home/gateway/home/gateway/anaconda/lib/python3.6/site-packages/gensim/matutils.py:737: FutureWarning: Conversion of the second argument of issubdtype from `int` to `np.signedinteger` is deprecated. In future, it will be treated as `np.int64 == np.dtype(int).type`.\n",
      "  if np.issubdtype(vec.dtype, np.int):\n"
     ]
    },
    {
     "data": {
      "text/plain": [
       "[('stuffer', 0.5177405476570129),\n",
       " ('home', 0.49836158752441406),\n",
       " ('desk', 0.49583789706230164),\n",
       " ('hous', 0.4932933449745178),\n",
       " ('everyon', 0.49278295040130615),\n",
       " ('quick', 0.4926113486289978),\n",
       " ('anytim', 0.4909180700778961),\n",
       " ('conveni', 0.4720516502857208),\n",
       " ('purs', 0.4717640280723572),\n",
       " ('fast', 0.47121667861938477)]"
      ]
     },
     "execution_count": 57,
     "metadata": {},
     "output_type": "execute_result"
    }
   ],
   "source": [
    "w2v_model.wv.most_similar('alway')"
   ]
  },
  {
   "cell_type": "markdown",
   "metadata": {},
   "source": [
    "# Avg word2Vec"
   ]
  },
  {
   "cell_type": "code",
   "execution_count": 58,
   "metadata": {},
   "outputs": [],
   "source": [
    "sent_vectors = [];\n",
    "for sent in list_of_sent: \n",
    "    sent_vec = np.zeros(50)\n",
    "    cnt_words =0; \n",
    "    for word in sent: \n",
    "        if word in w2v_words:\n",
    "            vec = w2v_model.wv[word]\n",
    "            sent_vec += vec\n",
    "            cnt_words += 1\n",
    "    if cnt_words != 0:\n",
    "        sent_vec /= cnt_words\n",
    "    sent_vectors.append(sent_vec)"
   ]
  },
  {
   "cell_type": "code",
   "execution_count": 59,
   "metadata": {},
   "outputs": [],
   "source": [
    "test_vectors = [];\n",
    "for sent in list_of_test: \n",
    "    sent_vec = np.zeros(50)\n",
    "    cnt_words =0;\n",
    "    for word in sent:\n",
    "        if word in w2v_words:\n",
    "            vec = w2v_model.wv[word]\n",
    "            sent_vec += vec\n",
    "            cnt_words += 1\n",
    "    if cnt_words != 0:\n",
    "        sent_vec /= cnt_words\n",
    "    test_vectors.append(sent_vec)"
   ]
  },
  {
   "cell_type": "code",
   "execution_count": 60,
   "metadata": {},
   "outputs": [],
   "source": [
    "df = pd.DataFrame(sent_vectors)\n",
    "sent_vectors=df.fillna(0)\n",
    "df = pd.DataFrame(test_vectors)\n",
    "test_vectors=df.fillna(0)"
   ]
  },
  {
   "cell_type": "code",
   "execution_count": 61,
   "metadata": {
    "scrolled": false
   },
   "outputs": [
    {
     "name": "stdout",
     "output_type": "stream",
     "text": [
      "\n",
      "The optimal number of depth is 5.\n"
     ]
    },
    {
     "data": {
      "image/png": "[encoded data removed]",
      "text/plain": [
       "<Figure size 432x288 with 1 Axes>"
      ]
     },
     "metadata": {},
     "output_type": "display_data"
    },
    {
     "name": "stdout",
     "output_type": "stream",
     "text": [
      "the misclassification error for each depth value is :  [0.062 0.061 0.069 0.093 0.092 0.093 0.092]\n"
     ]
    }
   ],
   "source": [
    "depths=[1, 5, 10, 50, 100, 500, 1000]\n",
    "tuned_parameters={'max_depth':depths}\n",
    "dtree = DecisionTreeClassifier()\n",
    "model = GridSearchCV(dtree, tuned_parameters, scoring = 'f1', cv=5,return_train_score=True)\n",
    "model.fit(sent_vectors, y_tr)\n",
    "result=pd.DataFrame(model.cv_results_) \n",
    "MSE_test=[1-i for i in result['mean_test_score']]\n",
    "MSE_train=[1-i for i in result['mean_train_score']]\n",
    "optimal_depth = depths[MSE_test.index(min(MSE_test))]\n",
    "print('\\nThe optimal number of depth is %d.' % optimal_depth)\n",
    "vals = [str(x) for x in depths]\n",
    "plt.plot(vals, MSE_test,label=\"test error\")\n",
    "plt.plot(vals, MSE_train,label=\"train error\")\n",
    "for xy in zip(vals, np.round(MSE_test,2)):\n",
    "    plt.annotate('(%s, %s)' % xy, xy=xy, textcoords='data')\n",
    "for xy in zip(vals, np.round(MSE_train,2)):\n",
    "    plt.annotate('(%s, %s)' % xy, xy=xy, textcoords='data')\n",
    "plt.legend()\n",
    "plt.xlabel('Value of depth')\n",
    "plt.ylabel('Misclassification Error')\n",
    "plt.show()\n",
    "print(\"the misclassification error for each depth value is : \", np.round(MSE_test,3))"
   ]
  },
  {
   "cell_type": "code",
   "execution_count": 62,
   "metadata": {},
   "outputs": [
    {
     "name": "stdout",
     "output_type": "stream",
     "text": [
      "\n",
      "The accuracy of optimal decision tree classifier for depth = 5 is 86.956232%\n"
     ]
    }
   ],
   "source": [
    "optimal_dtree= DecisionTreeClassifier(max_depth = optimal_depth)\n",
    "optimal_dtree.fit(sent_vectors, y_tr)\n",
    "pred = optimal_dtree.predict(test_vectors)\n",
    "acc = accuracy_score(y_test, pred) * 100\n",
    "print('\\nThe accuracy of optimal decision tree classifier for depth = %d is %f%%' % (optimal_depth, acc))"
   ]
  },
  {
   "cell_type": "markdown",
   "metadata": {},
   "source": [
    "#### Confusion matrix on test dataset"
   ]
  },
  {
   "cell_type": "code",
   "execution_count": 63,
   "metadata": {},
   "outputs": [
    {
     "data": {
      "text/plain": [
       "<matplotlib.axes._subplots.AxesSubplot at 0x7f70f69bed30>"
      ]
     },
     "execution_count": 63,
     "metadata": {},
     "output_type": "execute_result"
    },
    {
     "data": {
      "image/png": "[encoded data removed]",
      "text/plain": [
       "<Figure size 432x288 with 2 Axes>"
      ]
     },
     "metadata": {},
     "output_type": "display_data"
    }
   ],
   "source": [
    "from sklearn.metrics import confusion_matrix\n",
    "import seaborn as sn\n",
    "import pandas as pd\n",
    "import matplotlib.pyplot as plt\n",
    "cf_matrix=confusion_matrix(y_test, pred)\n",
    "df_cm = pd.DataFrame(cf_matrix,range(0,2),range(0,2))\n",
    "sn.heatmap(df_cm, annot=True)"
   ]
  },
  {
   "cell_type": "markdown",
   "metadata": {},
   "source": [
    "#### precision recall and f1-score values"
   ]
  },
  {
   "cell_type": "code",
   "execution_count": 64,
   "metadata": {},
   "outputs": [
    {
     "name": "stdout",
     "output_type": "stream",
     "text": [
      "precision of the decion tree classifier for bag of words is 0.8401797700528152\n",
      "recall of the decion tree classifier for bag of words is 0.8695623187439582\n",
      "fscore of the decion tree classifier for bag of words is 0.8336298705139569\n"
     ]
    }
   ],
   "source": [
    "from sklearn.metrics import precision_recall_fscore_support\n",
    "scr=precision_recall_fscore_support(y_test, pred, average='weighted')\n",
    "print(\"precision of the decion tree classifier for bag of words is\",scr[0])\n",
    "print(\"recall of the decion tree classifier for bag of words is\",scr[1])\n",
    "print(\"fscore of the decion tree classifier for bag of words is\",scr[2])"
   ]
  },
  {
   "cell_type": "markdown",
   "metadata": {},
   "source": [
    "#### Confusion matrix on train dataset"
   ]
  },
  {
   "cell_type": "code",
   "execution_count": 66,
   "metadata": {},
   "outputs": [
    {
     "name": "stdout",
     "output_type": "stream",
     "text": [
      "\n",
      "The accuracy of optimal decision tree classifier for depth = 5 is 88.931429%\n"
     ]
    }
   ],
   "source": [
    "optimal_dtree.fit(sent_vectors, y_tr)\n",
    "pred = optimal_dtree.predict(sent_vectors)\n",
    "acc = accuracy_score(y_tr, pred) * 100\n",
    "print('\\nThe accuracy of optimal decision tree classifier for depth = %d is %f%%' % (optimal_depth, acc))"
   ]
  },
  {
   "cell_type": "code",
   "execution_count": 67,
   "metadata": {},
   "outputs": [
    {
     "data": {
      "text/plain": [
       "<matplotlib.axes._subplots.AxesSubplot at 0x7f70f08f3240>"
      ]
     },
     "execution_count": 67,
     "metadata": {},
     "output_type": "execute_result"
    },
    {
     "data": {
      "image/png": "[encoded data removed]",
      "text/plain": [
       "<Figure size 432x288 with 2 Axes>"
      ]
     },
     "metadata": {},
     "output_type": "display_data"
    }
   ],
   "source": [
    "from sklearn.metrics import confusion_matrix\n",
    "import seaborn as sn\n",
    "import pandas as pd\n",
    "import matplotlib.pyplot as plt\n",
    "cf_matrix=confusion_matrix(y_tr, pred)\n",
    "df_cm = pd.DataFrame(cf_matrix,range(0,2),range(0,2))\n",
    "sn.heatmap(df_cm, annot=True)"
   ]
  },
  {
   "cell_type": "markdown",
   "metadata": {},
   "source": [
    "#### Avg-W2V using RandonSearchCV"
   ]
  },
  {
   "cell_type": "code",
   "execution_count": 68,
   "metadata": {},
   "outputs": [
    {
     "name": "stdout",
     "output_type": "stream",
     "text": [
      "DecisionTreeClassifier(class_weight=None, criterion='gini', max_depth=5,\n",
      "            max_features=None, max_leaf_nodes=None,\n",
      "            min_impurity_decrease=0.0, min_impurity_split=None,\n",
      "            min_samples_leaf=1, min_samples_split=2,\n",
      "            min_weight_fraction_leaf=0.0, presort=False, random_state=None,\n",
      "            splitter='best')\n",
      "\n",
      "The accuracy of optimal decision tree classifier for optimal model is 86.956232\n"
     ]
    }
   ],
   "source": [
    "from sklearn.model_selection import RandomizedSearchCV\n",
    "depths=[5,10,15,20,25,30,35,40,45,50]\n",
    "tuned_parameters={'max_depth': depths}\n",
    "dtree = DecisionTreeClassifier()\n",
    "model = RandomizedSearchCV(dtree, tuned_parameters, scoring = 'f1', cv=5,return_train_score=True)\n",
    "model.fit(sent_vectors, y_tr)\n",
    "print(model.best_estimator_)\n",
    "pred = model.best_estimator_.predict(test_vectors)\n",
    "acc = accuracy_score(y_test, pred) * 100\n",
    "print('\\nThe accuracy of optimal decision tree classifier for optimal model is %f' % (acc))"
   ]
  },
  {
   "cell_type": "markdown",
   "metadata": {},
   "source": [
    "# Tfidf W2V"
   ]
  },
  {
   "cell_type": "code",
   "execution_count": 69,
   "metadata": {},
   "outputs": [],
   "source": [
    "tf_idf_vect = TfidfVectorizer()\n",
    "final_tf_idf = tf_idf_vect.fit_transform(X_tr)\n",
    "final_test = tf_idf_vect.transform(X_test)"
   ]
  },
  {
   "cell_type": "code",
   "execution_count": 70,
   "metadata": {},
   "outputs": [],
   "source": [
    "tfidf_feat = tf_idf_vect.get_feature_names() \n",
    "tfidf_sent_vectors = [];\n",
    "row=0;\n",
    "i=1\n",
    "for sent in list_of_sent:\n",
    "    sent_vec = np.zeros(50) \n",
    "    weight_sum =0; \n",
    "    for word in sent:\n",
    "        try:\n",
    "            vec = w2v_model.wv[word]\n",
    "            tf_idf = final_tf_idf[row, tfidf_feat.index(word)]\n",
    "            sent_vec += (vec * tf_idf)\n",
    "            weight_sum += tf_idf\n",
    "        except:\n",
    "            pass\n",
    "    sent_vec /= weight_sum\n",
    "    tfidf_sent_vectors.append(sent_vec)\n",
    "    row += 1"
   ]
  },
  {
   "cell_type": "code",
   "execution_count": 71,
   "metadata": {},
   "outputs": [],
   "source": [
    "tfidf_feat = tf_idf_vect.get_feature_names()\n",
    "tfidf_test_vectors = []; \n",
    "row=0;\n",
    "for sent in list_of_test:\n",
    "    sent_vec = np.zeros(50)\n",
    "    weight_sum =0; \n",
    "    for word in sent: \n",
    "        try:\n",
    "            vec = w2v_model.wv[word]\n",
    "            tf_idf = final_test[row, tfidf_feat.index(word)]\n",
    "            sent_vec += (vec * tf_idf)\n",
    "            weight_sum += tf_idf\n",
    "        except:\n",
    "            pass\n",
    "    sent_vec /= weight_sum\n",
    "    tfidf_test_vectors.append(sent_vec)\n",
    "    row += 1"
   ]
  },
  {
   "cell_type": "code",
   "execution_count": 72,
   "metadata": {},
   "outputs": [],
   "source": [
    "df = pd.DataFrame(tfidf_sent_vectors)\n",
    "tfidf_sent_vectors=df.fillna(0)\n",
    "df = pd.DataFrame(tfidf_test_vectors)\n",
    "tfidf_test_vectors=df.fillna(0)"
   ]
  },
  {
   "cell_type": "code",
   "execution_count": 73,
   "metadata": {},
   "outputs": [
    {
     "name": "stdout",
     "output_type": "stream",
     "text": [
      "\n",
      "The optimal number of depth is 5.\n"
     ]
    },
    {
     "data": {
      "image/png": "[encoded data removed]",
      "text/plain": [
       "<Figure size 432x288 with 1 Axes>"
      ]
     },
     "metadata": {},
     "output_type": "display_data"
    },
    {
     "name": "stdout",
     "output_type": "stream",
     "text": [
      "the misclassification error for each depth value is :  [0.062 0.062 0.07  0.098 0.098 0.098 0.098]\n"
     ]
    }
   ],
   "source": [
    "depths=[1, 5, 10, 50, 100, 500, 1000]\n",
    "tuned_parameters={'max_depth':depths}\n",
    "dtree = DecisionTreeClassifier()\n",
    "model = GridSearchCV(dtree, tuned_parameters, scoring = 'f1', cv=5,return_train_score=True)\n",
    "model.fit(tfidf_sent_vectors, y_tr)\n",
    "result=pd.DataFrame(model.cv_results_) \n",
    "MSE_test=[1-i for i in result['mean_test_score']]\n",
    "MSE_train=[1-i for i in result['mean_train_score']]\n",
    "optimal_depth = depths[MSE_test.index(min(MSE_test))]\n",
    "print('\\nThe optimal number of depth is %d.' % optimal_depth)\n",
    "vals = [str(x) for x in depths]\n",
    "plt.plot(vals, MSE_test,label=\"test error\")\n",
    "plt.plot(vals, MSE_train,label=\"train error\")\n",
    "for xy in zip(vals, np.round(MSE_test,2)):\n",
    "    plt.annotate('(%s, %s)' % xy, xy=xy, textcoords='data')\n",
    "for xy in zip(vals, np.round(MSE_train,2)):\n",
    "    plt.annotate('(%s, %s)' % xy, xy=xy, textcoords='data')\n",
    "plt.legend()\n",
    "plt.xlabel('Value of depth')\n",
    "plt.ylabel('Misclassification Error')\n",
    "plt.show()\n",
    "print(\"the misclassification error for each depth value is : \", np.round(MSE_test,3))"
   ]
  },
  {
   "cell_type": "code",
   "execution_count": 74,
   "metadata": {},
   "outputs": [
    {
     "name": "stdout",
     "output_type": "stream",
     "text": [
      "\n",
      "The accuracy of optimal decision tree classifier for depth = 5 is 86.589553%\n"
     ]
    }
   ],
   "source": [
    "optimal_dtree= DecisionTreeClassifier(max_depth = optimal_depth)\n",
    "optimal_dtree.fit(tfidf_sent_vectors, y_tr)\n",
    "pred = optimal_dtree.predict(tfidf_test_vectors)\n",
    "acc = accuracy_score(y_test, pred) * 100\n",
    "print('\\nThe accuracy of optimal decision tree classifier for depth = %d is %f%%' % (optimal_depth, acc))"
   ]
  },
  {
   "cell_type": "markdown",
   "metadata": {},
   "source": [
    "#### Confusion matrix on test dataset"
   ]
  },
  {
   "cell_type": "code",
   "execution_count": 75,
   "metadata": {},
   "outputs": [
    {
     "data": {
      "text/plain": [
       "<matplotlib.axes._subplots.AxesSubplot at 0x7f70f063b470>"
      ]
     },
     "execution_count": 75,
     "metadata": {},
     "output_type": "execute_result"
    },
    {
     "data": {
      "image/png": "[encoded data removed]",
      "text/plain": [
       "<Figure size 432x288 with 2 Axes>"
      ]
     },
     "metadata": {},
     "output_type": "display_data"
    }
   ],
   "source": [
    "from sklearn.metrics import confusion_matrix\n",
    "import seaborn as sn\n",
    "import pandas as pd\n",
    "import matplotlib.pyplot as plt\n",
    "cf_matrix=confusion_matrix(y_test, pred)\n",
    "df_cm = pd.DataFrame(cf_matrix,range(0,2),range(0,2))\n",
    "sn.heatmap(df_cm, annot=True)"
   ]
  },
  {
   "cell_type": "markdown",
   "metadata": {},
   "source": [
    "#### precision recall and f1-score values"
   ]
  },
  {
   "cell_type": "code",
   "execution_count": 76,
   "metadata": {},
   "outputs": [
    {
     "name": "stdout",
     "output_type": "stream",
     "text": [
      "precision of the decion tree classifier for bag of words is 0.831225756784971\n",
      "recall of the decion tree classifier for bag of words is 0.865895529850995\n",
      "fscore of the decion tree classifier for bag of words is 0.8295874802733478\n"
     ]
    }
   ],
   "source": [
    "from sklearn.metrics import precision_recall_fscore_support\n",
    "scr=precision_recall_fscore_support(y_test, pred, average='weighted')\n",
    "print(\"precision of the decion tree classifier for bag of words is\",scr[0])\n",
    "print(\"recall of the decion tree classifier for bag of words is\",scr[1])\n",
    "print(\"fscore of the decion tree classifier for bag of words is\",scr[2])"
   ]
  },
  {
   "cell_type": "markdown",
   "metadata": {},
   "source": [
    "#### Confusion matrix on train dataset"
   ]
  },
  {
   "cell_type": "code",
   "execution_count": 77,
   "metadata": {},
   "outputs": [
    {
     "name": "stdout",
     "output_type": "stream",
     "text": [
      "\n",
      "The accuracy of optimal decision tree classifier for depth = 5 is 88.588571%\n"
     ]
    }
   ],
   "source": [
    "optimal_dtree.fit(tfidf_sent_vectors, y_tr)\n",
    "pred = optimal_dtree.predict(tfidf_sent_vectors)\n",
    "acc = accuracy_score(y_tr, pred) * 100\n",
    "print('\\nThe accuracy of optimal decision tree classifier for depth = %d is %f%%' % (optimal_depth, acc))"
   ]
  },
  {
   "cell_type": "code",
   "execution_count": 78,
   "metadata": {},
   "outputs": [
    {
     "data": {
      "text/plain": [
       "<matplotlib.axes._subplots.AxesSubplot at 0x7f70dbc02f98>"
      ]
     },
     "execution_count": 78,
     "metadata": {},
     "output_type": "execute_result"
    },
    {
     "data": {
      "image/png": "[encoded data removed]",
      "text/plain": [
       "<Figure size 432x288 with 2 Axes>"
      ]
     },
     "metadata": {},
     "output_type": "display_data"
    }
   ],
   "source": [
    "from sklearn.metrics import confusion_matrix\n",
    "import seaborn as sn\n",
    "import pandas as pd\n",
    "import matplotlib.pyplot as plt\n",
    "cf_matrix=confusion_matrix(y_tr, pred)\n",
    "df_cm = pd.DataFrame(cf_matrix,range(0,2),range(0,2))\n",
    "sn.heatmap(df_cm, annot=True)"
   ]
  },
  {
   "cell_type": "markdown",
   "metadata": {},
   "source": [
    "#### TFIDF-w2v using RandonSearchCV"
   ]
  },
  {
   "cell_type": "code",
   "execution_count": 79,
   "metadata": {},
   "outputs": [
    {
     "name": "stdout",
     "output_type": "stream",
     "text": [
      "DecisionTreeClassifier(class_weight=None, criterion='gini', max_depth=5,\n",
      "            max_features=None, max_leaf_nodes=None,\n",
      "            min_impurity_decrease=0.0, min_impurity_split=None,\n",
      "            min_samples_leaf=1, min_samples_split=2,\n",
      "            min_weight_fraction_leaf=0.0, presort=False, random_state=None,\n",
      "            splitter='best')\n",
      "\n",
      "The accuracy of optimal decision tree classifier for optimal model is 86.589553\n"
     ]
    }
   ],
   "source": [
    "from sklearn.model_selection import RandomizedSearchCV\n",
    "depths=[5,10,15,20,25,30,35,40,45,50]\n",
    "tuned_parameters={'max_depth': depths}\n",
    "dtree = DecisionTreeClassifier()\n",
    "model = RandomizedSearchCV(dtree, tuned_parameters, scoring = 'f1', cv=5,return_train_score=True)\n",
    "model.fit(tfidf_sent_vectors, y_tr)\n",
    "print(model.best_estimator_)\n",
    "pred = model.best_estimator_.predict(tfidf_test_vectors)\n",
    "acc = accuracy_score(y_test, pred) * 100\n",
    "print('\\nThe accuracy of optimal decision tree classifier for optimal model is %f' % (acc))"
   ]
  },
  {
   "cell_type": "markdown",
   "metadata": {},
   "source": [
    "# Summary table"
   ]
  },
  {
   "cell_type": "markdown",
   "metadata": {},
   "source": [
    "<table style=\"width:100%\">\n",
    "  <tr>\n",
    "    <th>Model</th>\n",
    "    <th>Hyper parameter</th> \n",
    "    <th>Train accuracy</th>\n",
    "    <th>Test accuracy</th>\n",
    "  </tr>\n",
    "    <tr>\n",
    "    <td>BOW with Decision tree using gridsearchcv</td>\n",
    "    <td>depth=10</td> \n",
    "    <td>90.23</td>\n",
    "    <td>87.96</td>\n",
    "  </tr>\n",
    "    <tr>\n",
    "    <td>BOW with Decision tree using randomsearchcv</td>\n",
    "    <td>depth=10</td> \n",
    "    <td>90.23</td>\n",
    "    <td>87.96</td>\n",
    "  </tr>\n",
    "    <tr>\n",
    "    <td>Tfidf with Decision tree using gridsearchcv</td>\n",
    "    <td>depth=10</td> \n",
    "    <td>90.37</td>\n",
    "    <td>87.87</td>\n",
    "  </tr>\n",
    "    <tr>\n",
    "    <td>Tfidf with Decision tree using randomsearchcv</td>\n",
    "    <td>depth=10</td> \n",
    "    <td>90.39</td>\n",
    "    <td>87.85</td>\n",
    "  </tr>\n",
    "  <tr>\n",
    "    <td>Avg W2V with decision tree using gridsearhcv</td>\n",
    "    <td>Depth=05</td> \n",
    "    <td>88.93</td>\n",
    "    <td>86.95</td>\n",
    "  </tr>\n",
    "  <tr>\n",
    "    <td>Avg W2V with decision tree using randomsearchcv</td>\n",
    "    <td>depth=05</td> \n",
    "    <td>88.93</td>\n",
    "    <td>86.95</td>\n",
    "  </tr>\n",
    "  <tr>\n",
    "    <td>Tfidf W2V with Decision tree using gridsearchcv</td>\n",
    "    <td>depth=05</td> \n",
    "    <td>88.58</td>\n",
    "    <td>86.58</td>\n",
    "  </tr>\n",
    "  <tr>\n",
    "    <td>Tfidf W2V with Decision tree using Ranfomsearchcv</td>\n",
    "    <td>depth=05</td> \n",
    "    <td>88.58</td>\n",
    "    <td>86.58</td>\n",
    "  </tr>\n",
    "</table>\n"
   ]
  },
  {
   "cell_type": "code",
   "execution_count": null,
   "metadata": {},
   "outputs": [],
   "source": []
  }
 ],
 "metadata": {
  "kernelspec": {
   "display_name": "Python 3",
   "language": "python",
   "name": "python3"
  },
  "language_info": {
   "codemirror_mode": {
    "name": "ipython",
    "version": 3
   },
   "file_extension": ".py",
   "mimetype": "text/x-python",
   "name": "python",
   "nbconvert_exporter": "python",
   "pygments_lexer": "ipython3",
   "version": "3.6.5"
  }
 },
 "nbformat": 4,
 "nbformat_minor": 2
}
