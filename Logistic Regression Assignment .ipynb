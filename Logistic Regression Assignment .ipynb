{
 "cells": [
  {
   "cell_type": "markdown",
   "metadata": {},
   "source": [
    "# Applying Logistic Regression algorithm on amazon fine food Reviews dataset"
   ]
  },
  {
   "cell_type": "markdown",
   "metadata": {},
   "source": [
    "The Amazon Fine Food Reviews dataset consists of reviews of fine foods from Amazon.\n",
    "\n",
    "Number of reviews: 568,454\n",
    "Number of users: 256,059\n",
    "Number of products: 74,258\n",
    "Timespan: Oct 1999 - Oct 2012\n",
    "Number of Attributes/Columns in data: 10\n",
    "\n",
    "Attribute Information:\n",
    "\n",
    "Id\n",
    "* ProductId - unique identifier for the product\n",
    "* UserId - unqiue identifier for the user\n",
    "* ProfileName\n",
    "* HelpfulnessNumerator - number of users who found the review helpful\n",
    "* HelpfulnessDenominator - number of users who indicated whether they found the review helpful or not\n",
    "* Score - rating between 1 and 5\n",
    "* Time - timestamp for the review\n",
    "* Summary - brief summary of the review\n",
    "* Text - text of the review"
   ]
  },
  {
   "cell_type": "markdown",
   "metadata": {},
   "source": [
    "<b>Disclaimer :</b>\n",
    "* I have trained all the brute force models with 40K Data points, But since I have only 4GB RAM I have trained kd_tree models with 3K points and tfidf W2V model with 10K points"
   ]
  },
  {
   "cell_type": "markdown",
   "metadata": {},
   "source": [
    "# Data Preprocessing"
   ]
  },
  {
   "cell_type": "code",
   "execution_count": 1,
   "metadata": {},
   "outputs": [
    {
     "name": "stderr",
     "output_type": "stream",
     "text": [
      "/home/gateway/home/gateway/anaconda/lib/python3.6/site-packages/sklearn/cross_validation.py:41: DeprecationWarning: This module was deprecated in version 0.18 in favor of the model_selection module into which all the refactored classes and functions are moved. Also note that the interface of the new CV iterators are different from that of this module. This module will be removed in 0.20.\n",
      "  \"This module will be removed in 0.20.\", DeprecationWarning)\n"
     ]
    }
   ],
   "source": [
    "%matplotlib inline\n",
    "\n",
    "import numpy as np\n",
    "import pandas as pd\n",
    "import matplotlib.pyplot as plt\n",
    "from sklearn.cross_validation import train_test_split\n",
    "from sklearn.model_selection import GridSearchCV\n",
    "from sklearn.metrics import accuracy_score\n",
    "from sklearn.cross_validation import cross_val_score\n",
    "from collections import Counter\n",
    "from sklearn.metrics import accuracy_score\n",
    "from sklearn import cross_validation\n",
    "from sklearn.preprocessing import Imputer\n",
    "import sqlite3\n",
    "import pandas as pd\n",
    "import numpy as np\n",
    "import nltk\n",
    "import string\n",
    "import matplotlib.pyplot as plt\n",
    "import seaborn as sns\n",
    "from sklearn.linear_model import LogisticRegression\n",
    "from sklearn.feature_extraction.text import TfidfTransformer\n",
    "from sklearn.feature_extraction.text import TfidfVectorizer\n",
    "from sklearn.feature_extraction.text import CountVectorizer\n",
    "from sklearn.metrics import confusion_matrix\n",
    "from sklearn import metrics\n",
    "from sklearn.metrics import roc_curve, auc\n",
    "from nltk.stem.porter import PorterStemmer\n",
    "from sklearn.preprocessing import StandardScaler\n",
    "con = sqlite3.connect('./amazon-fine-food-reviews/database.sqlite') \n",
    "\n",
    "filtered_data = pd.read_sql_query(\"\"\"\n",
    "SELECT *\n",
    "FROM Reviews\n",
    "WHERE Score != 3\n",
    "\"\"\", con) \n",
    "\n",
    "\n",
    "def partition(x):\n",
    "    if x < 3:\n",
    "        return 'negative'\n",
    "    return 'positive'\n",
    "\n",
    "actualScore = filtered_data['Score']\n",
    "positiveNegative = actualScore.map(partition) \n",
    "filtered_data['Score'] = positiveNegative"
   ]
  },
  {
   "cell_type": "code",
   "execution_count": 2,
   "metadata": {},
   "outputs": [
    {
     "data": {
      "text/html": [
       "<div>\n",
       "<style scoped>\n",
       "    .dataframe tbody tr th:only-of-type {\n",
       "        vertical-align: middle;\n",
       "    }\n",
       "\n",
       "    .dataframe tbody tr th {\n",
       "        vertical-align: top;\n",
       "    }\n",
       "\n",
       "    .dataframe thead th {\n",
       "        text-align: right;\n",
       "    }\n",
       "</style>\n",
       "<table border=\"1\" class=\"dataframe\">\n",
       "  <thead>\n",
       "    <tr style=\"text-align: right;\">\n",
       "      <th></th>\n",
       "      <th>Id</th>\n",
       "      <th>ProductId</th>\n",
       "      <th>UserId</th>\n",
       "      <th>ProfileName</th>\n",
       "      <th>HelpfulnessNumerator</th>\n",
       "      <th>HelpfulnessDenominator</th>\n",
       "      <th>Score</th>\n",
       "      <th>Time</th>\n",
       "      <th>Summary</th>\n",
       "      <th>Text</th>\n",
       "    </tr>\n",
       "  </thead>\n",
       "  <tbody>\n",
       "    <tr>\n",
       "      <th>0</th>\n",
       "      <td>1</td>\n",
       "      <td>B001E4KFG0</td>\n",
       "      <td>A3SGXH7AUHU8GW</td>\n",
       "      <td>delmartian</td>\n",
       "      <td>1</td>\n",
       "      <td>1</td>\n",
       "      <td>positive</td>\n",
       "      <td>1303862400</td>\n",
       "      <td>Good Quality Dog Food</td>\n",
       "      <td>I have bought several of the Vitality canned d...</td>\n",
       "    </tr>\n",
       "    <tr>\n",
       "      <th>1</th>\n",
       "      <td>2</td>\n",
       "      <td>B00813GRG4</td>\n",
       "      <td>A1D87F6ZCVE5NK</td>\n",
       "      <td>dll pa</td>\n",
       "      <td>0</td>\n",
       "      <td>0</td>\n",
       "      <td>negative</td>\n",
       "      <td>1346976000</td>\n",
       "      <td>Not as Advertised</td>\n",
       "      <td>Product arrived labeled as Jumbo Salted Peanut...</td>\n",
       "    </tr>\n",
       "    <tr>\n",
       "      <th>2</th>\n",
       "      <td>3</td>\n",
       "      <td>B000LQOCH0</td>\n",
       "      <td>ABXLMWJIXXAIN</td>\n",
       "      <td>Natalia Corres \"Natalia Corres\"</td>\n",
       "      <td>1</td>\n",
       "      <td>1</td>\n",
       "      <td>positive</td>\n",
       "      <td>1219017600</td>\n",
       "      <td>\"Delight\" says it all</td>\n",
       "      <td>This is a confection that has been around a fe...</td>\n",
       "    </tr>\n",
       "    <tr>\n",
       "      <th>3</th>\n",
       "      <td>4</td>\n",
       "      <td>B000UA0QIQ</td>\n",
       "      <td>A395BORC6FGVXV</td>\n",
       "      <td>Karl</td>\n",
       "      <td>3</td>\n",
       "      <td>3</td>\n",
       "      <td>negative</td>\n",
       "      <td>1307923200</td>\n",
       "      <td>Cough Medicine</td>\n",
       "      <td>If you are looking for the secret ingredient i...</td>\n",
       "    </tr>\n",
       "    <tr>\n",
       "      <th>4</th>\n",
       "      <td>5</td>\n",
       "      <td>B006K2ZZ7K</td>\n",
       "      <td>A1UQRSCLF8GW1T</td>\n",
       "      <td>Michael D. Bigham \"M. Wassir\"</td>\n",
       "      <td>0</td>\n",
       "      <td>0</td>\n",
       "      <td>positive</td>\n",
       "      <td>1350777600</td>\n",
       "      <td>Great taffy</td>\n",
       "      <td>Great taffy at a great price.  There was a wid...</td>\n",
       "    </tr>\n",
       "    <tr>\n",
       "      <th>5</th>\n",
       "      <td>6</td>\n",
       "      <td>B006K2ZZ7K</td>\n",
       "      <td>ADT0SRK1MGOEU</td>\n",
       "      <td>Twoapennything</td>\n",
       "      <td>0</td>\n",
       "      <td>0</td>\n",
       "      <td>positive</td>\n",
       "      <td>1342051200</td>\n",
       "      <td>Nice Taffy</td>\n",
       "      <td>I got a wild hair for taffy and ordered this f...</td>\n",
       "    </tr>\n",
       "    <tr>\n",
       "      <th>6</th>\n",
       "      <td>7</td>\n",
       "      <td>B006K2ZZ7K</td>\n",
       "      <td>A1SP2KVKFXXRU1</td>\n",
       "      <td>David C. Sullivan</td>\n",
       "      <td>0</td>\n",
       "      <td>0</td>\n",
       "      <td>positive</td>\n",
       "      <td>1340150400</td>\n",
       "      <td>Great!  Just as good as the expensive brands!</td>\n",
       "      <td>This saltwater taffy had great flavors and was...</td>\n",
       "    </tr>\n",
       "    <tr>\n",
       "      <th>7</th>\n",
       "      <td>8</td>\n",
       "      <td>B006K2ZZ7K</td>\n",
       "      <td>A3JRGQVEQN31IQ</td>\n",
       "      <td>Pamela G. Williams</td>\n",
       "      <td>0</td>\n",
       "      <td>0</td>\n",
       "      <td>positive</td>\n",
       "      <td>1336003200</td>\n",
       "      <td>Wonderful, tasty taffy</td>\n",
       "      <td>This taffy is so good.  It is very soft and ch...</td>\n",
       "    </tr>\n",
       "    <tr>\n",
       "      <th>8</th>\n",
       "      <td>9</td>\n",
       "      <td>B000E7L2R4</td>\n",
       "      <td>A1MZYO9TZK0BBI</td>\n",
       "      <td>R. James</td>\n",
       "      <td>1</td>\n",
       "      <td>1</td>\n",
       "      <td>positive</td>\n",
       "      <td>1322006400</td>\n",
       "      <td>Yay Barley</td>\n",
       "      <td>Right now I'm mostly just sprouting this so my...</td>\n",
       "    </tr>\n",
       "    <tr>\n",
       "      <th>9</th>\n",
       "      <td>10</td>\n",
       "      <td>B00171APVA</td>\n",
       "      <td>A21BT40VZCCYT4</td>\n",
       "      <td>Carol A. Reed</td>\n",
       "      <td>0</td>\n",
       "      <td>0</td>\n",
       "      <td>positive</td>\n",
       "      <td>1351209600</td>\n",
       "      <td>Healthy Dog Food</td>\n",
       "      <td>This is a very healthy dog food. Good for thei...</td>\n",
       "    </tr>\n",
       "  </tbody>\n",
       "</table>\n",
       "</div>"
      ],
      "text/plain": [
       "   Id   ProductId          UserId                      ProfileName  \\\n",
       "0   1  B001E4KFG0  A3SGXH7AUHU8GW                       delmartian   \n",
       "1   2  B00813GRG4  A1D87F6ZCVE5NK                           dll pa   \n",
       "2   3  B000LQOCH0   ABXLMWJIXXAIN  Natalia Corres \"Natalia Corres\"   \n",
       "3   4  B000UA0QIQ  A395BORC6FGVXV                             Karl   \n",
       "4   5  B006K2ZZ7K  A1UQRSCLF8GW1T    Michael D. Bigham \"M. Wassir\"   \n",
       "5   6  B006K2ZZ7K   ADT0SRK1MGOEU                   Twoapennything   \n",
       "6   7  B006K2ZZ7K  A1SP2KVKFXXRU1                David C. Sullivan   \n",
       "7   8  B006K2ZZ7K  A3JRGQVEQN31IQ               Pamela G. Williams   \n",
       "8   9  B000E7L2R4  A1MZYO9TZK0BBI                         R. James   \n",
       "9  10  B00171APVA  A21BT40VZCCYT4                    Carol A. Reed   \n",
       "\n",
       "   HelpfulnessNumerator  HelpfulnessDenominator     Score        Time  \\\n",
       "0                     1                       1  positive  1303862400   \n",
       "1                     0                       0  negative  1346976000   \n",
       "2                     1                       1  positive  1219017600   \n",
       "3                     3                       3  negative  1307923200   \n",
       "4                     0                       0  positive  1350777600   \n",
       "5                     0                       0  positive  1342051200   \n",
       "6                     0                       0  positive  1340150400   \n",
       "7                     0                       0  positive  1336003200   \n",
       "8                     1                       1  positive  1322006400   \n",
       "9                     0                       0  positive  1351209600   \n",
       "\n",
       "                                         Summary  \\\n",
       "0                          Good Quality Dog Food   \n",
       "1                              Not as Advertised   \n",
       "2                          \"Delight\" says it all   \n",
       "3                                 Cough Medicine   \n",
       "4                                    Great taffy   \n",
       "5                                     Nice Taffy   \n",
       "6  Great!  Just as good as the expensive brands!   \n",
       "7                         Wonderful, tasty taffy   \n",
       "8                                     Yay Barley   \n",
       "9                               Healthy Dog Food   \n",
       "\n",
       "                                                Text  \n",
       "0  I have bought several of the Vitality canned d...  \n",
       "1  Product arrived labeled as Jumbo Salted Peanut...  \n",
       "2  This is a confection that has been around a fe...  \n",
       "3  If you are looking for the secret ingredient i...  \n",
       "4  Great taffy at a great price.  There was a wid...  \n",
       "5  I got a wild hair for taffy and ordered this f...  \n",
       "6  This saltwater taffy had great flavors and was...  \n",
       "7  This taffy is so good.  It is very soft and ch...  \n",
       "8  Right now I'm mostly just sprouting this so my...  \n",
       "9  This is a very healthy dog food. Good for thei...  "
      ]
     },
     "execution_count": 2,
     "metadata": {},
     "output_type": "execute_result"
    }
   ],
   "source": [
    "filtered_data.shape\n",
    "filtered_data.head(10)"
   ]
  },
  {
   "cell_type": "code",
   "execution_count": 3,
   "metadata": {},
   "outputs": [
    {
     "data": {
      "text/html": [
       "<div>\n",
       "<style scoped>\n",
       "    .dataframe tbody tr th:only-of-type {\n",
       "        vertical-align: middle;\n",
       "    }\n",
       "\n",
       "    .dataframe tbody tr th {\n",
       "        vertical-align: top;\n",
       "    }\n",
       "\n",
       "    .dataframe thead th {\n",
       "        text-align: right;\n",
       "    }\n",
       "</style>\n",
       "<table border=\"1\" class=\"dataframe\">\n",
       "  <thead>\n",
       "    <tr style=\"text-align: right;\">\n",
       "      <th></th>\n",
       "      <th>Id</th>\n",
       "      <th>ProductId</th>\n",
       "      <th>UserId</th>\n",
       "      <th>ProfileName</th>\n",
       "      <th>HelpfulnessNumerator</th>\n",
       "      <th>HelpfulnessDenominator</th>\n",
       "      <th>Score</th>\n",
       "      <th>Time</th>\n",
       "      <th>Summary</th>\n",
       "      <th>Text</th>\n",
       "    </tr>\n",
       "  </thead>\n",
       "  <tbody>\n",
       "    <tr>\n",
       "      <th>0</th>\n",
       "      <td>78445</td>\n",
       "      <td>B000HDL1RQ</td>\n",
       "      <td>AR5J8UI46CURR</td>\n",
       "      <td>Geetha Krishnan</td>\n",
       "      <td>2</td>\n",
       "      <td>2</td>\n",
       "      <td>5</td>\n",
       "      <td>1199577600</td>\n",
       "      <td>LOACKER QUADRATINI VANILLA WAFERS</td>\n",
       "      <td>DELICIOUS WAFERS. I FIND THAT EUROPEAN WAFERS ...</td>\n",
       "    </tr>\n",
       "    <tr>\n",
       "      <th>1</th>\n",
       "      <td>138317</td>\n",
       "      <td>B000HDOPYC</td>\n",
       "      <td>AR5J8UI46CURR</td>\n",
       "      <td>Geetha Krishnan</td>\n",
       "      <td>2</td>\n",
       "      <td>2</td>\n",
       "      <td>5</td>\n",
       "      <td>1199577600</td>\n",
       "      <td>LOACKER QUADRATINI VANILLA WAFERS</td>\n",
       "      <td>DELICIOUS WAFERS. I FIND THAT EUROPEAN WAFERS ...</td>\n",
       "    </tr>\n",
       "    <tr>\n",
       "      <th>2</th>\n",
       "      <td>138277</td>\n",
       "      <td>B000HDOPYM</td>\n",
       "      <td>AR5J8UI46CURR</td>\n",
       "      <td>Geetha Krishnan</td>\n",
       "      <td>2</td>\n",
       "      <td>2</td>\n",
       "      <td>5</td>\n",
       "      <td>1199577600</td>\n",
       "      <td>LOACKER QUADRATINI VANILLA WAFERS</td>\n",
       "      <td>DELICIOUS WAFERS. I FIND THAT EUROPEAN WAFERS ...</td>\n",
       "    </tr>\n",
       "    <tr>\n",
       "      <th>3</th>\n",
       "      <td>73791</td>\n",
       "      <td>B000HDOPZG</td>\n",
       "      <td>AR5J8UI46CURR</td>\n",
       "      <td>Geetha Krishnan</td>\n",
       "      <td>2</td>\n",
       "      <td>2</td>\n",
       "      <td>5</td>\n",
       "      <td>1199577600</td>\n",
       "      <td>LOACKER QUADRATINI VANILLA WAFERS</td>\n",
       "      <td>DELICIOUS WAFERS. I FIND THAT EUROPEAN WAFERS ...</td>\n",
       "    </tr>\n",
       "    <tr>\n",
       "      <th>4</th>\n",
       "      <td>155049</td>\n",
       "      <td>B000PAQ75C</td>\n",
       "      <td>AR5J8UI46CURR</td>\n",
       "      <td>Geetha Krishnan</td>\n",
       "      <td>2</td>\n",
       "      <td>2</td>\n",
       "      <td>5</td>\n",
       "      <td>1199577600</td>\n",
       "      <td>LOACKER QUADRATINI VANILLA WAFERS</td>\n",
       "      <td>DELICIOUS WAFERS. I FIND THAT EUROPEAN WAFERS ...</td>\n",
       "    </tr>\n",
       "  </tbody>\n",
       "</table>\n",
       "</div>"
      ],
      "text/plain": [
       "       Id   ProductId         UserId      ProfileName  HelpfulnessNumerator  \\\n",
       "0   78445  B000HDL1RQ  AR5J8UI46CURR  Geetha Krishnan                     2   \n",
       "1  138317  B000HDOPYC  AR5J8UI46CURR  Geetha Krishnan                     2   \n",
       "2  138277  B000HDOPYM  AR5J8UI46CURR  Geetha Krishnan                     2   \n",
       "3   73791  B000HDOPZG  AR5J8UI46CURR  Geetha Krishnan                     2   \n",
       "4  155049  B000PAQ75C  AR5J8UI46CURR  Geetha Krishnan                     2   \n",
       "\n",
       "   HelpfulnessDenominator  Score        Time  \\\n",
       "0                       2      5  1199577600   \n",
       "1                       2      5  1199577600   \n",
       "2                       2      5  1199577600   \n",
       "3                       2      5  1199577600   \n",
       "4                       2      5  1199577600   \n",
       "\n",
       "                             Summary  \\\n",
       "0  LOACKER QUADRATINI VANILLA WAFERS   \n",
       "1  LOACKER QUADRATINI VANILLA WAFERS   \n",
       "2  LOACKER QUADRATINI VANILLA WAFERS   \n",
       "3  LOACKER QUADRATINI VANILLA WAFERS   \n",
       "4  LOACKER QUADRATINI VANILLA WAFERS   \n",
       "\n",
       "                                                Text  \n",
       "0  DELICIOUS WAFERS. I FIND THAT EUROPEAN WAFERS ...  \n",
       "1  DELICIOUS WAFERS. I FIND THAT EUROPEAN WAFERS ...  \n",
       "2  DELICIOUS WAFERS. I FIND THAT EUROPEAN WAFERS ...  \n",
       "3  DELICIOUS WAFERS. I FIND THAT EUROPEAN WAFERS ...  \n",
       "4  DELICIOUS WAFERS. I FIND THAT EUROPEAN WAFERS ...  "
      ]
     },
     "execution_count": 3,
     "metadata": {},
     "output_type": "execute_result"
    }
   ],
   "source": [
    "display= pd.read_sql_query(\"\"\"\n",
    "SELECT *\n",
    "FROM Reviews\n",
    "WHERE Score != 3 AND UserId=\"AR5J8UI46CURR\"\n",
    "ORDER BY ProductID\n",
    "\"\"\", con)\n",
    "display"
   ]
  },
  {
   "cell_type": "code",
   "execution_count": 4,
   "metadata": {},
   "outputs": [],
   "source": [
    "sorted_data=filtered_data.sort_values('ProductId', axis=0, ascending=True, inplace=False, kind='quicksort', na_position='last')"
   ]
  },
  {
   "cell_type": "code",
   "execution_count": 5,
   "metadata": {},
   "outputs": [
    {
     "data": {
      "text/plain": [
       "(364173, 10)"
      ]
     },
     "execution_count": 5,
     "metadata": {},
     "output_type": "execute_result"
    }
   ],
   "source": [
    "final=sorted_data.drop_duplicates(subset={\"UserId\",\"ProfileName\",\"Time\",\"Text\"}, keep='first', inplace=False)\n",
    "final.shape"
   ]
  },
  {
   "cell_type": "code",
   "execution_count": 6,
   "metadata": {},
   "outputs": [
    {
     "data": {
      "text/plain": [
       "69.25890143662969"
      ]
     },
     "execution_count": 6,
     "metadata": {},
     "output_type": "execute_result"
    }
   ],
   "source": [
    "(final['Id'].size*1.0)/(filtered_data['Id'].size*1.0)*100"
   ]
  },
  {
   "cell_type": "code",
   "execution_count": 7,
   "metadata": {},
   "outputs": [
    {
     "data": {
      "text/html": [
       "<div>\n",
       "<style scoped>\n",
       "    .dataframe tbody tr th:only-of-type {\n",
       "        vertical-align: middle;\n",
       "    }\n",
       "\n",
       "    .dataframe tbody tr th {\n",
       "        vertical-align: top;\n",
       "    }\n",
       "\n",
       "    .dataframe thead th {\n",
       "        text-align: right;\n",
       "    }\n",
       "</style>\n",
       "<table border=\"1\" class=\"dataframe\">\n",
       "  <thead>\n",
       "    <tr style=\"text-align: right;\">\n",
       "      <th></th>\n",
       "      <th>Id</th>\n",
       "      <th>ProductId</th>\n",
       "      <th>UserId</th>\n",
       "      <th>ProfileName</th>\n",
       "      <th>HelpfulnessNumerator</th>\n",
       "      <th>HelpfulnessDenominator</th>\n",
       "      <th>Score</th>\n",
       "      <th>Time</th>\n",
       "      <th>Summary</th>\n",
       "      <th>Text</th>\n",
       "    </tr>\n",
       "  </thead>\n",
       "  <tbody>\n",
       "    <tr>\n",
       "      <th>0</th>\n",
       "      <td>64422</td>\n",
       "      <td>B000MIDROQ</td>\n",
       "      <td>A161DK06JJMCYF</td>\n",
       "      <td>J. E. Stephens \"Jeanne\"</td>\n",
       "      <td>3</td>\n",
       "      <td>1</td>\n",
       "      <td>5</td>\n",
       "      <td>1224892800</td>\n",
       "      <td>Bought This for My Son at College</td>\n",
       "      <td>My son loves spaghetti so I didn't hesitate or...</td>\n",
       "    </tr>\n",
       "    <tr>\n",
       "      <th>1</th>\n",
       "      <td>44737</td>\n",
       "      <td>B001EQ55RW</td>\n",
       "      <td>A2V0I904FH7ABY</td>\n",
       "      <td>Ram</td>\n",
       "      <td>3</td>\n",
       "      <td>2</td>\n",
       "      <td>4</td>\n",
       "      <td>1212883200</td>\n",
       "      <td>Pure cocoa taste with crunchy almonds inside</td>\n",
       "      <td>It was almost a 'love at first bite' - the per...</td>\n",
       "    </tr>\n",
       "  </tbody>\n",
       "</table>\n",
       "</div>"
      ],
      "text/plain": [
       "      Id   ProductId          UserId              ProfileName  \\\n",
       "0  64422  B000MIDROQ  A161DK06JJMCYF  J. E. Stephens \"Jeanne\"   \n",
       "1  44737  B001EQ55RW  A2V0I904FH7ABY                      Ram   \n",
       "\n",
       "   HelpfulnessNumerator  HelpfulnessDenominator  Score        Time  \\\n",
       "0                     3                       1      5  1224892800   \n",
       "1                     3                       2      4  1212883200   \n",
       "\n",
       "                                        Summary  \\\n",
       "0             Bought This for My Son at College   \n",
       "1  Pure cocoa taste with crunchy almonds inside   \n",
       "\n",
       "                                                Text  \n",
       "0  My son loves spaghetti so I didn't hesitate or...  \n",
       "1  It was almost a 'love at first bite' - the per...  "
      ]
     },
     "execution_count": 7,
     "metadata": {},
     "output_type": "execute_result"
    }
   ],
   "source": [
    "display= pd.read_sql_query(\"\"\"\n",
    "SELECT *\n",
    "FROM Reviews\n",
    "WHERE Score != 3 AND Id=44737 OR Id=64422\n",
    "ORDER BY ProductID\n",
    "\"\"\", con)\n",
    "display\n"
   ]
  },
  {
   "cell_type": "code",
   "execution_count": 8,
   "metadata": {},
   "outputs": [],
   "source": [
    "final=final[final.HelpfulnessNumerator<=final.HelpfulnessDenominator]\n"
   ]
  },
  {
   "cell_type": "code",
   "execution_count": 9,
   "metadata": {},
   "outputs": [
    {
     "name": "stdout",
     "output_type": "stream",
     "text": [
      "(364171, 10)\n"
     ]
    },
    {
     "data": {
      "text/plain": [
       "positive    307061\n",
       "negative     57110\n",
       "Name: Score, dtype: int64"
      ]
     },
     "execution_count": 9,
     "metadata": {},
     "output_type": "execute_result"
    }
   ],
   "source": [
    "print(final.shape)\n",
    "final['Score'].value_counts()"
   ]
  },
  {
   "cell_type": "code",
   "execution_count": 10,
   "metadata": {},
   "outputs": [],
   "source": [
    "final=final.sort_values(by='Time')"
   ]
  },
  {
   "cell_type": "code",
   "execution_count": 11,
   "metadata": {
    "scrolled": false
   },
   "outputs": [
    {
     "data": {
      "text/html": [
       "<div>\n",
       "<style scoped>\n",
       "    .dataframe tbody tr th:only-of-type {\n",
       "        vertical-align: middle;\n",
       "    }\n",
       "\n",
       "    .dataframe tbody tr th {\n",
       "        vertical-align: top;\n",
       "    }\n",
       "\n",
       "    .dataframe thead th {\n",
       "        text-align: right;\n",
       "    }\n",
       "</style>\n",
       "<table border=\"1\" class=\"dataframe\">\n",
       "  <thead>\n",
       "    <tr style=\"text-align: right;\">\n",
       "      <th></th>\n",
       "      <th>Id</th>\n",
       "      <th>ProductId</th>\n",
       "      <th>UserId</th>\n",
       "      <th>ProfileName</th>\n",
       "      <th>HelpfulnessNumerator</th>\n",
       "      <th>HelpfulnessDenominator</th>\n",
       "      <th>Time</th>\n",
       "      <th>Summary</th>\n",
       "      <th>Text</th>\n",
       "    </tr>\n",
       "  </thead>\n",
       "  <tbody>\n",
       "    <tr>\n",
       "      <th>138706</th>\n",
       "      <td>150524</td>\n",
       "      <td>0006641040</td>\n",
       "      <td>ACITT7DI6IDDL</td>\n",
       "      <td>shari zychinski</td>\n",
       "      <td>0</td>\n",
       "      <td>0</td>\n",
       "      <td>939340800</td>\n",
       "      <td>EVERY book is educational</td>\n",
       "      <td>this witty little book makes my son laugh at l...</td>\n",
       "    </tr>\n",
       "    <tr>\n",
       "      <th>138683</th>\n",
       "      <td>150501</td>\n",
       "      <td>0006641040</td>\n",
       "      <td>AJ46FKXOVC7NR</td>\n",
       "      <td>Nicholas A Mesiano</td>\n",
       "      <td>2</td>\n",
       "      <td>2</td>\n",
       "      <td>940809600</td>\n",
       "      <td>This whole series is great way to spend time w...</td>\n",
       "      <td>I can remember seeing the show when it aired o...</td>\n",
       "    </tr>\n",
       "    <tr>\n",
       "      <th>417839</th>\n",
       "      <td>451856</td>\n",
       "      <td>B00004CXX9</td>\n",
       "      <td>AIUWLEQ1ADEG5</td>\n",
       "      <td>Elizabeth Medina</td>\n",
       "      <td>0</td>\n",
       "      <td>0</td>\n",
       "      <td>944092800</td>\n",
       "      <td>Entertainingl Funny!</td>\n",
       "      <td>Beetlejuice is a well written movie ..... ever...</td>\n",
       "    </tr>\n",
       "    <tr>\n",
       "      <th>346055</th>\n",
       "      <td>374359</td>\n",
       "      <td>B00004CI84</td>\n",
       "      <td>A344SMIA5JECGM</td>\n",
       "      <td>Vincent P. Ross</td>\n",
       "      <td>1</td>\n",
       "      <td>2</td>\n",
       "      <td>944438400</td>\n",
       "      <td>A modern day fairy tale</td>\n",
       "      <td>A twist of rumplestiskin captured on film, sta...</td>\n",
       "    </tr>\n",
       "  </tbody>\n",
       "</table>\n",
       "</div>"
      ],
      "text/plain": [
       "            Id   ProductId          UserId         ProfileName  \\\n",
       "138706  150524  0006641040   ACITT7DI6IDDL     shari zychinski   \n",
       "138683  150501  0006641040   AJ46FKXOVC7NR  Nicholas A Mesiano   \n",
       "417839  451856  B00004CXX9   AIUWLEQ1ADEG5    Elizabeth Medina   \n",
       "346055  374359  B00004CI84  A344SMIA5JECGM     Vincent P. Ross   \n",
       "\n",
       "        HelpfulnessNumerator  HelpfulnessDenominator       Time  \\\n",
       "138706                     0                       0  939340800   \n",
       "138683                     2                       2  940809600   \n",
       "417839                     0                       0  944092800   \n",
       "346055                     1                       2  944438400   \n",
       "\n",
       "                                                  Summary  \\\n",
       "138706                          EVERY book is educational   \n",
       "138683  This whole series is great way to spend time w...   \n",
       "417839                               Entertainingl Funny!   \n",
       "346055                            A modern day fairy tale   \n",
       "\n",
       "                                                     Text  \n",
       "138706  this witty little book makes my son laugh at l...  \n",
       "138683  I can remember seeing the show when it aired o...  \n",
       "417839  Beetlejuice is a well written movie ..... ever...  \n",
       "346055  A twist of rumplestiskin captured on film, sta...  "
      ]
     },
     "execution_count": 11,
     "metadata": {},
     "output_type": "execute_result"
    }
   ],
   "source": [
    "labels=final[\"Score\"]\n",
    "final=final.drop(\"Score\",axis=1)\n",
    "final.head(4)"
   ]
  },
  {
   "cell_type": "code",
   "execution_count": 12,
   "metadata": {},
   "outputs": [],
   "source": [
    "final=final[0:100000]\n",
    "labels=labels[0:100000]"
   ]
  },
  {
   "cell_type": "code",
   "execution_count": 13,
   "metadata": {},
   "outputs": [],
   "source": [
    "for i in range(0,labels.size):\n",
    "    if labels.iloc[i]=='positive':\n",
    "        labels.iloc[i]=1\n",
    "    else:\n",
    "        labels.iloc[i]=0"
   ]
  },
  {
   "cell_type": "code",
   "execution_count": 14,
   "metadata": {},
   "outputs": [],
   "source": [
    "import re\n",
    "import string\n",
    "from nltk.corpus import stopwords\n",
    "from nltk.stem import PorterStemmer\n",
    "from nltk.stem.wordnet import WordNetLemmatizer\n",
    "\n",
    "stop = set(stopwords.words('english'))\n",
    "sno = nltk.stem.SnowballStemmer('english') \n",
    "def cleanhtml(sentence): \n",
    "    cleanr = re.compile('<.*?>')\n",
    "    cleantext = re.sub(cleanr, ' ', sentence)\n",
    "    return cleantext\n",
    "def cleanpunc(sentence): \n",
    "    cleaned = re.sub(r'[?|!|\\'|\"|#]',r'',sentence)\n",
    "    cleaned = re.sub(r'[.|,|)|(|\\|/]',r' ',cleaned)\n",
    "    return  cleaned"
   ]
  },
  {
   "cell_type": "code",
   "execution_count": 15,
   "metadata": {},
   "outputs": [],
   "source": [
    "i=0\n",
    "str1=' '\n",
    "final_string=[]\n",
    "s=''\n",
    "for sent in final['Text'].values:\n",
    "    filtered_sentence=[]\n",
    "    sent=cleanhtml(sent) \n",
    "    for w in sent.split():\n",
    "        for cleaned_words in cleanpunc(w).split():\n",
    "            if((cleaned_words.isalpha()) & (len(cleaned_words)>2)):    \n",
    "                if(cleaned_words.lower() not in stop):\n",
    "                    s=(sno.stem(cleaned_words.lower())).encode('utf8')\n",
    "                    filtered_sentence.append(s)\n",
    "                else:\n",
    "                    continue\n",
    "            else:\n",
    "                continue \n",
    "    str1 = b\" \".join(filtered_sentence) \n",
    "    \n",
    "    final_string.append(str1)\n",
    "    i+=1"
   ]
  },
  {
   "cell_type": "code",
   "execution_count": 16,
   "metadata": {},
   "outputs": [],
   "source": [
    "final['CleanedText']=final_string \n",
    "final['CleanedText']=final['CleanedText'].str.decode(\"utf-8\")"
   ]
  },
  {
   "cell_type": "code",
   "execution_count": 17,
   "metadata": {},
   "outputs": [
    {
     "data": {
      "text/plain": [
       "\"this witty little book makes my son laugh at loud. i recite it in the car as we're driving along and he always can sing the refrain. he's learned about whales, India, drooping roses:  i love all the new words this book  introduces and the silliness of it all.  this is a classic book i am  willing to bet my son will STILL be able to recite from memory when he is  in college\""
      ]
     },
     "execution_count": 17,
     "metadata": {},
     "output_type": "execute_result"
    }
   ],
   "source": [
    "final.loc[138706]['Text']"
   ]
  },
  {
   "cell_type": "code",
   "execution_count": 18,
   "metadata": {},
   "outputs": [
    {
     "data": {
      "text/plain": [
       "'witti littl book make son laugh loud recit car drive along alway sing refrain hes learn whale india droop love new word book introduc silli classic book will bet son still abl recit memori colleg'"
      ]
     },
     "execution_count": 18,
     "metadata": {},
     "output_type": "execute_result"
    }
   ],
   "source": [
    "final.loc[138706]['CleanedText']"
   ]
  },
  {
   "cell_type": "code",
   "execution_count": 19,
   "metadata": {},
   "outputs": [
    {
     "data": {
      "text/html": [
       "<div>\n",
       "<style scoped>\n",
       "    .dataframe tbody tr th:only-of-type {\n",
       "        vertical-align: middle;\n",
       "    }\n",
       "\n",
       "    .dataframe tbody tr th {\n",
       "        vertical-align: top;\n",
       "    }\n",
       "\n",
       "    .dataframe thead th {\n",
       "        text-align: right;\n",
       "    }\n",
       "</style>\n",
       "<table border=\"1\" class=\"dataframe\">\n",
       "  <thead>\n",
       "    <tr style=\"text-align: right;\">\n",
       "      <th></th>\n",
       "      <th>Id</th>\n",
       "      <th>ProductId</th>\n",
       "      <th>UserId</th>\n",
       "      <th>ProfileName</th>\n",
       "      <th>HelpfulnessNumerator</th>\n",
       "      <th>HelpfulnessDenominator</th>\n",
       "      <th>Time</th>\n",
       "      <th>Summary</th>\n",
       "      <th>Text</th>\n",
       "      <th>CleanedText</th>\n",
       "    </tr>\n",
       "  </thead>\n",
       "  <tbody>\n",
       "    <tr>\n",
       "      <th>138706</th>\n",
       "      <td>150524</td>\n",
       "      <td>0006641040</td>\n",
       "      <td>ACITT7DI6IDDL</td>\n",
       "      <td>shari zychinski</td>\n",
       "      <td>0</td>\n",
       "      <td>0</td>\n",
       "      <td>939340800</td>\n",
       "      <td>EVERY book is educational</td>\n",
       "      <td>this witty little book makes my son laugh at l...</td>\n",
       "      <td>witti littl book make son laugh loud recit car...</td>\n",
       "    </tr>\n",
       "    <tr>\n",
       "      <th>138683</th>\n",
       "      <td>150501</td>\n",
       "      <td>0006641040</td>\n",
       "      <td>AJ46FKXOVC7NR</td>\n",
       "      <td>Nicholas A Mesiano</td>\n",
       "      <td>2</td>\n",
       "      <td>2</td>\n",
       "      <td>940809600</td>\n",
       "      <td>This whole series is great way to spend time w...</td>\n",
       "      <td>I can remember seeing the show when it aired o...</td>\n",
       "      <td>rememb see show air televis year ago child sis...</td>\n",
       "    </tr>\n",
       "    <tr>\n",
       "      <th>417839</th>\n",
       "      <td>451856</td>\n",
       "      <td>B00004CXX9</td>\n",
       "      <td>AIUWLEQ1ADEG5</td>\n",
       "      <td>Elizabeth Medina</td>\n",
       "      <td>0</td>\n",
       "      <td>0</td>\n",
       "      <td>944092800</td>\n",
       "      <td>Entertainingl Funny!</td>\n",
       "      <td>Beetlejuice is a well written movie ..... ever...</td>\n",
       "      <td>beetlejuic well written movi everyth excel act...</td>\n",
       "    </tr>\n",
       "    <tr>\n",
       "      <th>346055</th>\n",
       "      <td>374359</td>\n",
       "      <td>B00004CI84</td>\n",
       "      <td>A344SMIA5JECGM</td>\n",
       "      <td>Vincent P. Ross</td>\n",
       "      <td>1</td>\n",
       "      <td>2</td>\n",
       "      <td>944438400</td>\n",
       "      <td>A modern day fairy tale</td>\n",
       "      <td>A twist of rumplestiskin captured on film, sta...</td>\n",
       "      <td>twist rumplestiskin captur film star michael k...</td>\n",
       "    </tr>\n",
       "  </tbody>\n",
       "</table>\n",
       "</div>"
      ],
      "text/plain": [
       "            Id   ProductId          UserId         ProfileName  \\\n",
       "138706  150524  0006641040   ACITT7DI6IDDL     shari zychinski   \n",
       "138683  150501  0006641040   AJ46FKXOVC7NR  Nicholas A Mesiano   \n",
       "417839  451856  B00004CXX9   AIUWLEQ1ADEG5    Elizabeth Medina   \n",
       "346055  374359  B00004CI84  A344SMIA5JECGM     Vincent P. Ross   \n",
       "\n",
       "        HelpfulnessNumerator  HelpfulnessDenominator       Time  \\\n",
       "138706                     0                       0  939340800   \n",
       "138683                     2                       2  940809600   \n",
       "417839                     0                       0  944092800   \n",
       "346055                     1                       2  944438400   \n",
       "\n",
       "                                                  Summary  \\\n",
       "138706                          EVERY book is educational   \n",
       "138683  This whole series is great way to spend time w...   \n",
       "417839                               Entertainingl Funny!   \n",
       "346055                            A modern day fairy tale   \n",
       "\n",
       "                                                     Text  \\\n",
       "138706  this witty little book makes my son laugh at l...   \n",
       "138683  I can remember seeing the show when it aired o...   \n",
       "417839  Beetlejuice is a well written movie ..... ever...   \n",
       "346055  A twist of rumplestiskin captured on film, sta...   \n",
       "\n",
       "                                              CleanedText  \n",
       "138706  witti littl book make son laugh loud recit car...  \n",
       "138683  rememb see show air televis year ago child sis...  \n",
       "417839  beetlejuic well written movi everyth excel act...  \n",
       "346055  twist rumplestiskin captur film star michael k...  "
      ]
     },
     "execution_count": 19,
     "metadata": {},
     "output_type": "execute_result"
    }
   ],
   "source": [
    "final.head(4)"
   ]
  },
  {
   "cell_type": "code",
   "execution_count": 20,
   "metadata": {},
   "outputs": [],
   "source": [
    "tr_indx=int(70/100*final['CleanedText'].shape[0])\n",
    "final['CleanedText']\n",
    "X_tr=final.iloc[:tr_indx]['CleanedText']\n",
    "y_tr=labels[:tr_indx]\n",
    "X_test=final.iloc[tr_indx+1:]['CleanedText']\n",
    "y_test=labels[tr_indx+1:]"
   ]
  },
  {
   "cell_type": "code",
   "execution_count": 21,
   "metadata": {},
   "outputs": [
    {
     "name": "stdout",
     "output_type": "stream",
     "text": [
      "(70000,)\n",
      "(29999,)\n"
     ]
    }
   ],
   "source": [
    "print(X_tr.shape)\n",
    "print(X_test.shape)"
   ]
  },
  {
   "cell_type": "code",
   "execution_count": 22,
   "metadata": {},
   "outputs": [],
   "source": [
    "p=y_tr.astype('category')"
   ]
  },
  {
   "cell_type": "code",
   "execution_count": 23,
   "metadata": {},
   "outputs": [
    {
     "name": "stdout",
     "output_type": "stream",
     "text": [
      "count     70000\n",
      "unique        2\n",
      "top           1\n",
      "freq      61832\n",
      "Name: Score, dtype: int64\n"
     ]
    }
   ],
   "source": [
    "print(p.describe())"
   ]
  },
  {
   "cell_type": "markdown",
   "metadata": {},
   "source": [
    "# Bag of words"
   ]
  },
  {
   "cell_type": "markdown",
   "metadata": {},
   "source": [
    " * ## Logistic Regression using Gridsearchcv "
   ]
  },
  {
   "cell_type": "code",
   "execution_count": 24,
   "metadata": {},
   "outputs": [],
   "source": [
    "count_vect = CountVectorizer()\n",
    "final_counts = count_vect.fit_transform(X_tr)\n",
    "final_test = count_vect.transform(X_test)"
   ]
  },
  {
   "cell_type": "code",
   "execution_count": 25,
   "metadata": {},
   "outputs": [],
   "source": [
    "from sklearn.preprocessing import StandardScaler\n",
    "scaler = StandardScaler(with_mean=False,with_std=False)\n",
    "final_counts = scaler.fit_transform( final_counts.astype('float') )\n",
    "final_test = scaler.transform( final_test.astype('float') )"
   ]
  },
  {
   "cell_type": "code",
   "execution_count": 26,
   "metadata": {},
   "outputs": [
    {
     "name": "stdout",
     "output_type": "stream",
     "text": [
      "\n",
      "The optimal number of C is 1.\n"
     ]
    },
    {
     "data": {
      "image/png": "[encoded data removed]",
      "text/plain": [
       "<Figure size 432x288 with 1 Axes>"
      ]
     },
     "metadata": {},
     "output_type": "display_data"
    },
    {
     "name": "stdout",
     "output_type": "stream",
     "text": [
      "the misclassification error for each C value is :  [0.062 0.049 0.043 0.05  0.05 ]\n"
     ]
    }
   ],
   "source": [
    "C_val=[10**-4, 10**-2, 10**0, 10**2, 10**4]\n",
    "tuned_parameters={'C': C_val}\n",
    "lr = LogisticRegression(penalty='l2')\n",
    "model = GridSearchCV(lr, tuned_parameters, scoring = 'f1', cv=3,return_train_score=True)\n",
    "model.fit(final_counts, y_tr)\n",
    "result=pd.DataFrame(model.cv_results_) \n",
    "MSE_test=[1-i for i in result['mean_test_score']]\n",
    "MSE_train=[1-i for i in result['mean_train_score']]\n",
    "optimal_c = C_val[MSE_test.index(min(MSE_test))]\n",
    "print('\\nThe optimal number of C is %d.' % optimal_c)\n",
    "vals = [str(x) for x in C_val]\n",
    "plt.plot(vals, MSE_test,label=\"test error\")\n",
    "plt.plot(vals, MSE_train,label=\"train error\")\n",
    "for xy in zip(vals, np.round(MSE_test,2)):\n",
    "    plt.annotate('(%s, %s)' % xy, xy=xy, textcoords='data')\n",
    "for xy in zip(vals, np.round(MSE_train,2)):\n",
    "    plt.annotate('(%s, %s)' % xy, xy=xy, textcoords='data')\n",
    "plt.legend()\n",
    "plt.xlabel('Value of C')\n",
    "plt.ylabel('Misclassification Error')\n",
    "plt.show()\n",
    "print(\"the misclassification error for each C value is : \", np.round(MSE_test,3))"
   ]
  },
  {
   "cell_type": "code",
   "execution_count": 27,
   "metadata": {},
   "outputs": [
    {
     "name": "stdout",
     "output_type": "stream",
     "text": [
      "\n",
      "The accuracy of optimal Logistic Regression classifier for C = 1 is 91.966399%\n"
     ]
    }
   ],
   "source": [
    "Lr2_optimal = LogisticRegression(C=optimal_c,penalty='l2')\n",
    "Lr2_optimal.fit(final_counts, y_tr)\n",
    "pred = Lr2_optimal.predict(final_test)\n",
    "acc = accuracy_score(y_test, pred) * 100\n",
    "print('\\nThe accuracy of optimal Logistic Regression classifier for C = %d is %f%%' % (optimal_c, acc))"
   ]
  },
  {
   "cell_type": "markdown",
   "metadata": {},
   "source": [
    "#### Confusion matrix on test dataset"
   ]
  },
  {
   "cell_type": "code",
   "execution_count": 28,
   "metadata": {},
   "outputs": [
    {
     "data": {
      "text/plain": [
       "<matplotlib.axes._subplots.AxesSubplot at 0x7f4b7ef090b8>"
      ]
     },
     "execution_count": 28,
     "metadata": {},
     "output_type": "execute_result"
    },
    {
     "data": {
      "image/png": "[encoded data removed]",
      "text/plain": [
       "<Figure size 432x288 with 2 Axes>"
      ]
     },
     "metadata": {},
     "output_type": "display_data"
    }
   ],
   "source": [
    "from sklearn.metrics import confusion_matrix\n",
    "import seaborn as sn\n",
    "import pandas as pd\n",
    "import matplotlib.pyplot as plt\n",
    "cf_matrix=confusion_matrix(y_test, pred)\n",
    "df_cm = pd.DataFrame(cf_matrix,range(0,2),range(0,2))\n",
    "sn.heatmap(df_cm, annot=True)"
   ]
  },
  {
   "cell_type": "markdown",
   "metadata": {},
   "source": [
    "#### precision recall and f1-score values"
   ]
  },
  {
   "cell_type": "code",
   "execution_count": 29,
   "metadata": {},
   "outputs": [
    {
     "name": "stdout",
     "output_type": "stream",
     "text": [
      "precision of the Logistic Regression for bag of words is 0.9146902895060215\n",
      "recall of the Logistic Regression for bag of words is 0.9196639887996266\n",
      "fscore of the Logistic Regression for bag of words is 0.9158199685594473\n"
     ]
    }
   ],
   "source": [
    "from sklearn.metrics import precision_recall_fscore_support\n",
    "scr=precision_recall_fscore_support(y_test, pred, average='weighted')\n",
    "print(\"precision of the Logistic Regression for bag of words is\",scr[0])\n",
    "print(\"recall of the Logistic Regression for bag of words is\",scr[1])\n",
    "print(\"fscore of the Logistic Regression for bag of words is\",scr[2])"
   ]
  },
  {
   "cell_type": "markdown",
   "metadata": {},
   "source": [
    "#### confusion matrix on train dataset"
   ]
  },
  {
   "cell_type": "code",
   "execution_count": 30,
   "metadata": {},
   "outputs": [
    {
     "name": "stdout",
     "output_type": "stream",
     "text": [
      "\n",
      "The accuracy of optimal Logistic Regression classifier for C = 1 is 96.227143%\n"
     ]
    }
   ],
   "source": [
    "Lr2_optimal = LogisticRegression(C=optimal_c,penalty='l2')\n",
    "Lr2_optimal.fit(final_counts, y_tr)\n",
    "pred = Lr2_optimal.predict(final_counts)\n",
    "acc = accuracy_score(y_tr, pred) * 100\n",
    "print('\\nThe accuracy of optimal Logistic Regression classifier for C = %d is %f%%' % (optimal_c, acc))"
   ]
  },
  {
   "cell_type": "code",
   "execution_count": 31,
   "metadata": {},
   "outputs": [
    {
     "data": {
      "text/plain": [
       "<matplotlib.axes._subplots.AxesSubplot at 0x7f4b7cb60c18>"
      ]
     },
     "execution_count": 31,
     "metadata": {},
     "output_type": "execute_result"
    },
    {
     "data": {
      "image/png": "[encoded data removed]",
      "text/plain": [
       "<Figure size 432x288 with 2 Axes>"
      ]
     },
     "metadata": {},
     "output_type": "display_data"
    }
   ],
   "source": [
    "from sklearn.metrics import confusion_matrix\n",
    "import seaborn as sn\n",
    "import pandas as pd\n",
    "import matplotlib.pyplot as plt\n",
    "cf_matrix=confusion_matrix(y_tr, pred)\n",
    "df_cm = pd.DataFrame(cf_matrix,range(0,2),range(0,2))\n",
    "sn.heatmap(df_cm, annot=True)"
   ]
  },
  {
   "cell_type": "markdown",
   "metadata": {},
   "source": [
    "### L1 regularizer "
   ]
  },
  {
   "cell_type": "code",
   "execution_count": 32,
   "metadata": {},
   "outputs": [
    {
     "name": "stdout",
     "output_type": "stream",
     "text": [
      "\n",
      "The optimal number of C is 1.\n"
     ]
    },
    {
     "data": {
      "image/png": "[encoded data removed]",
      "text/plain": [
       "<Figure size 432x288 with 1 Axes>"
      ]
     },
     "metadata": {},
     "output_type": "display_data"
    },
    {
     "name": "stdout",
     "output_type": "stream",
     "text": [
      "the misclassification error for each C value is :  [0.062 0.058 0.042 0.068 0.074]\n"
     ]
    }
   ],
   "source": [
    "C_val=[10**-4, 10**-2, 10**0, 10**2, 10**4]\n",
    "tuned_parameters={'C': C_val}\n",
    "lr = LogisticRegression(penalty='l1')\n",
    "model = GridSearchCV(lr, tuned_parameters, scoring = 'f1', cv=3,return_train_score=True)\n",
    "model.fit(final_counts, y_tr)\n",
    "result=pd.DataFrame(model.cv_results_) \n",
    "MSE_test=[1-i for i in result['mean_test_score']]\n",
    "MSE_train=[1-i for i in result['mean_train_score']]\n",
    "optimal_c = C_val[MSE_test.index(min(MSE_test))]\n",
    "print('\\nThe optimal number of C is %d.' % optimal_c)\n",
    "vals = [str(x) for x in C_val]\n",
    "plt.plot(vals, MSE_test,label=\"test error\")\n",
    "plt.plot(vals, MSE_train,label=\"train error\")\n",
    "for xy in zip(vals, np.round(MSE_test,2)):\n",
    "    plt.annotate('(%s, %s)' % xy, xy=xy, textcoords='data')\n",
    "for xy in zip(vals, np.round(MSE_train,2)):\n",
    "    plt.annotate('(%s, %s)' % xy, xy=xy, textcoords='data')\n",
    "plt.legend()\n",
    "plt.xlabel('Value of C')\n",
    "plt.ylabel('Misclassification Error')\n",
    "plt.show()\n",
    "print(\"the misclassification error for each C value is : \", np.round(MSE_test,3))"
   ]
  },
  {
   "cell_type": "code",
   "execution_count": 33,
   "metadata": {},
   "outputs": [
    {
     "name": "stdout",
     "output_type": "stream",
     "text": [
      "\n",
      "The accuracy of optimal Logistic Regression classifier for C = 1 is 91.963065%\n"
     ]
    }
   ],
   "source": [
    "Lr1_optimal = LogisticRegression(C=optimal_c,penalty='l1')\n",
    "Lr1_optimal.fit(final_counts, y_tr)\n",
    "pred = Lr1_optimal.predict(final_test)\n",
    "acc = accuracy_score(y_test, pred) * 100\n",
    "print('\\nThe accuracy of optimal Logistic Regression classifier for C = %d is %f%%' % (optimal_c, acc))"
   ]
  },
  {
   "cell_type": "markdown",
   "metadata": {},
   "source": [
    "#### Confusion matrix on test dataset"
   ]
  },
  {
   "cell_type": "code",
   "execution_count": 34,
   "metadata": {},
   "outputs": [
    {
     "data": {
      "text/plain": [
       "<matplotlib.axes._subplots.AxesSubplot at 0x7f4b7ccfdc88>"
      ]
     },
     "execution_count": 34,
     "metadata": {},
     "output_type": "execute_result"
    },
    {
     "data": {
      "image/png": "[encoded data removed]",
      "text/plain": [
       "<Figure size 432x288 with 2 Axes>"
      ]
     },
     "metadata": {},
     "output_type": "display_data"
    }
   ],
   "source": [
    "from sklearn.metrics import confusion_matrix\n",
    "import seaborn as sn\n",
    "import pandas as pd\n",
    "import matplotlib.pyplot as plt\n",
    "cf_matrix=confusion_matrix(y_test, pred)\n",
    "df_cm = pd.DataFrame(cf_matrix,range(0,2),range(0,2))\n",
    "sn.heatmap(df_cm, annot=True)"
   ]
  },
  {
   "cell_type": "markdown",
   "metadata": {},
   "source": [
    "#### precision recall and f1-score values"
   ]
  },
  {
   "cell_type": "code",
   "execution_count": 35,
   "metadata": {},
   "outputs": [
    {
     "name": "stdout",
     "output_type": "stream",
     "text": [
      "precision of the Logistic Regression for bag of words is 0.9146776358163426\n",
      "recall of the Logistic Regression for bag of words is 0.9196306543551451\n",
      "fscore of the Logistic Regression for bag of words is 0.9158220711566469\n"
     ]
    }
   ],
   "source": [
    "from sklearn.metrics import precision_recall_fscore_support\n",
    "scr=precision_recall_fscore_support(y_test, pred, average='weighted')\n",
    "print(\"precision of the Logistic Regression for bag of words is\",scr[0])\n",
    "print(\"recall of the Logistic Regression for bag of words is\",scr[1])\n",
    "print(\"fscore of the Logistic Regression for bag of words is\",scr[2])"
   ]
  },
  {
   "cell_type": "markdown",
   "metadata": {},
   "source": [
    "#### confusion matrix on train dataset"
   ]
  },
  {
   "cell_type": "code",
   "execution_count": 36,
   "metadata": {},
   "outputs": [
    {
     "name": "stdout",
     "output_type": "stream",
     "text": [
      "\n",
      "The accuracy of optimal Logistic Regression classifier for C = 1 is 95.445714%\n"
     ]
    }
   ],
   "source": [
    "Lr1_optimal = LogisticRegression(C=optimal_c,penalty='l1')\n",
    "Lr1_optimal.fit(final_counts, y_tr)\n",
    "pred = Lr1_optimal.predict(final_counts)\n",
    "acc = accuracy_score(y_tr, pred) * 100\n",
    "print('\\nThe accuracy of optimal Logistic Regression classifier for C = %d is %f%%' % (optimal_c, acc))"
   ]
  },
  {
   "cell_type": "code",
   "execution_count": 37,
   "metadata": {},
   "outputs": [
    {
     "data": {
      "text/plain": [
       "<matplotlib.axes._subplots.AxesSubplot at 0x7f4b7c426828>"
      ]
     },
     "execution_count": 37,
     "metadata": {},
     "output_type": "execute_result"
    },
    {
     "data": {
      "image/png": "[encoded data removed]",
      "text/plain": [
       "<Figure size 432x288 with 2 Axes>"
      ]
     },
     "metadata": {},
     "output_type": "display_data"
    }
   ],
   "source": [
    "from sklearn.metrics import confusion_matrix\n",
    "import seaborn as sn\n",
    "import pandas as pd\n",
    "import matplotlib.pyplot as plt\n",
    "cf_matrix=confusion_matrix(y_tr, pred)\n",
    "df_cm = pd.DataFrame(cf_matrix,range(0,2),range(0,2))\n",
    "sn.heatmap(df_cm, annot=True)"
   ]
  },
  {
   "cell_type": "markdown",
   "metadata": {},
   "source": [
    "####  sparsity check"
   ]
  },
  {
   "cell_type": "code",
   "execution_count": 38,
   "metadata": {},
   "outputs": [
    {
     "name": "stdout",
     "output_type": "stream",
     "text": [
      "Number of non zero elements obtained using L1 regularizer are:\n",
      " 3816\n",
      "\n",
      "Number of non zero elements obtained using L2 regularizer are:\n",
      " 31373\n"
     ]
    }
   ],
   "source": [
    "print(\"Number of non zero elements obtained using L1 regularizer are:\\n\",np.count_nonzero(Lr1_optimal.coef_))\n",
    "print(\"\\nNumber of non zero elements obtained using L2 regularizer are:\\n\",np.count_nonzero(Lr2_optimal.coef_))"
   ]
  },
  {
   "cell_type": "markdown",
   "metadata": {},
   "source": [
    "#### Important features"
   ]
  },
  {
   "cell_type": "code",
   "execution_count": 39,
   "metadata": {},
   "outputs": [
    {
     "name": "stdout",
     "output_type": "stream",
     "text": [
      "Top features to classify negative class labels are:\n",
      "\n",
      "[['worst' 'terribl' 'ugh' 'aw' 'threw' 'flavorless' 'fragment'\n",
      "  'tasteless' 'unpleas' 'compass' 'unaccept']] \n",
      "\n",
      "Top features to classify positive class labels are:\n",
      "\n",
      "[['scari' 'dum' 'nicer' 'uniqu' 'delici' 'perfect' 'amaz' 'ramun' 'solv'\n",
      "  'accur' 'skeptic']] \n",
      "\n"
     ]
    }
   ],
   "source": [
    "imp_fec = Lr2_optimal.coef_.argsort()\n",
    "print(\"Top features to classify negative class labels are:\\n\")\n",
    "print(np.take(count_vect.get_feature_names(), imp_fec[:,:11]),\"\\n\")\n",
    "print(\"Top features to classify positive class labels are:\\n\")\n",
    "print(np.take(count_vect.get_feature_names(), imp_fec[:,-11:]),\"\\n\")"
   ]
  },
  {
   "cell_type": "markdown",
   "metadata": {},
   "source": [
    "#### Multi collinearity check"
   ]
  },
  {
   "cell_type": "code",
   "execution_count": 45,
   "metadata": {},
   "outputs": [
    {
     "name": "stdout",
     "output_type": "stream",
     "text": [
      "Spearman rank between the original weights and noise weights is: 0.9999999997607141\n"
     ]
    }
   ],
   "source": [
    "from scipy import stats\n",
    "from scipy.sparse import csc_matrix\n",
    "original_weights = Lr2_optimal.coef_.ravel()\n",
    "row,col=final_counts.nonzero()\n",
    "data=np.zeros(final_counts.count_nonzero())+np.random.normal(0.00001, 0.0001)\n",
    "noise_data=csc_matrix((data, (row, col)), shape=final_counts.shape)\n",
    "Lr2_optimal.fit(noise_data,y_tr)\n",
    "noise_weights = Lr2_optimal.coef_.ravel()\n",
    "SpearmanrResult=stats.spearmanr(noise_weights,original_weights)\n",
    "print(\"Spearman rank between the original weights and noise weights is:\",SpearmanrResult[0])"
   ]
  },
  {
   "cell_type": "markdown",
   "metadata": {},
   "source": [
    " * ## Logistic Regression using Randomsearchcv"
   ]
  },
  {
   "cell_type": "code",
   "execution_count": 46,
   "metadata": {},
   "outputs": [
    {
     "name": "stdout",
     "output_type": "stream",
     "text": [
      "\n",
      "The optimal number of C is 1.\n"
     ]
    },
    {
     "data": {
      "image/png": "[encoded data removed]",
      "text/plain": [
       "<Figure size 432x288 with 1 Axes>"
      ]
     },
     "metadata": {},
     "output_type": "display_data"
    },
    {
     "name": "stdout",
     "output_type": "stream",
     "text": [
      "the misclassification error for each C value is :  [0.062 0.049 0.043 0.05  0.05 ]\n"
     ]
    }
   ],
   "source": [
    "from sklearn.model_selection import RandomizedSearchCV\n",
    "C_val=[10**-4,10**-2, 10**0, 10**2 , 10**4]\n",
    "tuned_parameters = {'C': C_val}\n",
    "lr = LogisticRegression(penalty='l2')\n",
    "model = RandomizedSearchCV(lr,tuned_parameters, scoring = 'f1',n_iter=5, cv=3,return_train_score=True)\n",
    "model.fit(final_counts, y_tr)\n",
    "result=pd.DataFrame(model.cv_results_) \n",
    "MSE_test=[1-i for i in result['mean_test_score']]\n",
    "MSE_train=[1-i for i in result['mean_train_score']]\n",
    "optimal_c = C_val[MSE_test.index(min(MSE_test))]\n",
    "print('\\nThe optimal number of C is %d.' % optimal_c)\n",
    "vals = [str(x) for x in C_val]\n",
    "plt.plot(vals, MSE_test,label=\"test error\")\n",
    "plt.plot(vals, MSE_train,label=\"train error\")\n",
    "for xy in zip(vals, np.round(MSE_test,2)):\n",
    "    plt.annotate('(%s, %s)' % xy, xy=xy, textcoords='data')\n",
    "for xy in zip(vals, np.round(MSE_train,2)):\n",
    "    plt.annotate('(%s, %s)' % xy, xy=xy, textcoords='data')\n",
    "plt.legend()\n",
    "plt.xlabel('Value of C')\n",
    "plt.ylabel('Misclassification Error')\n",
    "plt.show()\n",
    "print(\"the misclassification error for each C value is : \", np.round(MSE_test,3))"
   ]
  },
  {
   "cell_type": "code",
   "execution_count": 52,
   "metadata": {},
   "outputs": [
    {
     "name": "stdout",
     "output_type": "stream",
     "text": [
      "\n",
      "The accuracy of optimal Logistic Regression classifier for C = 1 is 91.966399%\n"
     ]
    }
   ],
   "source": [
    "Lr2_optimal = LogisticRegression(C=optimal_c,penalty='l2')\n",
    "Lr2_optimal.fit(final_counts, y_tr)\n",
    "pred = Lr2_optimal.predict(final_test)\n",
    "acc = accuracy_score(y_test, pred) * 100\n",
    "print('\\nThe accuracy of optimal Logistic Regression classifier for C = %d is %f%%' % (optimal_c, acc))"
   ]
  },
  {
   "cell_type": "markdown",
   "metadata": {},
   "source": [
    "#### Confusion matrix for test dataset"
   ]
  },
  {
   "cell_type": "code",
   "execution_count": 53,
   "metadata": {},
   "outputs": [
    {
     "data": {
      "text/plain": [
       "<matplotlib.axes._subplots.AxesSubplot at 0x7f4b8ab56940>"
      ]
     },
     "execution_count": 53,
     "metadata": {},
     "output_type": "execute_result"
    },
    {
     "data": {
      "image/png": "[encoded data removed]",
      "text/plain": [
       "<Figure size 432x288 with 2 Axes>"
      ]
     },
     "metadata": {},
     "output_type": "display_data"
    }
   ],
   "source": [
    "from sklearn.metrics import confusion_matrix\n",
    "import seaborn as sn\n",
    "import pandas as pd\n",
    "import matplotlib.pyplot as plt\n",
    "cf_matrix=confusion_matrix(y_test, pred)\n",
    "df_cm = pd.DataFrame(cf_matrix,range(0,2),range(0,2))\n",
    "sn.heatmap(df_cm, annot=True)"
   ]
  },
  {
   "cell_type": "markdown",
   "metadata": {},
   "source": [
    "#### precision recall and f1-score values"
   ]
  },
  {
   "cell_type": "code",
   "execution_count": 54,
   "metadata": {},
   "outputs": [
    {
     "name": "stdout",
     "output_type": "stream",
     "text": [
      "precision of the Logistic Regression for bag of words is 0.9146902895060215\n",
      "recall of the Logistic Regression for bag of words is 0.9196639887996266\n",
      "fscore of the Logistic Regression for bag of words is 0.9158199685594473\n"
     ]
    }
   ],
   "source": [
    "from sklearn.metrics import precision_recall_fscore_support\n",
    "scr=precision_recall_fscore_support(y_test, pred, average='weighted')\n",
    "print(\"precision of the Logistic Regression for bag of words is\",scr[0])\n",
    "print(\"recall of the Logistic Regression for bag of words is\",scr[1])\n",
    "print(\"fscore of the Logistic Regression for bag of words is\",scr[2])"
   ]
  },
  {
   "cell_type": "markdown",
   "metadata": {},
   "source": [
    "#### confusion matrix for train dataset"
   ]
  },
  {
   "cell_type": "code",
   "execution_count": 55,
   "metadata": {},
   "outputs": [
    {
     "name": "stdout",
     "output_type": "stream",
     "text": [
      "\n",
      "The accuracy of optimal Logistic Regression classifier for C = 1 is 96.227143%\n"
     ]
    }
   ],
   "source": [
    "Lr2_optimal = LogisticRegression(C=optimal_c,penalty='l2')\n",
    "Lr2_optimal.fit(final_counts, y_tr)\n",
    "pred = Lr2_optimal.predict(final_counts)\n",
    "acc = accuracy_score(y_tr, pred) * 100\n",
    "print('\\nThe accuracy of optimal Logistic Regression classifier for C = %d is %f%%' % (optimal_c, acc))"
   ]
  },
  {
   "cell_type": "code",
   "execution_count": 56,
   "metadata": {},
   "outputs": [
    {
     "data": {
      "text/plain": [
       "<matplotlib.axes._subplots.AxesSubplot at 0x7f4b8a273358>"
      ]
     },
     "execution_count": 56,
     "metadata": {},
     "output_type": "execute_result"
    },
    {
     "data": {
      "image/png": "[encoded data removed]",
      "text/plain": [
       "<Figure size 432x288 with 2 Axes>"
      ]
     },
     "metadata": {},
     "output_type": "display_data"
    }
   ],
   "source": [
    "from sklearn.metrics import confusion_matrix\n",
    "import seaborn as sn\n",
    "import pandas as pd\n",
    "import matplotlib.pyplot as plt\n",
    "cf_matrix=confusion_matrix(y_tr, pred)\n",
    "df_cm = pd.DataFrame(cf_matrix,range(0,2),range(0,2))\n",
    "sn.heatmap(df_cm, annot=True)"
   ]
  },
  {
   "cell_type": "markdown",
   "metadata": {},
   "source": [
    "# Tfidf"
   ]
  },
  {
   "cell_type": "code",
   "execution_count": 57,
   "metadata": {},
   "outputs": [],
   "source": [
    "tf_idf_vect = TfidfVectorizer()\n",
    "final_tf_idf = tf_idf_vect.fit_transform(X_tr)\n",
    "final_test = tf_idf_vect.transform(X_test)"
   ]
  },
  {
   "cell_type": "code",
   "execution_count": 58,
   "metadata": {},
   "outputs": [
    {
     "data": {
      "text/plain": [
       "31373"
      ]
     },
     "execution_count": 58,
     "metadata": {},
     "output_type": "execute_result"
    }
   ],
   "source": [
    "features = tf_idf_vect.get_feature_names()\n",
    "len(features)"
   ]
  },
  {
   "cell_type": "code",
   "execution_count": 59,
   "metadata": {},
   "outputs": [
    {
     "data": {
      "text/plain": [
       "['bollilo',\n",
       " 'bollion',\n",
       " 'bollywood',\n",
       " 'bologna',\n",
       " 'bolognes',\n",
       " 'bolsa',\n",
       " 'bolsita',\n",
       " 'bolster',\n",
       " 'bolt',\n",
       " 'bom']"
      ]
     },
     "execution_count": 59,
     "metadata": {},
     "output_type": "execute_result"
    }
   ],
   "source": [
    "features[3000:3010]"
   ]
  },
  {
   "cell_type": "code",
   "execution_count": 60,
   "metadata": {},
   "outputs": [
    {
     "name": "stdout",
     "output_type": "stream",
     "text": [
      "[0. 0. 0. ... 0. 0. 0.]\n"
     ]
    }
   ],
   "source": [
    "print(final_tf_idf[3,:].toarray()[0])"
   ]
  },
  {
   "cell_type": "code",
   "execution_count": 61,
   "metadata": {},
   "outputs": [
    {
     "name": "stdout",
     "output_type": "stream",
     "text": [
      "[23572 23565   101 16792 11081  4131  6922 14780  3709 17251  8311 27860\n",
      "  9955 19791 28619 21542 17712 21014 26005 30707 10421 10422 10458 10457\n",
      " 10456]\n"
     ]
    },
    {
     "data": {
      "text/plain": [
       "(1, 31373)"
      ]
     },
     "execution_count": 61,
     "metadata": {},
     "output_type": "execute_result"
    }
   ],
   "source": [
    "def top_tfidf_feats(row, features, top_n=25):\n",
    "    ''' Get top n tfidf values in row and return them with their corresponding feature names.'''\n",
    "\n",
    "    topn_ids = np.argsort(row)[::-1][:top_n]\n",
    "    top_feats = [(features[i], row[i]) for i in topn_ids]\n",
    "    df = pd.DataFrame(top_feats)\n",
    "    df.columns = ['feature', 'tfidf']\n",
    "    return df\n",
    "\n",
    "top_tfidf = top_tfidf_feats(final_tf_idf[3,:].toarray()[0],features)\n",
    "#print(np.argsort(final_tf_idf[3,:].toarray()[0])[::-1][:25])\n",
    "\n",
    "final_tf_idf[3,:].get_shape()"
   ]
  },
  {
   "cell_type": "code",
   "execution_count": 62,
   "metadata": {},
   "outputs": [
    {
     "data": {
      "text/html": [
       "<div>\n",
       "<style scoped>\n",
       "    .dataframe tbody tr th:only-of-type {\n",
       "        vertical-align: middle;\n",
       "    }\n",
       "\n",
       "    .dataframe tbody tr th {\n",
       "        vertical-align: top;\n",
       "    }\n",
       "\n",
       "    .dataframe thead th {\n",
       "        text-align: right;\n",
       "    }\n",
       "</style>\n",
       "<table border=\"1\" class=\"dataframe\">\n",
       "  <thead>\n",
       "    <tr style=\"text-align: right;\">\n",
       "      <th></th>\n",
       "      <th>feature</th>\n",
       "      <th>tfidf</th>\n",
       "    </tr>\n",
       "  </thead>\n",
       "  <tbody>\n",
       "    <tr>\n",
       "      <th>0</th>\n",
       "      <td>rumplestiskin</td>\n",
       "      <td>0.323369</td>\n",
       "    </tr>\n",
       "    <tr>\n",
       "      <th>1</th>\n",
       "      <td>rumbl</td>\n",
       "      <td>0.280940</td>\n",
       "    </tr>\n",
       "    <tr>\n",
       "      <th>2</th>\n",
       "      <td>absurd</td>\n",
       "      <td>0.255726</td>\n",
       "    </tr>\n",
       "    <tr>\n",
       "      <th>3</th>\n",
       "      <td>masterpiec</td>\n",
       "      <td>0.252120</td>\n",
       "    </tr>\n",
       "    <tr>\n",
       "      <th>4</th>\n",
       "      <td>geena</td>\n",
       "      <td>0.246051</td>\n",
       "    </tr>\n",
       "    <tr>\n",
       "      <th>5</th>\n",
       "      <td>captur</td>\n",
       "      <td>0.242628</td>\n",
       "    </tr>\n",
       "    <tr>\n",
       "      <th>6</th>\n",
       "      <td>davi</td>\n",
       "      <td>0.236172</td>\n",
       "    </tr>\n",
       "    <tr>\n",
       "      <th>7</th>\n",
       "      <td>keaton</td>\n",
       "      <td>0.231460</td>\n",
       "    </tr>\n",
       "    <tr>\n",
       "      <th>8</th>\n",
       "      <td>burton</td>\n",
       "      <td>0.230922</td>\n",
       "    </tr>\n",
       "    <tr>\n",
       "      <th>9</th>\n",
       "      <td>michael</td>\n",
       "      <td>0.228379</td>\n",
       "    </tr>\n",
       "    <tr>\n",
       "      <th>10</th>\n",
       "      <td>dull</td>\n",
       "      <td>0.226957</td>\n",
       "    </tr>\n",
       "    <tr>\n",
       "      <th>11</th>\n",
       "      <td>tim</td>\n",
       "      <td>0.226047</td>\n",
       "    </tr>\n",
       "    <tr>\n",
       "      <th>12</th>\n",
       "      <td>film</td>\n",
       "      <td>0.213583</td>\n",
       "    </tr>\n",
       "    <tr>\n",
       "      <th>13</th>\n",
       "      <td>pace</td>\n",
       "      <td>0.210842</td>\n",
       "    </tr>\n",
       "    <tr>\n",
       "      <th>14</th>\n",
       "      <td>twist</td>\n",
       "      <td>0.194465</td>\n",
       "    </tr>\n",
       "    <tr>\n",
       "      <th>15</th>\n",
       "      <td>prime</td>\n",
       "      <td>0.190771</td>\n",
       "    </tr>\n",
       "    <tr>\n",
       "      <th>16</th>\n",
       "      <td>moment</td>\n",
       "      <td>0.188671</td>\n",
       "    </tr>\n",
       "    <tr>\n",
       "      <th>17</th>\n",
       "      <td>point</td>\n",
       "      <td>0.152842</td>\n",
       "    </tr>\n",
       "    <tr>\n",
       "      <th>18</th>\n",
       "      <td>star</td>\n",
       "      <td>0.128112</td>\n",
       "    </tr>\n",
       "    <tr>\n",
       "      <th>19</th>\n",
       "      <td>wonder</td>\n",
       "      <td>0.105089</td>\n",
       "    </tr>\n",
       "    <tr>\n",
       "      <th>20</th>\n",
       "      <td>forgot</td>\n",
       "      <td>0.000000</td>\n",
       "    </tr>\n",
       "    <tr>\n",
       "      <th>21</th>\n",
       "      <td>forgotten</td>\n",
       "      <td>0.000000</td>\n",
       "    </tr>\n",
       "    <tr>\n",
       "      <th>22</th>\n",
       "      <td>fortuit</td>\n",
       "      <td>0.000000</td>\n",
       "    </tr>\n",
       "    <tr>\n",
       "      <th>23</th>\n",
       "      <td>fortress</td>\n",
       "      <td>0.000000</td>\n",
       "    </tr>\n",
       "    <tr>\n",
       "      <th>24</th>\n",
       "      <td>fortnum</td>\n",
       "      <td>0.000000</td>\n",
       "    </tr>\n",
       "  </tbody>\n",
       "</table>\n",
       "</div>"
      ],
      "text/plain": [
       "          feature     tfidf\n",
       "0   rumplestiskin  0.323369\n",
       "1           rumbl  0.280940\n",
       "2          absurd  0.255726\n",
       "3      masterpiec  0.252120\n",
       "4           geena  0.246051\n",
       "5          captur  0.242628\n",
       "6            davi  0.236172\n",
       "7          keaton  0.231460\n",
       "8          burton  0.230922\n",
       "9         michael  0.228379\n",
       "10           dull  0.226957\n",
       "11            tim  0.226047\n",
       "12           film  0.213583\n",
       "13           pace  0.210842\n",
       "14          twist  0.194465\n",
       "15          prime  0.190771\n",
       "16         moment  0.188671\n",
       "17          point  0.152842\n",
       "18           star  0.128112\n",
       "19         wonder  0.105089\n",
       "20         forgot  0.000000\n",
       "21      forgotten  0.000000\n",
       "22        fortuit  0.000000\n",
       "23       fortress  0.000000\n",
       "24        fortnum  0.000000"
      ]
     },
     "execution_count": 62,
     "metadata": {},
     "output_type": "execute_result"
    }
   ],
   "source": [
    "top_tfidf"
   ]
  },
  {
   "cell_type": "code",
   "execution_count": 63,
   "metadata": {},
   "outputs": [],
   "source": [
    "scaler = StandardScaler(with_mean=False,with_std=False)\n",
    "final_tf_idf = scaler.fit_transform( final_tf_idf.astype('float') )\n",
    "final_test = scaler.transform( final_test.astype('float') )"
   ]
  },
  {
   "cell_type": "code",
   "execution_count": 64,
   "metadata": {},
   "outputs": [
    {
     "name": "stdout",
     "output_type": "stream",
     "text": [
      "\n",
      "The optimal number of C is 1.\n"
     ]
    },
    {
     "data": {
      "image/png": "[encoded data removed]",
      "text/plain": [
       "<Figure size 432x288 with 1 Axes>"
      ]
     },
     "metadata": {},
     "output_type": "display_data"
    },
    {
     "name": "stdout",
     "output_type": "stream",
     "text": [
      "the misclassification error for each C value is :  [0.062 0.062 0.042 0.048 0.068]\n"
     ]
    }
   ],
   "source": [
    "C_val=[10**-4, 10**-2, 10**0, 10**2, 10**4]\n",
    "tuned_parameters={'C': C_val}\n",
    "lr = LogisticRegression(penalty='l2')\n",
    "model = GridSearchCV(lr, tuned_parameters, scoring = 'f1', cv=3,return_train_score=True)\n",
    "model.fit(final_tf_idf, y_tr)\n",
    "result=pd.DataFrame(model.cv_results_) \n",
    "MSE_test=[1-i for i in result['mean_test_score']]\n",
    "MSE_train=[1-i for i in result['mean_train_score']]\n",
    "optimal_c = C_val[MSE_test.index(min(MSE_test))]\n",
    "print('\\nThe optimal number of C is %d.' % optimal_c)\n",
    "vals = [str(x) for x in C_val]\n",
    "plt.plot(vals, MSE_test,label=\"test error\")\n",
    "plt.plot(vals, MSE_train,label=\"train error\")\n",
    "for xy in zip(vals, np.round(MSE_test,2)):\n",
    "    plt.annotate('(%s, %s)' % xy, xy=xy, textcoords='data')\n",
    "for xy in zip(vals, np.round(MSE_train,2)):\n",
    "    plt.annotate('(%s, %s)' % xy, xy=xy, textcoords='data')\n",
    "plt.legend()\n",
    "plt.xlabel('Value of C')\n",
    "plt.ylabel('Misclassification Error')\n",
    "plt.show()\n",
    "print(\"the misclassification error for each C value is : \", np.round(MSE_test,3))"
   ]
  },
  {
   "cell_type": "code",
   "execution_count": 65,
   "metadata": {},
   "outputs": [
    {
     "name": "stdout",
     "output_type": "stream",
     "text": [
      "\n",
      "The accuracy of optimal Logistic Regression classifier for C = 1 is 91.876396%\n"
     ]
    }
   ],
   "source": [
    "Lr2_optimal = LogisticRegression(C=optimal_c,penalty='l2')\n",
    "Lr2_optimal.fit(final_tf_idf, y_tr)\n",
    "pred = Lr2_optimal.predict(final_test)\n",
    "acc = accuracy_score(y_test, pred) * 100\n",
    "print('\\nThe accuracy of optimal Logistic Regression classifier for C = %d is %f%%' % (optimal_c, acc))"
   ]
  },
  {
   "cell_type": "code",
   "execution_count": 66,
   "metadata": {},
   "outputs": [
    {
     "data": {
      "text/plain": [
       "<matplotlib.axes._subplots.AxesSubplot at 0x7f4b7d0c12b0>"
      ]
     },
     "execution_count": 66,
     "metadata": {},
     "output_type": "execute_result"
    },
    {
     "data": {
      "image/png": "[encoded data removed]",
      "text/plain": [
       "<Figure size 432x288 with 2 Axes>"
      ]
     },
     "metadata": {},
     "output_type": "display_data"
    }
   ],
   "source": [
    "from sklearn.metrics import confusion_matrix\n",
    "import seaborn as sn\n",
    "import pandas as pd\n",
    "import matplotlib.pyplot as plt\n",
    "cf_matrix=confusion_matrix(y_test, pred)\n",
    "df_cm = pd.DataFrame(cf_matrix,range(0,2),range(0,2))\n",
    "sn.heatmap(df_cm, annot=True)"
   ]
  },
  {
   "cell_type": "markdown",
   "metadata": {},
   "source": [
    "#### precision recall and f1-score values"
   ]
  },
  {
   "cell_type": "code",
   "execution_count": 67,
   "metadata": {},
   "outputs": [
    {
     "name": "stdout",
     "output_type": "stream",
     "text": [
      "precision of the Logistic Regression for bag of words is 0.9140267039634165\n",
      "recall of the Logistic Regression for bag of words is 0.9187639587986266\n",
      "fscore of the Logistic Regression for bag of words is 0.9097883480072233\n"
     ]
    }
   ],
   "source": [
    "from sklearn.metrics import precision_recall_fscore_support\n",
    "scr=precision_recall_fscore_support(y_test, pred, average='weighted')\n",
    "print(\"precision of the Logistic Regression for bag of words is\",scr[0])\n",
    "print(\"recall of the Logistic Regression for bag of words is\",scr[1])\n",
    "print(\"fscore of the Logistic Regression for bag of words is\",scr[2])"
   ]
  },
  {
   "cell_type": "markdown",
   "metadata": {},
   "source": [
    "#### confusion matrix on train dataset"
   ]
  },
  {
   "cell_type": "code",
   "execution_count": 68,
   "metadata": {},
   "outputs": [
    {
     "name": "stdout",
     "output_type": "stream",
     "text": [
      "\n",
      "The accuracy of optimal Logistic Regression classifier for C = 1 is 93.750000%\n"
     ]
    }
   ],
   "source": [
    "Lr2_optimal = LogisticRegression(C=optimal_c,penalty='l2')\n",
    "Lr2_optimal.fit(final_tf_idf, y_tr)\n",
    "pred = Lr2_optimal.predict(final_tf_idf)\n",
    "acc = accuracy_score(y_tr, pred) * 100\n",
    "print('\\nThe accuracy of optimal Logistic Regression classifier for C = %d is %f%%' % (optimal_c, acc))"
   ]
  },
  {
   "cell_type": "code",
   "execution_count": 69,
   "metadata": {},
   "outputs": [
    {
     "data": {
      "text/plain": [
       "<matplotlib.axes._subplots.AxesSubplot at 0x7f4b87591588>"
      ]
     },
     "execution_count": 69,
     "metadata": {},
     "output_type": "execute_result"
    },
    {
     "data": {
      "image/png": "[encoded data removed]",
      "text/plain": [
       "<Figure size 432x288 with 2 Axes>"
      ]
     },
     "metadata": {},
     "output_type": "display_data"
    }
   ],
   "source": [
    "from sklearn.metrics import confusion_matrix\n",
    "import seaborn as sn\n",
    "import pandas as pd\n",
    "import matplotlib.pyplot as plt\n",
    "cf_matrix=confusion_matrix(y_tr, pred)\n",
    "df_cm = pd.DataFrame(cf_matrix,range(0,2),range(0,2))\n",
    "sn.heatmap(df_cm, annot=True)"
   ]
  },
  {
   "cell_type": "markdown",
   "metadata": {},
   "source": [
    "### L1 Regularizer"
   ]
  },
  {
   "cell_type": "code",
   "execution_count": 70,
   "metadata": {},
   "outputs": [
    {
     "name": "stdout",
     "output_type": "stream",
     "text": [
      "\n",
      "The optimal number of C is 1.\n"
     ]
    },
    {
     "data": {
      "image/png": "[encoded data removed]",
      "text/plain": [
       "<Figure size 432x288 with 1 Axes>"
      ]
     },
     "metadata": {},
     "output_type": "display_data"
    },
    {
     "name": "stdout",
     "output_type": "stream",
     "text": [
      "the misclassification error for each C value is :  [0.062 0.062 0.041 0.063 0.086]\n"
     ]
    }
   ],
   "source": [
    "C_val=[10**-4, 10**-2, 10**0, 10**2, 10**4]\n",
    "tuned_parameters={'C': C_val}\n",
    "lr = LogisticRegression(penalty='l1')\n",
    "model = GridSearchCV(lr, tuned_parameters, scoring = 'f1', cv=3,return_train_score=True)\n",
    "model.fit(final_tf_idf, y_tr)\n",
    "result=pd.DataFrame(model.cv_results_) \n",
    "MSE_test=[1-i for i in result['mean_test_score']]\n",
    "MSE_train=[1-i for i in result['mean_train_score']]\n",
    "optimal_c = C_val[MSE_test.index(min(MSE_test))]\n",
    "print('\\nThe optimal number of C is %d.' % optimal_c)\n",
    "vals = [str(x) for x in C_val]\n",
    "plt.plot(vals, MSE_test,label=\"test error\")\n",
    "plt.plot(vals, MSE_train,label=\"train error\")\n",
    "for xy in zip(vals, np.round(MSE_test,2)):\n",
    "    plt.annotate('(%s, %s)' % xy, xy=xy, textcoords='data')\n",
    "for xy in zip(vals, np.round(MSE_train,2)):\n",
    "    plt.annotate('(%s, %s)' % xy, xy=xy, textcoords='data')\n",
    "plt.legend()\n",
    "plt.xlabel('Value of C')\n",
    "plt.ylabel('Misclassification Error')\n",
    "plt.show()\n",
    "print(\"the misclassification error for each C value is : \", np.round(MSE_test,3))"
   ]
  },
  {
   "cell_type": "code",
   "execution_count": 71,
   "metadata": {},
   "outputs": [
    {
     "name": "stdout",
     "output_type": "stream",
     "text": [
      "\n",
      "The accuracy of optimal Logistic Regression classifier for C = 1 is 92.199740%\n"
     ]
    }
   ],
   "source": [
    "Lr1_optimal = LogisticRegression(C=optimal_c,penalty='l1')\n",
    "Lr1_optimal.fit(final_tf_idf, y_tr)\n",
    "pred = Lr1_optimal.predict(final_test)\n",
    "acc = accuracy_score(y_test, pred) * 100\n",
    "print('\\nThe accuracy of optimal Logistic Regression classifier for C = %d is %f%%' % (optimal_c, acc))"
   ]
  },
  {
   "cell_type": "code",
   "execution_count": 72,
   "metadata": {},
   "outputs": [
    {
     "data": {
      "text/plain": [
       "<matplotlib.axes._subplots.AxesSubplot at 0x7f4b867571d0>"
      ]
     },
     "execution_count": 72,
     "metadata": {},
     "output_type": "execute_result"
    },
    {
     "data": {
      "image/png": "[encoded data removed]",
      "text/plain": [
       "<Figure size 432x288 with 2 Axes>"
      ]
     },
     "metadata": {},
     "output_type": "display_data"
    }
   ],
   "source": [
    "from sklearn.metrics import confusion_matrix\n",
    "import seaborn as sn\n",
    "import pandas as pd\n",
    "import matplotlib.pyplot as plt\n",
    "cf_matrix=confusion_matrix(y_test, pred)\n",
    "df_cm = pd.DataFrame(cf_matrix,range(0,2),range(0,2))\n",
    "sn.heatmap(df_cm, annot=True)"
   ]
  },
  {
   "cell_type": "markdown",
   "metadata": {},
   "source": [
    "#### precision recall and f1-score values"
   ]
  },
  {
   "cell_type": "code",
   "execution_count": 73,
   "metadata": {},
   "outputs": [
    {
     "name": "stdout",
     "output_type": "stream",
     "text": [
      "precision of the Logistic Regression for bag of words is 0.9167949847188056\n",
      "recall of the Logistic Regression for bag of words is 0.9219973999133304\n",
      "fscore of the Logistic Regression for bag of words is 0.915896145033496\n"
     ]
    }
   ],
   "source": [
    "from sklearn.metrics import precision_recall_fscore_support\n",
    "scr=precision_recall_fscore_support(y_test, pred, average='weighted')\n",
    "print(\"precision of the Logistic Regression for bag of words is\",scr[0])\n",
    "print(\"recall of the Logistic Regression for bag of words is\",scr[1])\n",
    "print(\"fscore of the Logistic Regression for bag of words is\",scr[2])"
   ]
  },
  {
   "cell_type": "markdown",
   "metadata": {},
   "source": [
    "#### confusion matrix on train dataset"
   ]
  },
  {
   "cell_type": "code",
   "execution_count": 74,
   "metadata": {},
   "outputs": [
    {
     "name": "stdout",
     "output_type": "stream",
     "text": [
      "\n",
      "The accuracy of optimal Logistic Regression classifier for C = 1 is 95.438571%\n"
     ]
    }
   ],
   "source": [
    "Lr1_optimal = LogisticRegression(C=optimal_c,penalty='l1')\n",
    "Lr1_optimal.fit(final_counts, y_tr)\n",
    "pred = Lr1_optimal.predict(final_counts)\n",
    "acc = accuracy_score(y_tr, pred) * 100\n",
    "print('\\nThe accuracy of optimal Logistic Regression classifier for C = %d is %f%%' % (optimal_c, acc))"
   ]
  },
  {
   "cell_type": "code",
   "execution_count": 75,
   "metadata": {},
   "outputs": [
    {
     "data": {
      "text/plain": [
       "<matplotlib.axes._subplots.AxesSubplot at 0x7f4b85f555f8>"
      ]
     },
     "execution_count": 75,
     "metadata": {},
     "output_type": "execute_result"
    },
    {
     "data": {
      "image/png": "[encoded data removed]",
      "text/plain": [
       "<Figure size 432x288 with 2 Axes>"
      ]
     },
     "metadata": {},
     "output_type": "display_data"
    }
   ],
   "source": [
    "from sklearn.metrics import confusion_matrix\n",
    "import seaborn as sn\n",
    "import pandas as pd\n",
    "import matplotlib.pyplot as plt\n",
    "cf_matrix=confusion_matrix(y_tr, pred)\n",
    "df_cm = pd.DataFrame(cf_matrix,range(0,2),range(0,2))\n",
    "sn.heatmap(df_cm, annot=True)"
   ]
  },
  {
   "cell_type": "markdown",
   "metadata": {},
   "source": [
    "#### sparsity check"
   ]
  },
  {
   "cell_type": "code",
   "execution_count": 76,
   "metadata": {},
   "outputs": [
    {
     "name": "stdout",
     "output_type": "stream",
     "text": [
      "Number of non zero elements obtained using L1 regularizer are:\n",
      " 3810\n",
      "\n",
      "Number of non zero elements obtained using L2 regularizer are:\n",
      " 31373\n"
     ]
    }
   ],
   "source": [
    "print(\"Number of non zero elements obtained using L1 regularizer are:\\n\",np.count_nonzero(Lr1_optimal.coef_))\n",
    "print(\"\\nNumber of non zero elements obtained using L2 regularizer are:\\n\",np.count_nonzero(Lr2_optimal.coef_))"
   ]
  },
  {
   "cell_type": "markdown",
   "metadata": {},
   "source": [
    "#### Important features"
   ]
  },
  {
   "cell_type": "code",
   "execution_count": 77,
   "metadata": {},
   "outputs": [
    {
     "name": "stdout",
     "output_type": "stream",
     "text": [
      "Top features to classify negative class labels are:\n",
      "\n",
      "[['worst' 'disappoint' 'terribl' 'aw' 'bland' 'horribl' 'unfortun'\n",
      "  'return' 'threw' 'stale' 'tasteless']] \n",
      "\n",
      "Top features to classify positive class labels are:\n",
      "\n",
      "[['amaz' 'wonder' 'favorit' 'good' 'nice' 'excel' 'perfect' 'delici'\n",
      "  'love' 'best' 'great']] \n",
      "\n"
     ]
    }
   ],
   "source": [
    "imp_fec = Lr2_optimal.coef_.argsort()\n",
    "print(\"Top features to classify negative class labels are:\\n\")\n",
    "print(np.take(tf_idf_vect.get_feature_names(), imp_fec[:,:11]),\"\\n\")\n",
    "print(\"Top features to classify positive class labels are:\\n\")\n",
    "print(np.take(tf_idf_vect.get_feature_names(), imp_fec[:,-11:]),\"\\n\")"
   ]
  },
  {
   "cell_type": "markdown",
   "metadata": {},
   "source": [
    "#### multicollinearity check"
   ]
  },
  {
   "cell_type": "code",
   "execution_count": 79,
   "metadata": {},
   "outputs": [
    {
     "name": "stdout",
     "output_type": "stream",
     "text": [
      "Spearman rank between the original weights and noise weights is: 0.9998269361218893\n"
     ]
    }
   ],
   "source": [
    "from scipy import stats\n",
    "from scipy.sparse import csc_matrix\n",
    "original_weights = Lr2_optimal.coef_.ravel()\n",
    "#noise_data=final_counts.todense()+np.random.normal(0, 0.01)\n",
    "row,col=final_tf_idf.nonzero()\n",
    "data=np.zeros(final_tf_idf.count_nonzero())+np.random.normal(0.001, 0.01)\n",
    "noise_data=csc_matrix((data, (row, col)), shape=final_tf_idf.shape)\n",
    "Lr2_optimal.fit(noise_data,y_tr)\n",
    "noise_weights = Lr2_optimal.coef_.ravel()\n",
    "SpearmanrResult=stats.spearmanr(noise_weights,original_weights)\n",
    "print(\"Spearman rank between the original weights and noise weights is:\",SpearmanrResult[0])"
   ]
  },
  {
   "cell_type": "markdown",
   "metadata": {},
   "source": [
    "# RandonSearchCV"
   ]
  },
  {
   "cell_type": "code",
   "execution_count": 80,
   "metadata": {},
   "outputs": [
    {
     "name": "stdout",
     "output_type": "stream",
     "text": [
      "\n",
      "The optimal number of C is 1.\n"
     ]
    },
    {
     "data": {
      "image/png": "[encoded data removed]",
      "text/plain": [
       "<Figure size 432x288 with 1 Axes>"
      ]
     },
     "metadata": {},
     "output_type": "display_data"
    },
    {
     "name": "stdout",
     "output_type": "stream",
     "text": [
      "the misclassification error for each C value is :  [0.062 0.062 0.042 0.048 0.072]\n"
     ]
    }
   ],
   "source": [
    "from sklearn.model_selection import RandomizedSearchCV\n",
    "C_val=[10**-4,10**-2, 10**0, 10**2 , 10**4]\n",
    "tuned_parameters = {'C': C_val}\n",
    "lr = LogisticRegression(penalty='l2')\n",
    "model = RandomizedSearchCV(lr,tuned_parameters, scoring = 'f1',n_iter=5, cv=3,return_train_score=True)\n",
    "model.fit(final_tf_idf, y_tr)\n",
    "result=pd.DataFrame(model.cv_results_) \n",
    "MSE_test=[1-i for i in result['mean_test_score']]\n",
    "MSE_train=[1-i for i in result['mean_train_score']]\n",
    "optimal_c = C_val[MSE_test.index(min(MSE_test))]\n",
    "print('\\nThe optimal number of C is %d.' % optimal_c)\n",
    "vals = [str(x) for x in C_val]\n",
    "plt.plot(vals, MSE_test,label=\"test error\")\n",
    "plt.plot(vals, MSE_train,label=\"train error\")\n",
    "for xy in zip(vals, np.round(MSE_test,2)):\n",
    "    plt.annotate('(%s, %s)' % xy, xy=xy, textcoords='data')\n",
    "for xy in zip(vals, np.round(MSE_train,2)):\n",
    "    plt.annotate('(%s, %s)' % xy, xy=xy, textcoords='data')\n",
    "plt.legend()\n",
    "plt.xlabel('Value of C')\n",
    "plt.ylabel('Misclassification Error')\n",
    "plt.show()\n",
    "print(\"the misclassification error for each C value is : \", np.round(MSE_test,3))"
   ]
  },
  {
   "cell_type": "code",
   "execution_count": 81,
   "metadata": {},
   "outputs": [
    {
     "name": "stdout",
     "output_type": "stream",
     "text": [
      "\n",
      "The accuracy of optimal Logistic Regression classifier for C = 1 is 91.876396%\n"
     ]
    }
   ],
   "source": [
    "Lr2_optimal = LogisticRegression(C=optimal_c,penalty='l2')\n",
    "Lr2_optimal.fit(final_tf_idf, y_tr)\n",
    "pred = Lr2_optimal.predict(final_test)\n",
    "acc = accuracy_score(y_test, pred) * 100\n",
    "print('\\nThe accuracy of optimal Logistic Regression classifier for C = %d is %f%%' % (optimal_c, acc))"
   ]
  },
  {
   "cell_type": "markdown",
   "metadata": {},
   "source": [
    "#### Confusion matrix for test dataset"
   ]
  },
  {
   "cell_type": "code",
   "execution_count": 82,
   "metadata": {},
   "outputs": [
    {
     "data": {
      "text/plain": [
       "<matplotlib.axes._subplots.AxesSubplot at 0x7f4b845a7198>"
      ]
     },
     "execution_count": 82,
     "metadata": {},
     "output_type": "execute_result"
    },
    {
     "data": {
      "image/png": "[encoded data removed]",
      "text/plain": [
       "<Figure size 432x288 with 2 Axes>"
      ]
     },
     "metadata": {},
     "output_type": "display_data"
    }
   ],
   "source": [
    "from sklearn.metrics import confusion_matrix\n",
    "import seaborn as sn\n",
    "import pandas as pd\n",
    "import matplotlib.pyplot as plt\n",
    "cf_matrix=confusion_matrix(y_test, pred)\n",
    "df_cm = pd.DataFrame(cf_matrix,range(0,2),range(0,2))\n",
    "sn.heatmap(df_cm, annot=True)"
   ]
  },
  {
   "cell_type": "markdown",
   "metadata": {},
   "source": [
    "#### precision recall and f1-score values"
   ]
  },
  {
   "cell_type": "code",
   "execution_count": 83,
   "metadata": {},
   "outputs": [
    {
     "name": "stdout",
     "output_type": "stream",
     "text": [
      "precision of the Logistic Regression for bag of words is 0.9140267039634165\n",
      "recall of the Logistic Regression for bag of words is 0.9187639587986266\n",
      "fscore of the Logistic Regression for bag of words is 0.9097883480072233\n"
     ]
    }
   ],
   "source": [
    "from sklearn.metrics import precision_recall_fscore_support\n",
    "scr=precision_recall_fscore_support(y_test, pred, average='weighted')\n",
    "print(\"precision of the Logistic Regression for bag of words is\",scr[0])\n",
    "print(\"recall of the Logistic Regression for bag of words is\",scr[1])\n",
    "print(\"fscore of the Logistic Regression for bag of words is\",scr[2])"
   ]
  },
  {
   "cell_type": "markdown",
   "metadata": {},
   "source": [
    "#### Confusion matrix for train dataset"
   ]
  },
  {
   "cell_type": "code",
   "execution_count": 84,
   "metadata": {},
   "outputs": [
    {
     "name": "stdout",
     "output_type": "stream",
     "text": [
      "\n",
      "The accuracy of optimal Logistic Regression classifier for C = 1 is 93.752857%\n"
     ]
    }
   ],
   "source": [
    "Lr2_optimal = LogisticRegression(C=optimal_c,penalty='l2')\n",
    "Lr2_optimal.fit(final_tf_idf, y_tr)\n",
    "pred = Lr2_optimal.predict(final_tf_idf)\n",
    "acc = accuracy_score(y_tr, pred) * 100\n",
    "print('\\nThe accuracy of optimal Logistic Regression classifier for C = %d is %f%%' % (optimal_c, acc))"
   ]
  },
  {
   "cell_type": "code",
   "execution_count": 85,
   "metadata": {},
   "outputs": [
    {
     "data": {
      "text/plain": [
       "<matplotlib.axes._subplots.AxesSubplot at 0x7f4b89e924a8>"
      ]
     },
     "execution_count": 85,
     "metadata": {},
     "output_type": "execute_result"
    },
    {
     "data": {
      "image/png": "[encoded data removed]",
      "text/plain": [
       "<Figure size 432x288 with 2 Axes>"
      ]
     },
     "metadata": {},
     "output_type": "display_data"
    }
   ],
   "source": [
    "from sklearn.metrics import confusion_matrix\n",
    "import seaborn as sn\n",
    "import pandas as pd\n",
    "import matplotlib.pyplot as plt\n",
    "cf_matrix=confusion_matrix(y_tr, pred)\n",
    "df_cm = pd.DataFrame(cf_matrix,range(0,2),range(0,2))\n",
    "sn.heatmap(df_cm, annot=True)"
   ]
  },
  {
   "cell_type": "markdown",
   "metadata": {},
   "source": [
    "# Word to Vec"
   ]
  },
  {
   "cell_type": "code",
   "execution_count": 86,
   "metadata": {},
   "outputs": [],
   "source": [
    "list_of_sent=[]\n",
    "for sent in X_tr:\n",
    "    list_of_sent.append(sent.split())"
   ]
  },
  {
   "cell_type": "code",
   "execution_count": 87,
   "metadata": {},
   "outputs": [],
   "source": [
    "list_of_test=[]\n",
    "for sent in X_test:\n",
    "    list_of_test.append(sent.split())"
   ]
  },
  {
   "cell_type": "code",
   "execution_count": 90,
   "metadata": {},
   "outputs": [
    {
     "name": "stdout",
     "output_type": "stream",
     "text": [
      "witti littl book make son laugh loud recit car drive along alway sing refrain hes learn whale india droop love new word book introduc silli classic book will bet son still abl recit memori colleg\n",
      "*****************************************************************\n",
      "['witti', 'littl', 'book', 'make', 'son', 'laugh', 'loud', 'recit', 'car', 'drive', 'along', 'alway', 'sing', 'refrain', 'hes', 'learn', 'whale', 'india', 'droop', 'love', 'new', 'word', 'book', 'introduc', 'silli', 'classic', 'book', 'will', 'bet', 'son', 'still', 'abl', 'recit', 'memori', 'colleg']\n"
     ]
    }
   ],
   "source": [
    "print(X_tr.iloc[0])\n",
    "print(\"*****************************************************************\")\n",
    "print(list_of_sent[0])"
   ]
  },
  {
   "cell_type": "code",
   "execution_count": 91,
   "metadata": {},
   "outputs": [
    {
     "name": "stdout",
     "output_type": "stream",
     "text": [
      "great price wonder creami resin flavor toast skillet microwav add salad cooki anyth freez well keep frige hand eat one highest nut protein\n",
      "*****************************************************************\n",
      "['great', 'price', 'wonder', 'creami', 'resin', 'flavor', 'toast', 'skillet', 'microwav', 'add', 'salad', 'cooki', 'anyth', 'freez', 'well', 'keep', 'frige', 'hand', 'eat', 'one', 'highest', 'nut', 'protein']\n"
     ]
    }
   ],
   "source": [
    "print(X_test.iloc[0])\n",
    "print(\"*****************************************************************\")\n",
    "print(list_of_test[0])"
   ]
  },
  {
   "cell_type": "code",
   "execution_count": 92,
   "metadata": {},
   "outputs": [],
   "source": [
    "import gensim\n",
    "w2v_model=gensim.models.Word2Vec(list_of_sent,min_count=5,size=50, workers=4)\n",
    "w2v_words = list(w2v_model.wv.vocab)"
   ]
  },
  {
   "cell_type": "code",
   "execution_count": 93,
   "metadata": {},
   "outputs": [
    {
     "name": "stdout",
     "output_type": "stream",
     "text": [
      "number of words that occured minimum 5 times  10700\n",
      "sample words  ['witti', 'littl', 'book', 'make', 'son', 'laugh', 'loud', 'car', 'drive', 'along', 'alway', 'sing', 'refrain', 'hes', 'learn', 'whale', 'india', 'droop', 'love', 'new', 'word', 'introduc', 'silli', 'classic', 'will', 'bet', 'still', 'abl', 'memori', 'colleg', 'rememb', 'see', 'show', 'air', 'televis', 'year', 'ago', 'child', 'sister', 'later', 'bought', 'day', 'thirti', 'someth', 'use', 'seri', 'song', 'student', 'teach', 'preschool']\n"
     ]
    }
   ],
   "source": [
    "print(\"number of words that occured minimum 5 times \",len(w2v_words))\n",
    "print(\"sample words \", w2v_words[0:50])"
   ]
  },
  {
   "cell_type": "code",
   "execution_count": 94,
   "metadata": {},
   "outputs": [
    {
     "name": "stderr",
     "output_type": "stream",
     "text": [
      "/home/gateway/home/gateway/anaconda/lib/python3.6/site-packages/gensim/matutils.py:737: FutureWarning: Conversion of the second argument of issubdtype from `int` to `np.signedinteger` is deprecated. In future, it will be treated as `np.int64 == np.dtype(int).type`.\n",
      "  if np.issubdtype(vec.dtype, np.int):\n"
     ]
    },
    {
     "data": {
      "text/plain": [
       "[('blog', 0.8257500529289246),\n",
       " ('articl', 0.8075904250144958),\n",
       " ('page', 0.7744689583778381),\n",
       " ('author', 0.7693332433700562),\n",
       " ('magazin', 0.7661412358283997),\n",
       " ('group', 0.7538758516311646),\n",
       " ('inform', 0.7510205507278442),\n",
       " ('publish', 0.7335245609283447),\n",
       " ('data', 0.7296908497810364),\n",
       " ('info', 0.7278462648391724)]"
      ]
     },
     "execution_count": 94,
     "metadata": {},
     "output_type": "execute_result"
    }
   ],
   "source": [
    "w2v_model.wv.most_similar('book')"
   ]
  },
  {
   "cell_type": "code",
   "execution_count": 98,
   "metadata": {},
   "outputs": [
    {
     "name": "stderr",
     "output_type": "stream",
     "text": [
      "/home/gateway/home/gateway/anaconda/lib/python3.6/site-packages/gensim/matutils.py:737: FutureWarning: Conversion of the second argument of issubdtype from `int` to `np.signedinteger` is deprecated. In future, it will be treated as `np.int64 == np.dtype(int).type`.\n",
      "  if np.issubdtype(vec.dtype, np.int):\n"
     ]
    },
    {
     "data": {
      "text/plain": [
       "[('excel', 0.8182569146156311),\n",
       " ('terrif', 0.814024806022644),\n",
       " ('good', 0.813900351524353),\n",
       " ('fantast', 0.8112138509750366),\n",
       " ('wonder', 0.7849206924438477),\n",
       " ('perfect', 0.754715621471405),\n",
       " ('awesom', 0.7522028684616089),\n",
       " ('nice', 0.7235707640647888),\n",
       " ('yummi', 0.6346531510353088),\n",
       " ('fabul', 0.6269022226333618)]"
      ]
     },
     "execution_count": 98,
     "metadata": {},
     "output_type": "execute_result"
    }
   ],
   "source": [
    "w2v_model.wv.most_similar('great')"
   ]
  },
  {
   "cell_type": "markdown",
   "metadata": {},
   "source": [
    "# Avg word2Vec"
   ]
  },
  {
   "cell_type": "code",
   "execution_count": 99,
   "metadata": {},
   "outputs": [],
   "source": [
    "sent_vectors = [];\n",
    "for sent in list_of_sent: \n",
    "    sent_vec = np.zeros(50)\n",
    "    cnt_words =0; \n",
    "    for word in sent: \n",
    "        if word in w2v_words:\n",
    "            vec = w2v_model.wv[word]\n",
    "            sent_vec += vec\n",
    "            cnt_words += 1\n",
    "    if cnt_words != 0:\n",
    "        sent_vec /= cnt_words\n",
    "    sent_vectors.append(sent_vec)"
   ]
  },
  {
   "cell_type": "code",
   "execution_count": 100,
   "metadata": {},
   "outputs": [],
   "source": [
    "test_vectors = [];\n",
    "for sent in list_of_test: \n",
    "    sent_vec = np.zeros(50)\n",
    "    cnt_words =0;\n",
    "    for word in sent:\n",
    "        if word in w2v_words:\n",
    "            vec = w2v_model.wv[word]\n",
    "            sent_vec += vec\n",
    "            cnt_words += 1\n",
    "    if cnt_words != 0:\n",
    "        sent_vec /= cnt_words\n",
    "    test_vectors.append(sent_vec)"
   ]
  },
  {
   "cell_type": "code",
   "execution_count": 101,
   "metadata": {},
   "outputs": [],
   "source": [
    "df = pd.DataFrame(sent_vectors)\n",
    "sent_vectors=df.fillna(0)\n",
    "df = pd.DataFrame(test_vectors)\n",
    "test_vectors=df.fillna(0)"
   ]
  },
  {
   "cell_type": "code",
   "execution_count": 104,
   "metadata": {},
   "outputs": [],
   "source": [
    "from sklearn.preprocessing import StandardScaler\n",
    "scaler = StandardScaler()\n",
    "sent_vectors = scaler.fit_transform(sent_vectors)\n",
    "test_vectors = scaler.transform(test_vectors)"
   ]
  },
  {
   "cell_type": "code",
   "execution_count": 105,
   "metadata": {
    "scrolled": false
   },
   "outputs": [
    {
     "name": "stdout",
     "output_type": "stream",
     "text": [
      "\n",
      "The optimal number of C is 100.\n"
     ]
    },
    {
     "data": {
      "image/png": "[encoded data removed]",
      "text/plain": [
       "<Figure size 432x288 with 1 Axes>"
      ]
     },
     "metadata": {},
     "output_type": "display_data"
    },
    {
     "name": "stdout",
     "output_type": "stream",
     "text": [
      "the misclassification error for each C value is :  [0.055 0.051 0.051 0.051 0.051]\n"
     ]
    }
   ],
   "source": [
    "C_val=[10**-4, 10**-2, 10**0, 10**2, 10**4]\n",
    "tuned_parameters={'C': C_val}\n",
    "lr = LogisticRegression(penalty='l2')\n",
    "model = GridSearchCV(lr, tuned_parameters, scoring = 'f1', cv=3,return_train_score=True)\n",
    "model.fit(sent_vectors, y_tr)\n",
    "result=pd.DataFrame(model.cv_results_) \n",
    "MSE_test=[1-i for i in result['mean_test_score']]\n",
    "MSE_train=[1-i for i in result['mean_train_score']]\n",
    "optimal_c = C_val[MSE_test.index(min(MSE_test))]\n",
    "print('\\nThe optimal number of C is %d.' % optimal_c)\n",
    "vals = [str(x) for x in C_val]\n",
    "plt.plot(vals, MSE_test,label=\"test error\")\n",
    "plt.plot(vals, MSE_train,label=\"train error\")\n",
    "for xy in zip(vals, np.round(MSE_test,2)):\n",
    "    plt.annotate('(%s, %s)' % xy, xy=xy, textcoords='data')\n",
    "for xy in zip(vals, np.round(MSE_train,2)):\n",
    "    plt.annotate('(%s, %s)' % xy, xy=xy, textcoords='data')\n",
    "plt.legend()\n",
    "plt.xlabel('Value of C')\n",
    "plt.ylabel('Misclassification Error')\n",
    "plt.show()\n",
    "print(\"the misclassification error for each C value is : \", np.round(MSE_test,3))"
   ]
  },
  {
   "cell_type": "code",
   "execution_count": 106,
   "metadata": {},
   "outputs": [
    {
     "name": "stdout",
     "output_type": "stream",
     "text": [
      "\n",
      "The accuracy of optimal Logistic Regression classifier for C = 100 is 89.496317%\n"
     ]
    }
   ],
   "source": [
    "Lr2_optimal = LogisticRegression(C=optimal_c,penalty='l2')\n",
    "Lr2_optimal.fit(sent_vectors, y_tr)\n",
    "pred = Lr2_optimal.predict(test_vectors)\n",
    "acc = accuracy_score(y_test, pred) * 100\n",
    "print('\\nThe accuracy of optimal Logistic Regression classifier for C = %d is %f%%' % (optimal_c, acc))"
   ]
  },
  {
   "cell_type": "markdown",
   "metadata": {},
   "source": [
    "#### confusion matrix on test dataset"
   ]
  },
  {
   "cell_type": "code",
   "execution_count": 107,
   "metadata": {},
   "outputs": [
    {
     "data": {
      "text/plain": [
       "<matplotlib.axes._subplots.AxesSubplot at 0x7f4b54e8ba90>"
      ]
     },
     "execution_count": 107,
     "metadata": {},
     "output_type": "execute_result"
    },
    {
     "data": {
      "image/png": "[encoded data removed]",
      "text/plain": [
       "<Figure size 432x288 with 2 Axes>"
      ]
     },
     "metadata": {},
     "output_type": "display_data"
    }
   ],
   "source": [
    "from sklearn.metrics import confusion_matrix\n",
    "import seaborn as sn\n",
    "import pandas as pd\n",
    "import matplotlib.pyplot as plt\n",
    "cf_matrix=confusion_matrix(y_test, pred)\n",
    "df_cm = pd.DataFrame(cf_matrix,range(0,2),range(0,2))\n",
    "sn.heatmap(df_cm, annot=True)"
   ]
  },
  {
   "cell_type": "markdown",
   "metadata": {},
   "source": [
    "#### precision recall and f1-score values"
   ]
  },
  {
   "cell_type": "code",
   "execution_count": 108,
   "metadata": {},
   "outputs": [
    {
     "name": "stdout",
     "output_type": "stream",
     "text": [
      "precision of the Logistic Regression for bag of words is 0.8828403369864743\n",
      "recall of the Logistic Regression for bag of words is 0.8949631654388479\n",
      "fscore of the Logistic Regression for bag of words is 0.8801644877516911\n"
     ]
    }
   ],
   "source": [
    "from sklearn.metrics import precision_recall_fscore_support\n",
    "scr=precision_recall_fscore_support(y_test, pred, average='weighted')\n",
    "print(\"precision of the Logistic Regression for bag of words is\",scr[0])\n",
    "print(\"recall of the Logistic Regression for bag of words is\",scr[1])\n",
    "print(\"fscore of the Logistic Regression for bag of words is\",scr[2])"
   ]
  },
  {
   "cell_type": "markdown",
   "metadata": {},
   "source": [
    "#### confusion matrix on train dataset"
   ]
  },
  {
   "cell_type": "code",
   "execution_count": 110,
   "metadata": {},
   "outputs": [
    {
     "name": "stdout",
     "output_type": "stream",
     "text": [
      "\n",
      "The accuracy of optimal Logistic Regression classifier for C = 100 is 90.747143%\n"
     ]
    }
   ],
   "source": [
    "Lr2_optimal = LogisticRegression(C=optimal_c,penalty='l2')\n",
    "Lr2_optimal.fit(sent_vectors, y_tr)\n",
    "pred = Lr2_optimal.predict(sent_vectors)\n",
    "acc = accuracy_score(y_tr, pred) * 100\n",
    "print('\\nThe accuracy of optimal Logistic Regression classifier for C = %d is %f%%' % (optimal_c, acc))"
   ]
  },
  {
   "cell_type": "code",
   "execution_count": 111,
   "metadata": {},
   "outputs": [
    {
     "data": {
      "text/plain": [
       "<matplotlib.axes._subplots.AxesSubplot at 0x7f4b55612c18>"
      ]
     },
     "execution_count": 111,
     "metadata": {},
     "output_type": "execute_result"
    },
    {
     "data": {
      "image/png": "[encoded data removed]",
      "text/plain": [
       "<Figure size 432x288 with 2 Axes>"
      ]
     },
     "metadata": {},
     "output_type": "display_data"
    }
   ],
   "source": [
    "from sklearn.metrics import confusion_matrix\n",
    "import seaborn as sn\n",
    "import pandas as pd\n",
    "import matplotlib.pyplot as plt\n",
    "cf_matrix=confusion_matrix(y_tr, pred)\n",
    "df_cm = pd.DataFrame(cf_matrix,range(0,2),range(0,2))\n",
    "sn.heatmap(df_cm, annot=True)"
   ]
  },
  {
   "cell_type": "code",
   "execution_count": 112,
   "metadata": {},
   "outputs": [
    {
     "name": "stdout",
     "output_type": "stream",
     "text": [
      "\n",
      "The optimal number of C is 100.\n"
     ]
    },
    {
     "data": {
      "image/png": "[encoded data removed]",
      "text/plain": [
       "<Figure size 432x288 with 1 Axes>"
      ]
     },
     "metadata": {},
     "output_type": "display_data"
    },
    {
     "name": "stdout",
     "output_type": "stream",
     "text": [
      "the misclassification error for each C value is :  [0.062 0.052 0.051 0.051 0.051]\n"
     ]
    }
   ],
   "source": [
    "C_val=[10**-4, 10**-2, 10**0, 10**2, 10**4]\n",
    "tuned_parameters={'C': C_val}\n",
    "lr = LogisticRegression(penalty='l1')\n",
    "model = GridSearchCV(lr, tuned_parameters, scoring = 'f1', cv=3,return_train_score=True)\n",
    "model.fit(sent_vectors, y_tr)\n",
    "result=pd.DataFrame(model.cv_results_) \n",
    "MSE_test=[1-i for i in result['mean_test_score']]\n",
    "MSE_train=[1-i for i in result['mean_train_score']]\n",
    "optimal_c = C_val[MSE_test.index(min(MSE_test))]\n",
    "print('\\nThe optimal number of C is %d.' % optimal_c)\n",
    "vals = [str(x) for x in C_val]\n",
    "plt.plot(vals, MSE_test,label=\"test error\")\n",
    "plt.plot(vals, MSE_train,label=\"train error\")\n",
    "for xy in zip(vals, np.round(MSE_test,2)):\n",
    "    plt.annotate('(%s, %s)' % xy, xy=xy, textcoords='data')\n",
    "for xy in zip(vals, np.round(MSE_train,2)):\n",
    "    plt.annotate('(%s, %s)' % xy, xy=xy, textcoords='data')\n",
    "plt.legend()\n",
    "plt.xlabel('Value of C')\n",
    "plt.ylabel('Misclassification Error')\n",
    "plt.show()\n",
    "print(\"the misclassification error for each C value is : \", np.round(MSE_test,3))"
   ]
  },
  {
   "cell_type": "code",
   "execution_count": 113,
   "metadata": {},
   "outputs": [
    {
     "name": "stdout",
     "output_type": "stream",
     "text": [
      "\n",
      "The accuracy of optimal Logistic Regression classifier for C = 100 is 89.496317%\n"
     ]
    }
   ],
   "source": [
    "Lr1_optimal = LogisticRegression(C=optimal_c,penalty='l1')\n",
    "Lr1_optimal.fit(sent_vectors, y_tr)\n",
    "pred = Lr1_optimal.predict(test_vectors)\n",
    "acc = accuracy_score(y_test, pred) * 100\n",
    "print('\\nThe accuracy of optimal Logistic Regression classifier for C = %d is %f%%' % (optimal_c, acc))"
   ]
  },
  {
   "cell_type": "markdown",
   "metadata": {},
   "source": [
    "#### confusion matrix on test dataset"
   ]
  },
  {
   "cell_type": "code",
   "execution_count": 114,
   "metadata": {},
   "outputs": [
    {
     "data": {
      "text/plain": [
       "<matplotlib.axes._subplots.AxesSubplot at 0x7f4b5552e240>"
      ]
     },
     "execution_count": 114,
     "metadata": {},
     "output_type": "execute_result"
    },
    {
     "data": {
      "image/png": "[encoded data removed]",
      "text/plain": [
       "<Figure size 432x288 with 2 Axes>"
      ]
     },
     "metadata": {},
     "output_type": "display_data"
    }
   ],
   "source": [
    "from sklearn.metrics import confusion_matrix\n",
    "import seaborn as sn\n",
    "import pandas as pd\n",
    "import matplotlib.pyplot as plt\n",
    "cf_matrix=confusion_matrix(y_test, pred)\n",
    "df_cm = pd.DataFrame(cf_matrix,range(0,2),range(0,2))\n",
    "sn.heatmap(df_cm, annot=True)"
   ]
  },
  {
   "cell_type": "markdown",
   "metadata": {},
   "source": [
    "#### precision recall and f1-score values"
   ]
  },
  {
   "cell_type": "code",
   "execution_count": 115,
   "metadata": {},
   "outputs": [
    {
     "name": "stdout",
     "output_type": "stream",
     "text": [
      "precision of the Logistic Regression for bag of words is 0.8828403369864743\n",
      "recall of the Logistic Regression for bag of words is 0.8949631654388479\n",
      "fscore of the Logistic Regression for bag of words is 0.8801644877516911\n"
     ]
    }
   ],
   "source": [
    "from sklearn.metrics import precision_recall_fscore_support\n",
    "scr=precision_recall_fscore_support(y_test, pred, average='weighted')\n",
    "print(\"precision of the Logistic Regression for bag of words is\",scr[0])\n",
    "print(\"recall of the Logistic Regression for bag of words is\",scr[1])\n",
    "print(\"fscore of the Logistic Regression for bag of words is\",scr[2])"
   ]
  },
  {
   "cell_type": "markdown",
   "metadata": {},
   "source": [
    "#### confusion matrix on train dataset"
   ]
  },
  {
   "cell_type": "code",
   "execution_count": 116,
   "metadata": {},
   "outputs": [
    {
     "name": "stdout",
     "output_type": "stream",
     "text": [
      "\n",
      "The accuracy of optimal Logistic Regression classifier for C = 100 is 97.885714%\n"
     ]
    }
   ],
   "source": [
    "Lr2_optimal = LogisticRegression(C=optimal_c,penalty='l2')\n",
    "Lr2_optimal.fit(final_tf_idf, y_tr)\n",
    "pred = Lr2_optimal.predict(final_tf_idf)\n",
    "acc = accuracy_score(y_tr, pred) * 100\n",
    "print('\\nThe accuracy of optimal Logistic Regression classifier for C = %d is %f%%' % (optimal_c, acc))"
   ]
  },
  {
   "cell_type": "code",
   "execution_count": 118,
   "metadata": {},
   "outputs": [
    {
     "data": {
      "text/plain": [
       "<matplotlib.axes._subplots.AxesSubplot at 0x7f4b555fa5f8>"
      ]
     },
     "execution_count": 118,
     "metadata": {},
     "output_type": "execute_result"
    },
    {
     "data": {
      "image/png": "[encoded data removed]",
      "text/plain": [
       "<Figure size 432x288 with 2 Axes>"
      ]
     },
     "metadata": {},
     "output_type": "display_data"
    }
   ],
   "source": [
    "from sklearn.metrics import confusion_matrix\n",
    "import seaborn as sn\n",
    "import pandas as pd\n",
    "import matplotlib.pyplot as plt\n",
    "cf_matrix=confusion_matrix(y_tr, pred)\n",
    "df_cm = pd.DataFrame(cf_matrix,range(0,2),range(0,2))\n",
    "sn.heatmap(df_cm, annot=True)"
   ]
  },
  {
   "cell_type": "markdown",
   "metadata": {},
   "source": [
    "#### sparsity check"
   ]
  },
  {
   "cell_type": "code",
   "execution_count": 120,
   "metadata": {},
   "outputs": [
    {
     "name": "stdout",
     "output_type": "stream",
     "text": [
      "Total number of non_zero features in optimal l1 norm are 50\n",
      "Total number of non_zero features in optimal l2 norm are 31373\n"
     ]
    }
   ],
   "source": [
    "print(\"Total number of non_zero features in optimal l1 norm are\",np.count_nonzero(Lr1_optimal.coef_))\n",
    "print(\"Total number of non_zero features in optimal l2 norm are\",np.count_nonzero(Lr2_optimal.coef_))"
   ]
  },
  {
   "cell_type": "markdown",
   "metadata": {},
   "source": [
    "#### multicollinearity check"
   ]
  },
  {
   "cell_type": "code",
   "execution_count": 122,
   "metadata": {},
   "outputs": [
    {
     "name": "stdout",
     "output_type": "stream",
     "text": [
      "Spearman rank between the original weights and noise weights is: 0.9999999999999999\n"
     ]
    }
   ],
   "source": [
    "from scipy import stats\n",
    "original_weights = Lr2_optimal.coef_.ravel()\n",
    "noise_data=sent_vectors+np.random.normal(0.001, 0.01)\n",
    "Lr2_optimal.fit(noise_data,y_tr)\n",
    "noise_weights = Lr2_optimal.coef_.ravel()\n",
    "SpearmanrResult=stats.spearmanr(noise_weights,original_weights)\n",
    "print(\"Spearman rank between the original weights and noise weights is:\",SpearmanrResult[0])"
   ]
  },
  {
   "cell_type": "markdown",
   "metadata": {},
   "source": [
    "# RandonSearchCV"
   ]
  },
  {
   "cell_type": "code",
   "execution_count": 123,
   "metadata": {},
   "outputs": [
    {
     "name": "stdout",
     "output_type": "stream",
     "text": [
      "\n",
      "The optimal number of C is 100.\n"
     ]
    },
    {
     "data": {
      "image/png": "[encoded data removed]",
      "text/plain": [
       "<Figure size 432x288 with 1 Axes>"
      ]
     },
     "metadata": {},
     "output_type": "display_data"
    },
    {
     "name": "stdout",
     "output_type": "stream",
     "text": [
      "the misclassification error for each C value is :  [0.055 0.051 0.051 0.051 0.051]\n"
     ]
    }
   ],
   "source": [
    "from sklearn.model_selection import RandomizedSearchCV\n",
    "C_val=[10**-4,10**-2, 10**0, 10**2 , 10**4]\n",
    "tuned_parameters = {'C': C_val}\n",
    "lr = LogisticRegression(penalty='l2')\n",
    "model = RandomizedSearchCV(lr,tuned_parameters, scoring = 'f1',n_iter=5, cv=3,return_train_score=True)\n",
    "model.fit(sent_vectors, y_tr)\n",
    "result=pd.DataFrame(model.cv_results_) \n",
    "MSE_test=[1-i for i in result['mean_test_score']]\n",
    "MSE_train=[1-i for i in result['mean_train_score']]\n",
    "optimal_c = C_val[MSE_test.index(min(MSE_test))]\n",
    "print('\\nThe optimal number of C is %d.' % optimal_c)\n",
    "vals = [str(x) for x in C_val]\n",
    "plt.plot(vals, MSE_test,label=\"test error\")\n",
    "plt.plot(vals, MSE_train,label=\"train error\")\n",
    "for xy in zip(vals, np.round(MSE_test,2)):\n",
    "    plt.annotate('(%s, %s)' % xy, xy=xy, textcoords='data')\n",
    "for xy in zip(vals, np.round(MSE_train,2)):\n",
    "    plt.annotate('(%s, %s)' % xy, xy=xy, textcoords='data')\n",
    "plt.legend()\n",
    "plt.xlabel('Value of C')\n",
    "plt.ylabel('Misclassification Error')\n",
    "plt.show()\n",
    "print(\"the misclassification error for each C value is : \", np.round(MSE_test,3))"
   ]
  },
  {
   "cell_type": "code",
   "execution_count": 124,
   "metadata": {},
   "outputs": [
    {
     "name": "stdout",
     "output_type": "stream",
     "text": [
      "\n",
      "The accuracy of optimal Logistic Regression classifier for C = 100 is 89.496317%\n"
     ]
    }
   ],
   "source": [
    "Lr2_optimal = LogisticRegression(C=optimal_c,penalty='l2')\n",
    "Lr2_optimal.fit(sent_vectors, y_tr)\n",
    "pred = Lr2_optimal.predict(test_vectors)\n",
    "acc = accuracy_score(y_test, pred) * 100\n",
    "print('\\nThe accuracy of optimal Logistic Regression classifier for C = %d is %f%%' % (optimal_c, acc))"
   ]
  },
  {
   "cell_type": "markdown",
   "metadata": {},
   "source": [
    "#### confusion matrix on test dataset"
   ]
  },
  {
   "cell_type": "code",
   "execution_count": 125,
   "metadata": {},
   "outputs": [
    {
     "data": {
      "text/plain": [
       "<matplotlib.axes._subplots.AxesSubplot at 0x7f4b55342278>"
      ]
     },
     "execution_count": 125,
     "metadata": {},
     "output_type": "execute_result"
    },
    {
     "data": {
      "image/png": "[encoded data removed]",
      "text/plain": [
       "<Figure size 432x288 with 2 Axes>"
      ]
     },
     "metadata": {},
     "output_type": "display_data"
    }
   ],
   "source": [
    "from sklearn.metrics import confusion_matrix\n",
    "import seaborn as sn\n",
    "import pandas as pd\n",
    "import matplotlib.pyplot as plt\n",
    "cf_matrix=confusion_matrix(y_test, pred)\n",
    "df_cm = pd.DataFrame(cf_matrix,range(0,2),range(0,2))\n",
    "sn.heatmap(df_cm, annot=True)"
   ]
  },
  {
   "cell_type": "markdown",
   "metadata": {},
   "source": [
    "#### precision recall and f1-score values"
   ]
  },
  {
   "cell_type": "code",
   "execution_count": 126,
   "metadata": {},
   "outputs": [
    {
     "name": "stdout",
     "output_type": "stream",
     "text": [
      "precision of the Logistic Regression for bag of words is 0.8828403369864743\n",
      "recall of the Logistic Regression for bag of words is 0.8949631654388479\n",
      "fscore of the Logistic Regression for bag of words is 0.8801644877516911\n"
     ]
    }
   ],
   "source": [
    "from sklearn.metrics import precision_recall_fscore_support\n",
    "scr=precision_recall_fscore_support(y_test, pred, average='weighted')\n",
    "print(\"precision of the Logistic Regression for bag of words is\",scr[0])\n",
    "print(\"recall of the Logistic Regression for bag of words is\",scr[1])\n",
    "print(\"fscore of the Logistic Regression for bag of words is\",scr[2])"
   ]
  },
  {
   "cell_type": "markdown",
   "metadata": {},
   "source": [
    "#### confusion matrix on train dataset"
   ]
  },
  {
   "cell_type": "code",
   "execution_count": 127,
   "metadata": {},
   "outputs": [
    {
     "name": "stdout",
     "output_type": "stream",
     "text": [
      "\n",
      "The accuracy of optimal Logistic Regression classifier for C = 100 is 90.747143%\n"
     ]
    }
   ],
   "source": [
    "Lr2_optimal = LogisticRegression(C=optimal_c,penalty='l2')\n",
    "Lr2_optimal.fit(sent_vectors, y_tr)\n",
    "pred = Lr2_optimal.predict(sent_vectors)\n",
    "acc = accuracy_score(y_tr, pred) * 100\n",
    "print('\\nThe accuracy of optimal Logistic Regression classifier for C = %d is %f%%' % (optimal_c, acc))"
   ]
  },
  {
   "cell_type": "code",
   "execution_count": 128,
   "metadata": {},
   "outputs": [
    {
     "data": {
      "text/plain": [
       "<matplotlib.axes._subplots.AxesSubplot at 0x7f4b55288b00>"
      ]
     },
     "execution_count": 128,
     "metadata": {},
     "output_type": "execute_result"
    },
    {
     "data": {
      "image/png": "[encoded data removed]",
      "text/plain": [
       "<Figure size 432x288 with 2 Axes>"
      ]
     },
     "metadata": {},
     "output_type": "display_data"
    }
   ],
   "source": [
    "from sklearn.metrics import confusion_matrix\n",
    "import seaborn as sn\n",
    "import pandas as pd\n",
    "import matplotlib.pyplot as plt\n",
    "cf_matrix=confusion_matrix(y_tr, pred)\n",
    "df_cm = pd.DataFrame(cf_matrix,range(0,2),range(0,2))\n",
    "sn.heatmap(df_cm, annot=True)"
   ]
  },
  {
   "cell_type": "markdown",
   "metadata": {},
   "source": [
    "# Tfidf W2V"
   ]
  },
  {
   "cell_type": "code",
   "execution_count": 129,
   "metadata": {},
   "outputs": [],
   "source": [
    "tfidf_feat = tf_idf_vect.get_feature_names() \n",
    "tfidf_sent_vectors = [];\n",
    "row=0;\n",
    "i=1\n",
    "for sent in list_of_sent:\n",
    "    sent_vec = np.zeros(50) \n",
    "    weight_sum =0; \n",
    "    for word in sent:\n",
    "        try:\n",
    "            vec = w2v_model.wv[word]\n",
    "            tf_idf = final_tf_idf[row, tfidf_feat.index(word)]\n",
    "            sent_vec += (vec * tf_idf)\n",
    "            weight_sum += tf_idf\n",
    "        except:\n",
    "            pass\n",
    "    sent_vec /= weight_sum\n",
    "    tfidf_sent_vectors.append(sent_vec)\n",
    "    row += 1"
   ]
  },
  {
   "cell_type": "code",
   "execution_count": 130,
   "metadata": {},
   "outputs": [],
   "source": [
    "tfidf_feat = tf_idf_vect.get_feature_names()\n",
    "tfidf_test_vectors = []; \n",
    "row=0;\n",
    "for sent in list_of_test:\n",
    "    sent_vec = np.zeros(50)\n",
    "    weight_sum =0; \n",
    "    for word in sent: \n",
    "        try:\n",
    "            vec = w2v_model.wv[word]\n",
    "            tf_idf = final_test[row, tfidf_feat.index(word)]\n",
    "            sent_vec += (vec * tf_idf)\n",
    "            weight_sum += tf_idf\n",
    "        except:\n",
    "            pass\n",
    "    sent_vec /= weight_sum\n",
    "    tfidf_test_vectors.append(sent_vec)\n",
    "    row += 1"
   ]
  },
  {
   "cell_type": "code",
   "execution_count": 131,
   "metadata": {},
   "outputs": [],
   "source": [
    "df = pd.DataFrame(tfidf_sent_vectors)\n",
    "tfidf_sent_vectors=df.fillna(0)\n",
    "df = pd.DataFrame(tfidf_test_vectors)\n",
    "tfidf_test_vectors=df.fillna(0)"
   ]
  },
  {
   "cell_type": "code",
   "execution_count": 132,
   "metadata": {},
   "outputs": [],
   "source": [
    "from sklearn.preprocessing import StandardScaler\n",
    "scaler = StandardScaler()\n",
    "tfidf_sent_vectors = scaler.fit_transform( tfidf_sent_vectors )\n",
    "tfidf_test_vectors = scaler.transform( tfidf_test_vectors )"
   ]
  },
  {
   "cell_type": "code",
   "execution_count": 133,
   "metadata": {},
   "outputs": [
    {
     "name": "stdout",
     "output_type": "stream",
     "text": [
      "\n",
      "The optimal number of C is 1.\n"
     ]
    },
    {
     "data": {
      "image/png": "[encoded data removed]",
      "text/plain": [
       "<Figure size 432x288 with 1 Axes>"
      ]
     },
     "metadata": {},
     "output_type": "display_data"
    },
    {
     "name": "stdout",
     "output_type": "stream",
     "text": [
      "the misclassification error for each C value is :  [0.06  0.055 0.055 0.055 0.055]\n"
     ]
    }
   ],
   "source": [
    "C_val=[10**-4, 10**-2, 10**0, 10**2, 10**4]\n",
    "tuned_parameters={'C': C_val}\n",
    "lr = LogisticRegression(penalty='l2')\n",
    "model = GridSearchCV(lr, tuned_parameters, scoring = 'f1', cv=3,return_train_score=True)\n",
    "model.fit(tfidf_sent_vectors, y_tr)\n",
    "result=pd.DataFrame(model.cv_results_) \n",
    "MSE_test=[1-i for i in result['mean_test_score']]\n",
    "MSE_train=[1-i for i in result['mean_train_score']]\n",
    "optimal_c = C_val[MSE_test.index(min(MSE_test))]\n",
    "print('\\nThe optimal number of C is %d.' % optimal_c)\n",
    "vals = [str(x) for x in C_val]\n",
    "plt.plot(vals, MSE_test,label=\"test error\")\n",
    "plt.plot(vals, MSE_train,label=\"train error\")\n",
    "for xy in zip(vals, np.round(MSE_test,2)):\n",
    "    plt.annotate('(%s, %s)' % xy, xy=xy, textcoords='data')\n",
    "for xy in zip(vals, np.round(MSE_train,2)):\n",
    "    plt.annotate('(%s, %s)' % xy, xy=xy, textcoords='data')\n",
    "plt.legend()\n",
    "plt.xlabel('Value of C')\n",
    "plt.ylabel('Misclassification Error')\n",
    "plt.show()\n",
    "print(\"the misclassification error for each C value is : \", np.round(MSE_test,3))"
   ]
  },
  {
   "cell_type": "code",
   "execution_count": 134,
   "metadata": {},
   "outputs": [
    {
     "name": "stdout",
     "output_type": "stream",
     "text": [
      "\n",
      "The accuracy of optimal Logistic Regression classifier for C = 1 is 87.876263%\n"
     ]
    }
   ],
   "source": [
    "Lr2_optimal = LogisticRegression(C=optimal_c,penalty='l2')\n",
    "Lr2_optimal.fit(tfidf_sent_vectors, y_tr)\n",
    "pred = Lr1_optimal.predict(tfidf_test_vectors)\n",
    "acc = accuracy_score(y_test, pred) * 100\n",
    "print('\\nThe accuracy of optimal Logistic Regression classifier for C = %d is %f%%' % (optimal_c, acc))"
   ]
  },
  {
   "cell_type": "markdown",
   "metadata": {},
   "source": [
    "#### confusion matrix on test dataset"
   ]
  },
  {
   "cell_type": "code",
   "execution_count": 135,
   "metadata": {},
   "outputs": [
    {
     "data": {
      "text/plain": [
       "<matplotlib.axes._subplots.AxesSubplot at 0x7f4b5508e390>"
      ]
     },
     "execution_count": 135,
     "metadata": {},
     "output_type": "execute_result"
    },
    {
     "data": {
      "image/png": "[encoded data removed]",
      "text/plain": [
       "<Figure size 432x288 with 2 Axes>"
      ]
     },
     "metadata": {},
     "output_type": "display_data"
    }
   ],
   "source": [
    "from sklearn.metrics import confusion_matrix\n",
    "import seaborn as sn\n",
    "import pandas as pd\n",
    "import matplotlib.pyplot as plt\n",
    "cf_matrix=confusion_matrix(y_test, pred)\n",
    "df_cm = pd.DataFrame(cf_matrix,range(0,2),range(0,2))\n",
    "sn.heatmap(df_cm, annot=True)"
   ]
  },
  {
   "cell_type": "code",
   "execution_count": 136,
   "metadata": {},
   "outputs": [
    {
     "name": "stdout",
     "output_type": "stream",
     "text": [
      "precision of the Logistic Regression for bag of words is 0.8605122695161046\n",
      "recall of the Logistic Regression for bag of words is 0.8787626254208474\n",
      "fscore of the Logistic Regression for bag of words is 0.8482598777128867\n"
     ]
    }
   ],
   "source": [
    "from sklearn.metrics import precision_recall_fscore_support\n",
    "scr=precision_recall_fscore_support(y_test, pred, average='weighted')\n",
    "print(\"precision of the Logistic Regression for bag of words is\",scr[0])\n",
    "print(\"recall of the Logistic Regression for bag of words is\",scr[1])\n",
    "print(\"fscore of the Logistic Regression for bag of words is\",scr[2])"
   ]
  },
  {
   "cell_type": "markdown",
   "metadata": {},
   "source": [
    "#### confusion matrix on train dataset"
   ]
  },
  {
   "cell_type": "code",
   "execution_count": 138,
   "metadata": {},
   "outputs": [
    {
     "name": "stdout",
     "output_type": "stream",
     "text": [
      "\n",
      "The accuracy of optimal Logistic Regression classifier for C = 1 is 89.554286%\n"
     ]
    }
   ],
   "source": [
    "Lr2_optimal = LogisticRegression(C=optimal_c,penalty='l2')\n",
    "Lr2_optimal.fit(tfidf_sent_vectors, y_tr)\n",
    "pred = Lr1_optimal.predict(tfidf_sent_vectors)\n",
    "acc = accuracy_score(y_tr, pred) * 100\n",
    "print('\\nThe accuracy of optimal Logistic Regression classifier for C = %d is %f%%' % (optimal_c, acc))"
   ]
  },
  {
   "cell_type": "code",
   "execution_count": 139,
   "metadata": {},
   "outputs": [
    {
     "data": {
      "text/plain": [
       "<matplotlib.axes._subplots.AxesSubplot at 0x7f4b553fe278>"
      ]
     },
     "execution_count": 139,
     "metadata": {},
     "output_type": "execute_result"
    },
    {
     "data": {
      "image/png": "[encoded data removed]",
      "text/plain": [
       "<Figure size 432x288 with 2 Axes>"
      ]
     },
     "metadata": {},
     "output_type": "display_data"
    }
   ],
   "source": [
    "from sklearn.metrics import confusion_matrix\n",
    "import seaborn as sn\n",
    "import pandas as pd\n",
    "import matplotlib.pyplot as plt\n",
    "cf_matrix=confusion_matrix(y_tr, pred)\n",
    "df_cm = pd.DataFrame(cf_matrix,range(0,2),range(0,2))\n",
    "sn.heatmap(df_cm, annot=True)"
   ]
  },
  {
   "cell_type": "markdown",
   "metadata": {},
   "source": [
    "## L1 Regularization"
   ]
  },
  {
   "cell_type": "code",
   "execution_count": 140,
   "metadata": {
    "scrolled": false
   },
   "outputs": [
    {
     "name": "stdout",
     "output_type": "stream",
     "text": [
      "\n",
      "The optimal number of C is 1.\n"
     ]
    },
    {
     "data": {
      "image/png": "[encoded data removed]",
      "text/plain": [
       "<Figure size 432x288 with 1 Axes>"
      ]
     },
     "metadata": {},
     "output_type": "display_data"
    },
    {
     "name": "stdout",
     "output_type": "stream",
     "text": [
      "the misclassification error for each C value is :  [0.062 0.056 0.055 0.055 0.055]\n"
     ]
    }
   ],
   "source": [
    "C_val=[10**-4, 10**-2, 10**0, 10**2, 10**4]\n",
    "tuned_parameters={'C': C_val}\n",
    "lr = LogisticRegression(penalty='l1')\n",
    "model = GridSearchCV(lr, tuned_parameters, scoring = 'f1', cv=3,return_train_score=True)\n",
    "model.fit(tfidf_sent_vectors, y_tr)\n",
    "result=pd.DataFrame(model.cv_results_) \n",
    "MSE_test=[1-i for i in result['mean_test_score']]\n",
    "MSE_train=[1-i for i in result['mean_train_score']]\n",
    "optimal_c = C_val[MSE_test.index(min(MSE_test))]\n",
    "print('\\nThe optimal number of C is %d.' % optimal_c)\n",
    "vals = [str(x) for x in C_val]\n",
    "plt.plot(vals, MSE_test,label=\"test error\")\n",
    "plt.plot(vals, MSE_train,label=\"train error\")\n",
    "for xy in zip(vals, np.round(MSE_test,2)):\n",
    "    plt.annotate('(%s, %s)' % xy, xy=xy, textcoords='data')\n",
    "for xy in zip(vals, np.round(MSE_train,2)):\n",
    "    plt.annotate('(%s, %s)' % xy, xy=xy, textcoords='data')\n",
    "plt.legend()\n",
    "plt.xlabel('Value of C')\n",
    "plt.ylabel('Misclassification Error')\n",
    "plt.show()\n",
    "print(\"the misclassification error for each C value is : \", np.round(MSE_test,3))"
   ]
  },
  {
   "cell_type": "markdown",
   "metadata": {},
   "source": [
    "#### confusion matrix on test dataset"
   ]
  },
  {
   "cell_type": "code",
   "execution_count": 141,
   "metadata": {},
   "outputs": [
    {
     "name": "stdout",
     "output_type": "stream",
     "text": [
      "\n",
      "The accuracy of optimal Logistic Regression classifier for C = 1 is 88.479616%\n"
     ]
    }
   ],
   "source": [
    "Lr1_optimal = LogisticRegression(C=optimal_c,penalty='l1')\n",
    "Lr1_optimal.fit(tfidf_sent_vectors, y_tr)\n",
    "pred = Lr1_optimal.predict(tfidf_test_vectors)\n",
    "acc = accuracy_score(y_test, pred) * 100\n",
    "print('\\nThe accuracy of optimal Logistic Regression classifier for C = %d is %f%%' % (optimal_c, acc))"
   ]
  },
  {
   "cell_type": "code",
   "execution_count": 142,
   "metadata": {},
   "outputs": [
    {
     "data": {
      "text/plain": [
       "<matplotlib.axes._subplots.AxesSubplot at 0x7f4b552e7ba8>"
      ]
     },
     "execution_count": 142,
     "metadata": {},
     "output_type": "execute_result"
    },
    {
     "data": {
      "image/png": "[encoded data removed]",
      "text/plain": [
       "<Figure size 432x288 with 2 Axes>"
      ]
     },
     "metadata": {},
     "output_type": "display_data"
    }
   ],
   "source": [
    "from sklearn.metrics import confusion_matrix\n",
    "import seaborn as sn\n",
    "import pandas as pd\n",
    "import matplotlib.pyplot as plt\n",
    "cf_matrix=confusion_matrix(y_test, pred)\n",
    "df_cm = pd.DataFrame(cf_matrix,range(0,2),range(0,2))\n",
    "sn.heatmap(df_cm, annot=True)"
   ]
  },
  {
   "cell_type": "markdown",
   "metadata": {},
   "source": [
    "#### precision recall and f1-score values"
   ]
  },
  {
   "cell_type": "code",
   "execution_count": 143,
   "metadata": {},
   "outputs": [
    {
     "name": "stdout",
     "output_type": "stream",
     "text": [
      "precision of the Logistic Regression for bag of words is 0.8683375036988985\n",
      "recall of the Logistic Regression for bag of words is 0.8847961598719958\n",
      "fscore of the Logistic Regression for bag of words is 0.8632754266014775\n"
     ]
    }
   ],
   "source": [
    "from sklearn.metrics import precision_recall_fscore_support\n",
    "scr=precision_recall_fscore_support(y_test, pred, average='weighted')\n",
    "print(\"precision of the Logistic Regression for bag of words is\",scr[0])\n",
    "print(\"recall of the Logistic Regression for bag of words is\",scr[1])\n",
    "print(\"fscore of the Logistic Regression for bag of words is\",scr[2])"
   ]
  },
  {
   "cell_type": "markdown",
   "metadata": {},
   "source": [
    "#### confusion matrix on train dataset"
   ]
  },
  {
   "cell_type": "code",
   "execution_count": 145,
   "metadata": {},
   "outputs": [
    {
     "name": "stdout",
     "output_type": "stream",
     "text": [
      "\n",
      "The accuracy of optimal Logistic Regression classifier for C = 1 is 89.898571%\n"
     ]
    }
   ],
   "source": [
    "Lr1_optimal = LogisticRegression(C=optimal_c,penalty='l1')\n",
    "Lr1_optimal.fit(tfidf_sent_vectors, y_tr)\n",
    "pred = Lr1_optimal.predict(tfidf_sent_vectors)\n",
    "acc = accuracy_score(y_tr, pred) * 100\n",
    "print('\\nThe accuracy of optimal Logistic Regression classifier for C = %d is %f%%' % (optimal_c, acc))"
   ]
  },
  {
   "cell_type": "code",
   "execution_count": 146,
   "metadata": {},
   "outputs": [
    {
     "data": {
      "text/plain": [
       "<matplotlib.axes._subplots.AxesSubplot at 0x7f4b55eafc88>"
      ]
     },
     "execution_count": 146,
     "metadata": {},
     "output_type": "execute_result"
    },
    {
     "data": {
      "image/png": "[encoded data removed]",
      "text/plain": [
       "<Figure size 432x288 with 2 Axes>"
      ]
     },
     "metadata": {},
     "output_type": "display_data"
    }
   ],
   "source": [
    "from sklearn.metrics import confusion_matrix\n",
    "import seaborn as sn\n",
    "import pandas as pd\n",
    "import matplotlib.pyplot as plt\n",
    "cf_matrix=confusion_matrix(y_tr, pred)\n",
    "df_cm = pd.DataFrame(cf_matrix,range(0,2),range(0,2))\n",
    "sn.heatmap(df_cm, annot=True)"
   ]
  },
  {
   "cell_type": "markdown",
   "metadata": {},
   "source": [
    "#### sparsity check"
   ]
  },
  {
   "cell_type": "code",
   "execution_count": 147,
   "metadata": {},
   "outputs": [
    {
     "name": "stdout",
     "output_type": "stream",
     "text": [
      "Number of non zero elements obtained using L1 regularizer are:\n",
      " 50\n",
      "\n",
      "Number of non zero elements obtained using L2 regularizer are:\n",
      " 50\n"
     ]
    }
   ],
   "source": [
    "print(\"Number of non zero elements obtained using L1 regularizer are:\\n\",np.count_nonzero(Lr1_optimal.coef_))\n",
    "print(\"\\nNumber of non zero elements obtained using L2 regularizer are:\\n\",np.count_nonzero(Lr2_optimal.coef_))"
   ]
  },
  {
   "cell_type": "markdown",
   "metadata": {},
   "source": [
    "#### multicollinearity check"
   ]
  },
  {
   "cell_type": "code",
   "execution_count": 148,
   "metadata": {},
   "outputs": [
    {
     "name": "stdout",
     "output_type": "stream",
     "text": [
      "Spearman rank between the original weights and noise weights is: 0.9999999999999999\n"
     ]
    }
   ],
   "source": [
    "from scipy import stats\n",
    "original_weights = Lr2_optimal.coef_.ravel()\n",
    "noise_data=tfidf_sent_vectors+np.random.normal(0, 0.01)\n",
    "Lr2_optimal.fit(noise_data,y_tr)\n",
    "noise_weights = Lr2_optimal.coef_.ravel()\n",
    "SpearmanrResult=stats.spearmanr(noise_weights,original_weights)\n",
    "print(\"Spearman rank between the original weights and noise weights is:\",SpearmanrResult[0])"
   ]
  },
  {
   "cell_type": "markdown",
   "metadata": {},
   "source": [
    "# RandonSearchCV"
   ]
  },
  {
   "cell_type": "code",
   "execution_count": 149,
   "metadata": {},
   "outputs": [
    {
     "name": "stdout",
     "output_type": "stream",
     "text": [
      "\n",
      "The optimal number of C is 1.\n"
     ]
    },
    {
     "data": {
      "image/png": "[encoded data removed]",
      "text/plain": [
       "<Figure size 432x288 with 1 Axes>"
      ]
     },
     "metadata": {},
     "output_type": "display_data"
    },
    {
     "name": "stdout",
     "output_type": "stream",
     "text": [
      "the misclassification error for each C value is :  [0.06  0.055 0.055 0.055 0.055]\n"
     ]
    }
   ],
   "source": [
    "from sklearn.model_selection import RandomizedSearchCV\n",
    "C_val=[10**-4,10**-2, 10**0, 10**2 , 10**4]\n",
    "tuned_parameters = {'C': C_val}\n",
    "lr = LogisticRegression(penalty='l2')\n",
    "model = RandomizedSearchCV(lr,tuned_parameters, scoring = 'f1',n_iter=5, cv=3,return_train_score=True)\n",
    "model.fit(tfidf_sent_vectors, y_tr)\n",
    "result=pd.DataFrame(model.cv_results_) \n",
    "MSE_test=[1-i for i in result['mean_test_score']]\n",
    "MSE_train=[1-i for i in result['mean_train_score']]\n",
    "optimal_c = C_val[MSE_test.index(min(MSE_test))]\n",
    "print('\\nThe optimal number of C is %d.' % optimal_c)\n",
    "vals = [str(x) for x in C_val]\n",
    "plt.plot(vals, MSE_test,label=\"test error\")\n",
    "plt.plot(vals, MSE_train,label=\"train error\")\n",
    "for xy in zip(vals, np.round(MSE_test,2)):\n",
    "    plt.annotate('(%s, %s)' % xy, xy=xy, textcoords='data')\n",
    "for xy in zip(vals, np.round(MSE_train,2)):\n",
    "    plt.annotate('(%s, %s)' % xy, xy=xy, textcoords='data')\n",
    "plt.legend()\n",
    "plt.xlabel('Value of C')\n",
    "plt.ylabel('Misclassification Error')\n",
    "plt.show()\n",
    "print(\"the misclassification error for each C value is : \", np.round(MSE_test,3))"
   ]
  },
  {
   "cell_type": "markdown",
   "metadata": {},
   "source": [
    "#### confusion matrix on test dataset"
   ]
  },
  {
   "cell_type": "code",
   "execution_count": 150,
   "metadata": {},
   "outputs": [
    {
     "name": "stdout",
     "output_type": "stream",
     "text": [
      "\n",
      "The accuracy of optimal Logistic Regression classifier for C = 1 is 88.496283%\n"
     ]
    }
   ],
   "source": [
    "Lr2_optimal = LogisticRegression(C=optimal_c,penalty='l2')\n",
    "Lr2_optimal.fit(tfidf_sent_vectors, y_tr)\n",
    "pred = Lr2_optimal.predict(tfidf_test_vectors)\n",
    "acc = accuracy_score(y_test, pred) * 100\n",
    "print('\\nThe accuracy of optimal Logistic Regression classifier for C = %d is %f%%' % (optimal_c, acc))"
   ]
  },
  {
   "cell_type": "code",
   "execution_count": 151,
   "metadata": {},
   "outputs": [
    {
     "data": {
      "text/plain": [
       "<matplotlib.axes._subplots.AxesSubplot at 0x7f4b550795c0>"
      ]
     },
     "execution_count": 151,
     "metadata": {},
     "output_type": "execute_result"
    },
    {
     "data": {
      "image/png": "[encoded data removed]",
      "text/plain": [
       "<Figure size 432x288 with 2 Axes>"
      ]
     },
     "metadata": {},
     "output_type": "display_data"
    }
   ],
   "source": [
    "from sklearn.metrics import confusion_matrix\n",
    "import seaborn as sn\n",
    "import pandas as pd\n",
    "import matplotlib.pyplot as plt\n",
    "cf_matrix=confusion_matrix(y_test, pred)\n",
    "df_cm = pd.DataFrame(cf_matrix,range(0,2),range(0,2))\n",
    "sn.heatmap(df_cm, annot=True)"
   ]
  },
  {
   "cell_type": "markdown",
   "metadata": {},
   "source": [
    "#### precision recall and f1-score values"
   ]
  },
  {
   "cell_type": "code",
   "execution_count": 152,
   "metadata": {},
   "outputs": [
    {
     "name": "stdout",
     "output_type": "stream",
     "text": [
      "precision of the Logistic Regression for bag of words is 0.8686059940453706\n",
      "recall of the Logistic Regression for bag of words is 0.8849628320944032\n",
      "fscore of the Logistic Regression for bag of words is 0.8635124676299788\n"
     ]
    }
   ],
   "source": [
    "from sklearn.metrics import precision_recall_fscore_support\n",
    "scr=precision_recall_fscore_support(y_test, pred, average='weighted')\n",
    "print(\"precision of the Logistic Regression for bag of words is\",scr[0])\n",
    "print(\"recall of the Logistic Regression for bag of words is\",scr[1])\n",
    "print(\"fscore of the Logistic Regression for bag of words is\",scr[2])"
   ]
  },
  {
   "cell_type": "markdown",
   "metadata": {},
   "source": [
    "#### confusion matrix on train dataset"
   ]
  },
  {
   "cell_type": "code",
   "execution_count": 154,
   "metadata": {},
   "outputs": [
    {
     "name": "stdout",
     "output_type": "stream",
     "text": [
      "\n",
      "The accuracy of optimal Logistic Regression classifier for C = 1 is 89.898571%\n"
     ]
    }
   ],
   "source": [
    "Lr2_optimal = LogisticRegression(C=optimal_c,penalty='l2')\n",
    "Lr2_optimal.fit(tfidf_sent_vectors, y_tr)\n",
    "pred = Lr2_optimal.predict(tfidf_sent_vectors)\n",
    "acc = accuracy_score(y_tr, pred) * 100\n",
    "print('\\nThe accuracy of optimal Logistic Regression classifier for C = %d is %f%%' % (optimal_c, acc))"
   ]
  },
  {
   "cell_type": "code",
   "execution_count": 155,
   "metadata": {},
   "outputs": [
    {
     "data": {
      "text/plain": [
       "<matplotlib.axes._subplots.AxesSubplot at 0x7f4b555405c0>"
      ]
     },
     "execution_count": 155,
     "metadata": {},
     "output_type": "execute_result"
    },
    {
     "data": {
      "image/png": "[encoded data removed]",
      "text/plain": [
       "<Figure size 432x288 with 2 Axes>"
      ]
     },
     "metadata": {},
     "output_type": "display_data"
    }
   ],
   "source": [
    "from sklearn.metrics import confusion_matrix\n",
    "import seaborn as sn\n",
    "import pandas as pd\n",
    "import matplotlib.pyplot as plt\n",
    "cf_matrix=confusion_matrix(y_tr, pred)\n",
    "df_cm = pd.DataFrame(cf_matrix,range(0,2),range(0,2))\n",
    "sn.heatmap(df_cm, annot=True)"
   ]
  },
  {
   "cell_type": "markdown",
   "metadata": {},
   "source": [
    "# Summary table"
   ]
  },
  {
   "cell_type": "markdown",
   "metadata": {},
   "source": [
    "<table style=\"width:100%\">\n",
    "  <tr>\n",
    "    <th>Model</th>\n",
    "    <th>Hyper parameter</th> \n",
    "    <th>Train accuracy</th>\n",
    "    <th>Test accuracy</th>\n",
    "  </tr>\n",
    "  <tr>\n",
    "    <td>Bag of words with L2 norm</td>\n",
    "    <td>C=1</td> \n",
    "    <td>96.22</td>\n",
    "    <td>91.96</td>\n",
    "  </tr>\n",
    "  <tr>\n",
    "    <td>Bag of words with L1 norm</td>\n",
    "    <td>C=1</td> \n",
    "    <td>95.44</td>\n",
    "    <td>91.96</td>\n",
    "  </tr>\n",
    "  <tr>\n",
    "    <td>Bag of words with Randomsearchcv</td>\n",
    "    <td>C=1</td> \n",
    "    <td>96.22</td>\n",
    "    <td>91.96</td>\n",
    "  </tr>\n",
    "  <tr>\n",
    "    <td>tfidf with L2 norm</td>\n",
    "    <td>C=1</td> \n",
    "    <td>93.75</td>\n",
    "    <td>91.87</td>\n",
    "  </tr>\n",
    "  <tr>\n",
    "    <td>tfidf with L1 norm</td>\n",
    "    <td>C=1</td> \n",
    "    <td>95.43</td>\n",
    "    <td>92.19</td>\n",
    "  </tr>\n",
    "   <tr>\n",
    "    <td>tfidf with Randomsearchcv</td>\n",
    "    <td>C=1</td> \n",
    "    <td>93.75</td>\n",
    "    <td>91.87</td>\n",
    "  </tr>\n",
    "  <tr>\n",
    "    <td>Avg W2V with L2 norm</td>\n",
    "    <td>C=100</td> \n",
    "    <td>90.74</td>\n",
    "    <td>89.49</td>\n",
    "  </tr>\n",
    "  <tr>\n",
    "    <td>Avg W2V with L1 norm</td>\n",
    "    <td>C=100</td> \n",
    "    <td>97.88</td>\n",
    "    <td>89.49</td>\n",
    "  </tr>\n",
    "  <tr>\n",
    "    <td>Avg W2V with Randomsearchcv</td>\n",
    "    <td>C=100</td> \n",
    "    <td>90.74</td>\n",
    "    <td>89.49</td>\n",
    "  </tr>\n",
    "  <tr>\n",
    "    <td>Tfidf W2V with L2 norm</td>\n",
    "    <td>C=1</td> \n",
    "    <td>89.55</td>\n",
    "    <td>87.87</td>\n",
    "  </tr>\n",
    "  <tr>\n",
    "    <td>Tfidf W2V with L1 norm</td>\n",
    "    <td>C=1</td> \n",
    "    <td>89.89</td>\n",
    "    <td>88.47</td>\n",
    "  </tr>\n",
    "  <tr>\n",
    "    <td>Tfidf W2V with Randomsearchcv</td>\n",
    "    <td>C=1</td> \n",
    "    <td>89.55</td>\n",
    "    <td>87.87</td>\n",
    "  </tr>\n",
    "</table>\n"
   ]
  },
  {
   "cell_type": "code",
   "execution_count": null,
   "metadata": {},
   "outputs": [],
   "source": []
  }
 ],
 "metadata": {
  "kernelspec": {
   "display_name": "Python 3",
   "language": "python",
   "name": "python3"
  },
  "language_info": {
   "codemirror_mode": {
    "name": "ipython",
    "version": 3
   },
   "file_extension": ".py",
   "mimetype": "text/x-python",
   "name": "python",
   "nbconvert_exporter": "python",
   "pygments_lexer": "ipython3",
   "version": "3.6.5"
  }
 },
 "nbformat": 4,
 "nbformat_minor": 2
}
